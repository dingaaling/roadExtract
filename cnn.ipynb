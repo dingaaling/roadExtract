{
  "nbformat": 4,
  "nbformat_minor": 0,
  "metadata": {
    "colab": {
      "name": "cnn.ipynb",
      "version": "0.3.2",
      "provenance": []
    },
    "kernelspec": {
      "name": "python3",
      "display_name": "Python 3"
    },
    "accelerator": "GPU"
  },
  "cells": [
    {
      "cell_type": "markdown",
      "metadata": {
        "id": "view-in-github",
        "colab_type": "text"
      },
      "source": [
        "[View in Colaboratory](https://colab.research.google.com/github/dingaaling/roadExtract/blob/master/cnn.ipynb)"
      ]
    },
    {
      "metadata": {
        "id": "zxnQvWUOP3dH",
        "colab_type": "code",
        "colab": {
          "base_uri": "https://localhost:8080/",
          "height": 102
        },
        "outputId": "0d359400-546f-4f3c-a4a0-add61c92c0d7"
      },
      "cell_type": "code",
      "source": [
        "!apt-get install -y -qq software-properties-common python-software-properties module-init-tools\n",
        "!add-apt-repository -y ppa:alessandro-strada/ppa 2>&1 > /dev/null\n",
        "!apt-get update -qq 2>&1 > /dev/null\n",
        "!apt-get -y install -qq google-drive-ocamlfuse fuse\n",
        "from google.colab import auth\n",
        "auth.authenticate_user()\n",
        "from oauth2client.client import GoogleCredentials\n",
        "creds = GoogleCredentials.get_application_default()\n",
        "import getpass\n",
        "!google-drive-ocamlfuse -headless -id={creds.client_id} -secret={creds.client_secret} < /dev/null 2>&1 | grep URL\n",
        "vcode = getpass.getpass()\n",
        "!echo {vcode} | google-drive-ocamlfuse -headless -id={creds.client_id} -secret={creds.client_secret}"
      ],
      "execution_count": 1,
      "outputs": [
        {
          "output_type": "stream",
          "text": [
            "Please, open the following URL in a web browser: https://accounts.google.com/o/oauth2/auth?client_id=32555940559.apps.googleusercontent.com&redirect_uri=urn%3Aietf%3Awg%3Aoauth%3A2.0%3Aoob&scope=https%3A%2F%2Fwww.googleapis.com%2Fauth%2Fdrive&response_type=code&access_type=offline&approval_prompt=force\r\n",
            "··········\n",
            "Please, open the following URL in a web browser: https://accounts.google.com/o/oauth2/auth?client_id=32555940559.apps.googleusercontent.com&redirect_uri=urn%3Aietf%3Awg%3Aoauth%3A2.0%3Aoob&scope=https%3A%2F%2Fwww.googleapis.com%2Fauth%2Fdrive&response_type=code&access_type=offline&approval_prompt=force\n",
            "Please enter the verification code: Access token retrieved correctly.\n"
          ],
          "name": "stdout"
        }
      ]
    },
    {
      "metadata": {
        "id": "0Y1m7GIcQCoG",
        "colab_type": "code",
        "colab": {}
      },
      "cell_type": "code",
      "source": [
        "!mkdir -p drive\n",
        "!google-drive-ocamlfuse drive"
      ],
      "execution_count": 0,
      "outputs": []
    },
    {
      "metadata": {
        "id": "GZbnbubeQDzn",
        "colab_type": "code",
        "colab": {
          "base_uri": "https://localhost:8080/",
          "height": 33
        },
        "outputId": "fb103406-b062-4000-fcd3-5165eb5a1817"
      },
      "cell_type": "code",
      "source": [
        "import os, cv2, sklearn, random\n",
        "import numpy as np\n",
        "import matplotlib.image as mpimg\n",
        "import matplotlib.pyplot as plt\n",
        "import keras\n",
        "from keras.models import Sequential, load_model\n",
        "from keras.layers import Dense, Dropout, Activation, Flatten\n",
        "from keras.layers import Conv2D, Convolution2D, MaxPooling2D\n",
        "from keras.optimizers import SGD, Adam\n",
        "from keras.utils import np_utils\n",
        "from keras import backend as K\n",
        "from keras.regularizers import l2\n",
        "from keras.layers import LeakyReLU\n",
        "from keras.callbacks import ReduceLROnPlateau, EarlyStopping\n",
        "from keras.utils import np_utils\n",
        "from keras.models import load_model"
      ],
      "execution_count": 1,
      "outputs": [
        {
          "output_type": "stream",
          "text": [
            "Using TensorFlow backend.\n"
          ],
          "name": "stderr"
        }
      ]
    },
    {
      "metadata": {
        "id": "-_DFMVHhQFUm",
        "colab_type": "code",
        "colab": {}
      },
      "cell_type": "code",
      "source": [
        "root_dir = os.getcwd() + \"/drive/road_extract/data/sample/\"\n",
        "image_dir = root_dir + \"train_sample/\"\n",
        "mask_dir = root_dir + \"mask_sample/\"\n",
        "\n",
        "imgs_list, mask_imgs_list = [], []\n",
        "\n",
        "\n",
        "for i, im in enumerate(os.listdir(image_dir)):\n",
        "  if i < 200:\n",
        "    imPath = image_dir + im\n",
        "    maskPath = mask_dir + im.split('_')[0] + \"_mask.png\"\n",
        "\n",
        "    imgs_list.append(load_image(imPath))\n",
        "    mask_imgs_list.append(load_gray_image(maskPath))\n",
        "\n",
        "\n",
        "imgs = np.asarray(imgs_list)\n",
        "mask_imgs = np.asarray(mask_imgs_list)"
      ],
      "execution_count": 0,
      "outputs": []
    },
    {
      "metadata": {
        "id": "qANPYZmF0qh2",
        "colab_type": "code",
        "colab": {}
      },
      "cell_type": "code",
      "source": [
        "del imgs_list\n",
        "del mask_imgs_list"
      ],
      "execution_count": 0,
      "outputs": []
    },
    {
      "metadata": {
        "id": "lsWzDq0oxvrb",
        "colab_type": "code",
        "colab": {
          "base_uri": "https://localhost:8080/",
          "height": 50
        },
        "outputId": "0414c0f2-7f46-401b-dc03-5b2e0f5f05be"
      },
      "cell_type": "code",
      "source": [
        "print(imgs.shape)\n",
        "print(mask_imgs.shape)"
      ],
      "execution_count": 6,
      "outputs": [
        {
          "output_type": "stream",
          "text": [
            "(200, 1024, 1024, 3)\n",
            "(200, 1024, 1024)\n"
          ],
          "name": "stdout"
        }
      ]
    },
    {
      "metadata": {
        "id": "6AjiqH8-y5vH",
        "colab_type": "text"
      },
      "cell_type": "markdown",
      "source": [
        "# Create Array of Windows and Labels"
      ]
    },
    {
      "metadata": {
        "id": "Yx0qDPIvy9EG",
        "colab_type": "code",
        "colab": {}
      },
      "cell_type": "code",
      "source": [
        "patch_w, patch_h, patch_stride, patch_pad = 16, 16, 16, 0\n",
        "img_patches = img_crop(imgs[0],patch_w,patch_h,patch_stride,patch_pad)\n",
        "for i in range(1,imgs.shape[0]):\n",
        "  img_patches = np.concatenate((img_patches,img_crop(imgs[i],patch_w,patch_h,patch_stride,patch_pad)))\n",
        "X = img_patches\n",
        "Y = np.asarray([load_mask(mask_imgs[i],patch_w,patch_h,patch_stride,0) for i in range(mask_imgs.shape[0])])\n",
        "Y = np.reshape(Y,-1)"
      ],
      "execution_count": 0,
      "outputs": []
    },
    {
      "metadata": {
        "id": "qZ6tdMd4zUON",
        "colab_type": "code",
        "colab": {
          "base_uri": "https://localhost:8080/",
          "height": 66
        },
        "outputId": "d9961458-cf88-4559-f078-c8c99ba0df32"
      },
      "cell_type": "code",
      "source": [
        "print(X.shape)\n",
        "print(Y.shape)\n",
        "print(sum(Y))"
      ],
      "execution_count": 8,
      "outputs": [
        {
          "output_type": "stream",
          "text": [
            "(793800, 16, 16, 3)\n",
            "(793800,)\n",
            "37126\n"
          ],
          "name": "stdout"
        }
      ]
    },
    {
      "metadata": {
        "id": "74gJy09tz3qM",
        "colab_type": "code",
        "colab": {}
      },
      "cell_type": "code",
      "source": [
        "Y_2d = np_utils.to_categorical(Y, num_classes=2)"
      ],
      "execution_count": 0,
      "outputs": []
    },
    {
      "metadata": {
        "id": "a-BzDyuzN33d",
        "colab_type": "code",
        "colab": {}
      },
      "cell_type": "code",
      "source": [
        "del img_patches\n",
        "del imgs\n",
        "del mask_imgs"
      ],
      "execution_count": 0,
      "outputs": []
    },
    {
      "metadata": {
        "id": "-RSTYPXkz7Vl",
        "colab_type": "code",
        "colab": {
          "base_uri": "https://localhost:8080/",
          "height": 82
        },
        "outputId": "d76dd388-af44-456a-ddb6-1b8282262a09"
      },
      "cell_type": "code",
      "source": [
        "X_road = np.zeros((np.count_nonzero(Y_2d[:,1]),X.shape[1],X.shape[2],X.shape[3]))\n",
        "Y_road_2d = np.zeros((np.count_nonzero(Y_2d[:,1]),Y_2d.shape[1]))\n",
        "X_nonroad = np.zeros(((X.shape[0]-np.count_nonzero(Y_2d[:,1])),X.shape[1],X.shape[2],X.shape[3]))\n",
        "Y_nonroad_2d = np.zeros(((X.shape[0]-np.count_nonzero(Y_2d[:,1])),Y_2d.shape[1]))\n",
        "print(X_road.shape)\n",
        "print(Y_road_2d.shape)\n",
        "print(X_nonroad.shape)\n",
        "print(Y_nonroad_2d.shape)\n",
        "road_ind = 0\n",
        "nonroad_ind = 0\n",
        "for i in range(X.shape[0]):\n",
        "  if Y[i]>0.5:\n",
        "    X_road[road_ind,:,:,:] = X[i,:,:,:]\n",
        "    Y_road_2d[road_ind,:] = Y_2d[i,:]\n",
        "    road_ind = road_ind+1\n",
        "  else:\n",
        "    X_nonroad[nonroad_ind,:,:,:] = X[i,:,:,:]\n",
        "    Y_nonroad_2d[nonroad_ind,:] = Y_2d[i,:]\n",
        "    nonroad_ind = nonroad_ind+1"
      ],
      "execution_count": 11,
      "outputs": [
        {
          "output_type": "stream",
          "text": [
            "(37126, 16, 16, 3)\n",
            "(37126, 2)\n",
            "(756674, 16, 16, 3)\n",
            "(756674, 2)\n"
          ],
          "name": "stdout"
        }
      ]
    },
    {
      "metadata": {
        "id": "OP44QdLh0B2q",
        "colab_type": "code",
        "colab": {}
      },
      "cell_type": "code",
      "source": [
        "X_nonroad_sample = np.zeros(X_road.shape)\n",
        "Y_2d_nonroad_sample = np.zeros(Y_road_2d.shape)\n",
        "rand_ind_nonroad = random.sample(np.ndarray.tolist(np.arange(X_nonroad.shape[0])),np.count_nonzero(Y_2d[:,1]))\n",
        "x_ind = 0\n",
        "y_ind = 0\n",
        "for ind in rand_ind_nonroad:\n",
        "  X_nonroad_sample[x_ind,:,:,:] = X_nonroad[ind,:,:,:]\n",
        "  Y_2d_nonroad_sample[y_ind,:] = Y_nonroad_2d[ind,:]\n",
        "  x_ind = x_ind+1\n",
        "  y_ind = y_ind+1"
      ],
      "execution_count": 0,
      "outputs": []
    },
    {
      "metadata": {
        "id": "gtfdttWI0Eaz",
        "colab_type": "code",
        "colab": {}
      },
      "cell_type": "code",
      "source": [
        "X_even = np.zeros((2*np.count_nonzero(Y_2d[:,1]),X.shape[1],X.shape[2],X.shape[3]))\n",
        "Y_even_2d = np.zeros((2*np.count_nonzero(Y_2d[:,1]),Y_2d.shape[1]))\n",
        "X_even[0:np.count_nonzero(Y_2d[:,1]),:,:,:] = X_road\n",
        "Y_even_2d[0:np.count_nonzero(Y_2d[:,1]),:] = Y_road_2d\n",
        "X_even[np.count_nonzero(Y_2d[:,1]):2*np.count_nonzero(Y_2d[:,1]),:,:,:] = X_nonroad_sample\n",
        "Y_even_2d[np.count_nonzero(Y_2d[:,1]):2*np.count_nonzero(Y_2d[:,1]),:] = Y_2d_nonroad_sample"
      ],
      "execution_count": 0,
      "outputs": []
    },
    {
      "metadata": {
        "id": "6aFhvHRf1PAa",
        "colab_type": "code",
        "colab": {}
      },
      "cell_type": "code",
      "source": [
        "del X, Y, X_road, Y_road_2d, X_nonroad, Y_nonroad_2d, X_nonroad_sample, Y_2d_nonroad_sample"
      ],
      "execution_count": 0,
      "outputs": []
    },
    {
      "metadata": {
        "id": "a80pkmUd2ZmN",
        "colab_type": "code",
        "colab": {
          "base_uri": "https://localhost:8080/",
          "height": 50
        },
        "outputId": "ada20d30-919b-4da5-c868-9b221a533659"
      },
      "cell_type": "code",
      "source": [
        "print(X_even.shape)\n",
        "print(Y_even_2d.shape)"
      ],
      "execution_count": 15,
      "outputs": [
        {
          "output_type": "stream",
          "text": [
            "(74252, 16, 16, 3)\n",
            "(74252, 2)\n"
          ],
          "name": "stdout"
        }
      ]
    },
    {
      "metadata": {
        "id": "iFjLDkEl1QK0",
        "colab_type": "text"
      },
      "cell_type": "markdown",
      "source": [
        "# CNN Model"
      ]
    },
    {
      "metadata": {
        "id": "3KGZFInF1SVE",
        "colab_type": "code",
        "colab": {
          "base_uri": "https://localhost:8080/",
          "height": 216
        },
        "outputId": "a9c586b0-a046-4d60-e4d5-1b21ee61fb85"
      },
      "cell_type": "code",
      "source": [
        "pool_size = (2, 2)\n",
        "reg = 1e-6 # L2 regularization factor (used on weights, but not biases)\n",
        "nb_classes = 2\n",
        "\n",
        "model = Sequential()\n",
        "\n",
        "model.add(Convolution2D(64, 5, 5, # 64 5x5 filters\n",
        "                        border_mode='same',\n",
        "                        input_shape=(patch_w,patch_h, 3)))\n",
        "model.add(LeakyReLU(alpha=0.1))\n",
        "model.add(MaxPooling2D(pool_size=pool_size, border_mode='same'))\n",
        "model.add(Dropout(0.25))\n",
        "\n",
        "model.add(Convolution2D(128, 3, 3, # 128 3x3 filters\n",
        "                        border_mode='same'))\n",
        "model.add(LeakyReLU(alpha=0.1))\n",
        "model.add(MaxPooling2D(pool_size=pool_size, border_mode='same'))\n",
        "model.add(Dropout(0.25))\n",
        "\n",
        "model.add(Convolution2D(256, 3, 3, # 256 3x3 filters\n",
        "                        border_mode='same'))\n",
        "model.add(LeakyReLU(alpha=0.1))\n",
        "model.add(MaxPooling2D(pool_size=pool_size, border_mode='same'))\n",
        "model.add(Dropout(0.25))\n",
        "\n",
        "model.add(Flatten())\n",
        "model.add(Dense(128, W_regularizer=l2(reg))) # Fully connected layer (128 neurons)\n",
        "model.add(LeakyReLU(alpha=0.1))\n",
        "model.add(Dropout(0.5))\n",
        "\n",
        "model.add(Dense(nb_classes, W_regularizer=l2(reg)))\n",
        "model.add(Activation('softmax'))"
      ],
      "execution_count": 16,
      "outputs": [
        {
          "output_type": "stream",
          "text": [
            "/usr/local/lib/python3.6/dist-packages/ipykernel_launcher.py:9: UserWarning: Update your `Conv2D` call to the Keras 2 API: `Conv2D(64, (5, 5), input_shape=(16, 16, 3..., padding=\"same\")`\n",
            "  if __name__ == '__main__':\n",
            "/usr/local/lib/python3.6/dist-packages/ipykernel_launcher.py:11: UserWarning: Update your `MaxPooling2D` call to the Keras 2 API: `MaxPooling2D(pool_size=(2, 2), padding=\"same\")`\n",
            "  # This is added back by InteractiveShellApp.init_path()\n",
            "/usr/local/lib/python3.6/dist-packages/ipykernel_launcher.py:15: UserWarning: Update your `Conv2D` call to the Keras 2 API: `Conv2D(128, (3, 3), padding=\"same\")`\n",
            "  from ipykernel import kernelapp as app\n",
            "/usr/local/lib/python3.6/dist-packages/ipykernel_launcher.py:17: UserWarning: Update your `MaxPooling2D` call to the Keras 2 API: `MaxPooling2D(pool_size=(2, 2), padding=\"same\")`\n",
            "/usr/local/lib/python3.6/dist-packages/ipykernel_launcher.py:21: UserWarning: Update your `Conv2D` call to the Keras 2 API: `Conv2D(256, (3, 3), padding=\"same\")`\n",
            "/usr/local/lib/python3.6/dist-packages/ipykernel_launcher.py:23: UserWarning: Update your `MaxPooling2D` call to the Keras 2 API: `MaxPooling2D(pool_size=(2, 2), padding=\"same\")`\n",
            "/usr/local/lib/python3.6/dist-packages/ipykernel_launcher.py:27: UserWarning: Update your `Dense` call to the Keras 2 API: `Dense(128, kernel_regularizer=<keras.reg...)`\n",
            "/usr/local/lib/python3.6/dist-packages/ipykernel_launcher.py:31: UserWarning: Update your `Dense` call to the Keras 2 API: `Dense(2, kernel_regularizer=<keras.reg...)`\n"
          ],
          "name": "stderr"
        }
      ]
    },
    {
      "metadata": {
        "id": "S1fPJOZu1YD5",
        "colab_type": "code",
        "colab": {
          "base_uri": "https://localhost:8080/",
          "height": 716
        },
        "outputId": "12544409-3fe5-4216-af39-81e62889e27b"
      },
      "cell_type": "code",
      "source": [
        "model.summary()"
      ],
      "execution_count": 17,
      "outputs": [
        {
          "output_type": "stream",
          "text": [
            "_________________________________________________________________\n",
            "Layer (type)                 Output Shape              Param #   \n",
            "=================================================================\n",
            "conv2d_1 (Conv2D)            (None, 16, 16, 64)        4864      \n",
            "_________________________________________________________________\n",
            "leaky_re_lu_1 (LeakyReLU)    (None, 16, 16, 64)        0         \n",
            "_________________________________________________________________\n",
            "max_pooling2d_1 (MaxPooling2 (None, 8, 8, 64)          0         \n",
            "_________________________________________________________________\n",
            "dropout_1 (Dropout)          (None, 8, 8, 64)          0         \n",
            "_________________________________________________________________\n",
            "conv2d_2 (Conv2D)            (None, 8, 8, 128)         73856     \n",
            "_________________________________________________________________\n",
            "leaky_re_lu_2 (LeakyReLU)    (None, 8, 8, 128)         0         \n",
            "_________________________________________________________________\n",
            "max_pooling2d_2 (MaxPooling2 (None, 4, 4, 128)         0         \n",
            "_________________________________________________________________\n",
            "dropout_2 (Dropout)          (None, 4, 4, 128)         0         \n",
            "_________________________________________________________________\n",
            "conv2d_3 (Conv2D)            (None, 4, 4, 256)         295168    \n",
            "_________________________________________________________________\n",
            "leaky_re_lu_3 (LeakyReLU)    (None, 4, 4, 256)         0         \n",
            "_________________________________________________________________\n",
            "max_pooling2d_3 (MaxPooling2 (None, 2, 2, 256)         0         \n",
            "_________________________________________________________________\n",
            "dropout_3 (Dropout)          (None, 2, 2, 256)         0         \n",
            "_________________________________________________________________\n",
            "flatten_1 (Flatten)          (None, 1024)              0         \n",
            "_________________________________________________________________\n",
            "dense_1 (Dense)              (None, 128)               131200    \n",
            "_________________________________________________________________\n",
            "leaky_re_lu_4 (LeakyReLU)    (None, 128)               0         \n",
            "_________________________________________________________________\n",
            "dropout_4 (Dropout)          (None, 128)               0         \n",
            "_________________________________________________________________\n",
            "dense_2 (Dense)              (None, 2)                 258       \n",
            "_________________________________________________________________\n",
            "activation_1 (Activation)    (None, 2)                 0         \n",
            "=================================================================\n",
            "Total params: 505,346\n",
            "Trainable params: 505,346\n",
            "Non-trainable params: 0\n",
            "_________________________________________________________________\n"
          ],
          "name": "stdout"
        }
      ]
    },
    {
      "metadata": {
        "id": "Ig-OZZlV1abh",
        "colab_type": "code",
        "colab": {}
      },
      "cell_type": "code",
      "source": [
        "adam = Adam(lr=0.00001, beta_1=0.9, beta_2=0.999, epsilon=1e-08, decay=0.0)\n",
        "model.compile(optimizer=adam,loss='binary_crossentropy',metrics=['accuracy'])"
      ],
      "execution_count": 0,
      "outputs": []
    },
    {
      "metadata": {
        "id": "91IYl8Ig1hI0",
        "colab_type": "code",
        "colab": {
          "base_uri": "https://localhost:8080/",
          "height": 6553
        },
        "outputId": "4aef7d7a-161d-4de9-eeb2-037679845df6"
      },
      "cell_type": "code",
      "source": [
        "model.fit(X_even,Y_even_2d, batch_size=128, epochs=200)"
      ],
      "execution_count": 19,
      "outputs": [
        {
          "output_type": "stream",
          "text": [
            "Epoch 1/200\n",
            "74252/74252 [==============================] - 20s 274us/step - loss: 3.7196 - acc: 0.5273\n",
            "Epoch 2/200\n",
            "74252/74252 [==============================] - 17s 224us/step - loss: 1.0973 - acc: 0.5600\n",
            "Epoch 3/200\n",
            "11904/74252 [===>..........................] - ETA: 13s - loss: 0.8863 - acc: 0.5846"
          ],
          "name": "stdout"
        },
        {
          "output_type": "stream",
          "text": [
            "74252/74252 [==============================] - 17s 223us/step - loss: 0.8386 - acc: 0.5883\n",
            "Epoch 4/200\n",
            "74252/74252 [==============================] - 16s 222us/step - loss: 0.7500 - acc: 0.6078\n",
            "Epoch 5/200\n",
            "21888/74252 [=======>......................] - ETA: 11s - loss: 0.7129 - acc: 0.6225"
          ],
          "name": "stdout"
        },
        {
          "output_type": "stream",
          "text": [
            "74252/74252 [==============================] - 17s 223us/step - loss: 0.7030 - acc: 0.6256\n",
            "Epoch 6/200\n",
            "74252/74252 [==============================] - 17s 223us/step - loss: 0.6721 - acc: 0.6409\n",
            "Epoch 7/200\n",
            "24960/74252 [=========>....................] - ETA: 10s - loss: 0.6510 - acc: 0.6542"
          ],
          "name": "stdout"
        },
        {
          "output_type": "stream",
          "text": [
            "74252/74252 [==============================] - 17s 223us/step - loss: 0.6458 - acc: 0.6565\n",
            "Epoch 8/200\n",
            "74252/74252 [==============================] - 17s 223us/step - loss: 0.6350 - acc: 0.6634\n",
            "Epoch 9/200\n",
            "25984/74252 [=========>....................] - ETA: 10s - loss: 0.6252 - acc: 0.6691"
          ],
          "name": "stdout"
        },
        {
          "output_type": "stream",
          "text": [
            "74252/74252 [==============================] - 16s 222us/step - loss: 0.6236 - acc: 0.6725\n",
            "Epoch 10/200\n",
            "74252/74252 [==============================] - 17s 222us/step - loss: 0.6132 - acc: 0.6815\n",
            "Epoch 11/200\n",
            "25728/74252 [=========>....................] - ETA: 10s - loss: 0.6110 - acc: 0.6841"
          ],
          "name": "stdout"
        },
        {
          "output_type": "stream",
          "text": [
            "74252/74252 [==============================] - 17s 223us/step - loss: 0.6057 - acc: 0.6874\n",
            "Epoch 12/200\n",
            "74252/74252 [==============================] - 17s 222us/step - loss: 0.5974 - acc: 0.6949\n",
            "Epoch 13/200\n",
            "25728/74252 [=========>....................] - ETA: 10s - loss: 0.5955 - acc: 0.6979"
          ],
          "name": "stdout"
        },
        {
          "output_type": "stream",
          "text": [
            "74252/74252 [==============================] - 17s 224us/step - loss: 0.5919 - acc: 0.6996\n",
            "Epoch 14/200\n",
            "74252/74252 [==============================] - 17s 224us/step - loss: 0.5856 - acc: 0.7046\n",
            "Epoch 15/200\n",
            "25472/74252 [=========>....................] - ETA: 10s - loss: 0.5792 - acc: 0.7105"
          ],
          "name": "stdout"
        },
        {
          "output_type": "stream",
          "text": [
            "74252/74252 [==============================] - 17s 223us/step - loss: 0.5810 - acc: 0.7088\n",
            "Epoch 16/200\n",
            "74252/74252 [==============================] - 17s 223us/step - loss: 0.5771 - acc: 0.7116\n",
            "Epoch 17/200\n",
            "25216/74252 [=========>....................] - ETA: 10s - loss: 0.5774 - acc: 0.7129"
          ],
          "name": "stdout"
        },
        {
          "output_type": "stream",
          "text": [
            "74252/74252 [==============================] - 17s 223us/step - loss: 0.5731 - acc: 0.7159\n",
            "Epoch 18/200\n",
            "74252/74252 [==============================] - 17s 223us/step - loss: 0.5679 - acc: 0.7204\n",
            "Epoch 19/200\n",
            "25216/74252 [=========>....................] - ETA: 10s - loss: 0.5624 - acc: 0.7257"
          ],
          "name": "stdout"
        },
        {
          "output_type": "stream",
          "text": [
            "74252/74252 [==============================] - 17s 224us/step - loss: 0.5650 - acc: 0.7239\n",
            "Epoch 20/200\n",
            "74252/74252 [==============================] - 17s 223us/step - loss: 0.5616 - acc: 0.7258\n",
            "Epoch 21/200\n",
            "25472/74252 [=========>....................] - ETA: 10s - loss: 0.5568 - acc: 0.7262"
          ],
          "name": "stdout"
        },
        {
          "output_type": "stream",
          "text": [
            "74252/74252 [==============================] - 17s 223us/step - loss: 0.5588 - acc: 0.7265\n",
            "Epoch 22/200\n",
            "74252/74252 [==============================] - 17s 224us/step - loss: 0.5533 - acc: 0.7318\n",
            "Epoch 23/200\n",
            "25728/74252 [=========>....................] - ETA: 10s - loss: 0.5500 - acc: 0.7319"
          ],
          "name": "stdout"
        },
        {
          "output_type": "stream",
          "text": [
            "74252/74252 [==============================] - 17s 223us/step - loss: 0.5529 - acc: 0.7315\n",
            "Epoch 24/200\n",
            "74252/74252 [==============================] - 17s 223us/step - loss: 0.5484 - acc: 0.7338\n",
            "Epoch 25/200\n",
            "25728/74252 [=========>....................] - ETA: 10s - loss: 0.5478 - acc: 0.7310"
          ],
          "name": "stdout"
        },
        {
          "output_type": "stream",
          "text": [
            "74252/74252 [==============================] - 17s 223us/step - loss: 0.5481 - acc: 0.7323\n",
            "Epoch 26/200\n",
            "74252/74252 [==============================] - 17s 223us/step - loss: 0.5441 - acc: 0.7366\n",
            "Epoch 27/200\n",
            "25216/74252 [=========>....................] - ETA: 10s - loss: 0.5455 - acc: 0.7347"
          ],
          "name": "stdout"
        },
        {
          "output_type": "stream",
          "text": [
            "74252/74252 [==============================] - 17s 224us/step - loss: 0.5431 - acc: 0.7364\n",
            "Epoch 28/200\n",
            "74252/74252 [==============================] - 17s 223us/step - loss: 0.5388 - acc: 0.7387\n",
            "Epoch 29/200\n",
            "25472/74252 [=========>....................] - ETA: 10s - loss: 0.5335 - acc: 0.7446"
          ],
          "name": "stdout"
        },
        {
          "output_type": "stream",
          "text": [
            "74252/74252 [==============================] - 17s 223us/step - loss: 0.5379 - acc: 0.7412\n",
            "Epoch 30/200\n",
            "74252/74252 [==============================] - 17s 224us/step - loss: 0.5347 - acc: 0.7408\n",
            "Epoch 31/200\n",
            "25728/74252 [=========>....................] - ETA: 10s - loss: 0.5351 - acc: 0.7439"
          ],
          "name": "stdout"
        },
        {
          "output_type": "stream",
          "text": [
            "74252/74252 [==============================] - 17s 223us/step - loss: 0.5335 - acc: 0.7439\n",
            "Epoch 32/200\n",
            "74252/74252 [==============================] - 17s 223us/step - loss: 0.5326 - acc: 0.7425\n",
            "Epoch 33/200\n",
            "25472/74252 [=========>....................] - ETA: 10s - loss: 0.5326 - acc: 0.7459"
          ],
          "name": "stdout"
        },
        {
          "output_type": "stream",
          "text": [
            "74252/74252 [==============================] - 17s 223us/step - loss: 0.5313 - acc: 0.7449\n",
            "Epoch 34/200\n",
            "74252/74252 [==============================] - 17s 223us/step - loss: 0.5288 - acc: 0.7457\n",
            "Epoch 35/200\n",
            "25216/74252 [=========>....................] - ETA: 10s - loss: 0.5308 - acc: 0.7426"
          ],
          "name": "stdout"
        },
        {
          "output_type": "stream",
          "text": [
            "74252/74252 [==============================] - 17s 223us/step - loss: 0.5277 - acc: 0.7440\n",
            "Epoch 36/200\n",
            "74252/74252 [==============================] - 17s 223us/step - loss: 0.5260 - acc: 0.7456\n",
            "Epoch 37/200\n",
            "25472/74252 [=========>....................] - ETA: 10s - loss: 0.5253 - acc: 0.7491"
          ],
          "name": "stdout"
        },
        {
          "output_type": "stream",
          "text": [
            "74252/74252 [==============================] - 16s 222us/step - loss: 0.5227 - acc: 0.7485\n",
            "Epoch 38/200\n",
            "74252/74252 [==============================] - 17s 223us/step - loss: 0.5238 - acc: 0.7462\n",
            "Epoch 39/200\n",
            "25728/74252 [=========>....................] - ETA: 10s - loss: 0.5209 - acc: 0.7499"
          ],
          "name": "stdout"
        },
        {
          "output_type": "stream",
          "text": [
            "74252/74252 [==============================] - 17s 223us/step - loss: 0.5217 - acc: 0.7485\n",
            "Epoch 40/200\n",
            "74252/74252 [==============================] - 17s 223us/step - loss: 0.5225 - acc: 0.7491\n",
            "Epoch 41/200\n",
            "25728/74252 [=========>....................] - ETA: 10s - loss: 0.5183 - acc: 0.7524"
          ],
          "name": "stdout"
        },
        {
          "output_type": "stream",
          "text": [
            "74252/74252 [==============================] - 17s 225us/step - loss: 0.5186 - acc: 0.7512\n",
            "Epoch 42/200\n",
            "74252/74252 [==============================] - 17s 223us/step - loss: 0.5210 - acc: 0.7495\n",
            "Epoch 43/200\n",
            "25728/74252 [=========>....................] - ETA: 10s - loss: 0.5180 - acc: 0.7484"
          ],
          "name": "stdout"
        },
        {
          "output_type": "stream",
          "text": [
            "74252/74252 [==============================] - 17s 223us/step - loss: 0.5167 - acc: 0.7515\n",
            "Epoch 44/200\n",
            "74252/74252 [==============================] - 17s 225us/step - loss: 0.5157 - acc: 0.7522\n",
            "Epoch 45/200\n",
            "25728/74252 [=========>....................] - ETA: 10s - loss: 0.5185 - acc: 0.7500"
          ],
          "name": "stdout"
        },
        {
          "output_type": "stream",
          "text": [
            "74252/74252 [==============================] - 17s 223us/step - loss: 0.5147 - acc: 0.7541\n",
            "Epoch 46/200\n",
            "74252/74252 [==============================] - 17s 223us/step - loss: 0.5139 - acc: 0.7542\n",
            "Epoch 47/200\n",
            "25728/74252 [=========>....................] - ETA: 10s - loss: 0.5103 - acc: 0.7565"
          ],
          "name": "stdout"
        },
        {
          "output_type": "stream",
          "text": [
            "74252/74252 [==============================] - 17s 224us/step - loss: 0.5117 - acc: 0.7547\n",
            "Epoch 48/200\n",
            "74252/74252 [==============================] - 17s 223us/step - loss: 0.5104 - acc: 0.7553\n",
            "Epoch 49/200\n",
            "25472/74252 [=========>....................] - ETA: 10s - loss: 0.5105 - acc: 0.7562"
          ],
          "name": "stdout"
        },
        {
          "output_type": "stream",
          "text": [
            "74252/74252 [==============================] - 17s 223us/step - loss: 0.5106 - acc: 0.7549\n",
            "Epoch 50/200\n",
            "74252/74252 [==============================] - 17s 223us/step - loss: 0.5091 - acc: 0.7561\n",
            "Epoch 51/200\n",
            "25728/74252 [=========>....................] - ETA: 10s - loss: 0.5076 - acc: 0.7550"
          ],
          "name": "stdout"
        },
        {
          "output_type": "stream",
          "text": [
            "74252/74252 [==============================] - 17s 223us/step - loss: 0.5070 - acc: 0.7569\n",
            "Epoch 52/200\n",
            "74252/74252 [==============================] - 17s 224us/step - loss: 0.5077 - acc: 0.7566\n",
            "Epoch 53/200\n",
            "25728/74252 [=========>....................] - ETA: 10s - loss: 0.5034 - acc: 0.7599"
          ],
          "name": "stdout"
        },
        {
          "output_type": "stream",
          "text": [
            "74252/74252 [==============================] - 16s 222us/step - loss: 0.5052 - acc: 0.7574\n",
            "Epoch 54/200\n",
            "74252/74252 [==============================] - 17s 223us/step - loss: 0.5020 - acc: 0.7604\n",
            "Epoch 55/200\n",
            "25728/74252 [=========>....................] - ETA: 10s - loss: 0.5028 - acc: 0.7587"
          ],
          "name": "stdout"
        },
        {
          "output_type": "stream",
          "text": [
            "74252/74252 [==============================] - 17s 223us/step - loss: 0.5033 - acc: 0.7592\n",
            "Epoch 56/200\n",
            "74252/74252 [==============================] - 17s 225us/step - loss: 0.5024 - acc: 0.7594\n",
            "Epoch 57/200\n",
            "25216/74252 [=========>....................] - ETA: 11s - loss: 0.4970 - acc: 0.7618"
          ],
          "name": "stdout"
        },
        {
          "output_type": "stream",
          "text": [
            "74252/74252 [==============================] - 17s 224us/step - loss: 0.5007 - acc: 0.7601\n",
            "Epoch 58/200\n",
            "74252/74252 [==============================] - 17s 226us/step - loss: 0.5000 - acc: 0.7609\n",
            "Epoch 59/200\n",
            "25472/74252 [=========>....................] - ETA: 10s - loss: 0.4967 - acc: 0.7632"
          ],
          "name": "stdout"
        },
        {
          "output_type": "stream",
          "text": [
            "74252/74252 [==============================] - 17s 223us/step - loss: 0.4990 - acc: 0.7616\n",
            "Epoch 60/200\n",
            "74252/74252 [==============================] - 17s 224us/step - loss: 0.4980 - acc: 0.7621\n",
            "Epoch 61/200\n",
            "25728/74252 [=========>....................] - ETA: 10s - loss: 0.5000 - acc: 0.7643"
          ],
          "name": "stdout"
        },
        {
          "output_type": "stream",
          "text": [
            "74252/74252 [==============================] - 17s 224us/step - loss: 0.4981 - acc: 0.7633\n",
            "Epoch 62/200\n",
            "74252/74252 [==============================] - 17s 224us/step - loss: 0.4966 - acc: 0.7627\n",
            "Epoch 63/200\n",
            "25728/74252 [=========>....................] - ETA: 10s - loss: 0.4923 - acc: 0.7670"
          ],
          "name": "stdout"
        },
        {
          "output_type": "stream",
          "text": [
            "74252/74252 [==============================] - 17s 223us/step - loss: 0.4943 - acc: 0.7638\n",
            "Epoch 64/200\n",
            "74252/74252 [==============================] - 17s 223us/step - loss: 0.4938 - acc: 0.7634\n",
            "Epoch 65/200\n",
            "25728/74252 [=========>....................] - ETA: 10s - loss: 0.4951 - acc: 0.7630"
          ],
          "name": "stdout"
        },
        {
          "output_type": "stream",
          "text": [
            "74252/74252 [==============================] - 17s 225us/step - loss: 0.4925 - acc: 0.7649\n",
            "Epoch 66/200\n",
            "74252/74252 [==============================] - 17s 223us/step - loss: 0.4927 - acc: 0.7640\n",
            "Epoch 67/200\n",
            "25728/74252 [=========>....................] - ETA: 10s - loss: 0.4937 - acc: 0.7636"
          ],
          "name": "stdout"
        },
        {
          "output_type": "stream",
          "text": [
            "74252/74252 [==============================] - 17s 223us/step - loss: 0.4929 - acc: 0.7632\n",
            "Epoch 68/200\n",
            "74252/74252 [==============================] - 17s 224us/step - loss: 0.4903 - acc: 0.7661\n",
            "Epoch 69/200\n",
            "25472/74252 [=========>....................] - ETA: 10s - loss: 0.4902 - acc: 0.7648"
          ],
          "name": "stdout"
        },
        {
          "output_type": "stream",
          "text": [
            "74252/74252 [==============================] - 17s 223us/step - loss: 0.4902 - acc: 0.7665\n",
            "Epoch 70/200\n",
            "74252/74252 [==============================] - 17s 223us/step - loss: 0.4898 - acc: 0.7659\n",
            "Epoch 71/200\n",
            "25472/74252 [=========>....................] - ETA: 10s - loss: 0.4861 - acc: 0.7710"
          ],
          "name": "stdout"
        },
        {
          "output_type": "stream",
          "text": [
            "74252/74252 [==============================] - 17s 224us/step - loss: 0.4894 - acc: 0.7673\n",
            "Epoch 72/200\n",
            "74252/74252 [==============================] - 17s 224us/step - loss: 0.4869 - acc: 0.7688\n",
            "Epoch 73/200\n",
            "25728/74252 [=========>....................] - ETA: 10s - loss: 0.4899 - acc: 0.7676"
          ],
          "name": "stdout"
        },
        {
          "output_type": "stream",
          "text": [
            "74252/74252 [==============================] - 17s 223us/step - loss: 0.4880 - acc: 0.7666\n",
            "Epoch 74/200\n",
            "74252/74252 [==============================] - 17s 223us/step - loss: 0.4866 - acc: 0.7681\n",
            "Epoch 75/200\n",
            "25728/74252 [=========>....................] - ETA: 10s - loss: 0.4851 - acc: 0.7687"
          ],
          "name": "stdout"
        },
        {
          "output_type": "stream",
          "text": [
            "74252/74252 [==============================] - 17s 225us/step - loss: 0.4842 - acc: 0.7689\n",
            "Epoch 76/200\n",
            "74252/74252 [==============================] - 17s 233us/step - loss: 0.4847 - acc: 0.7689\n",
            "Epoch 77/200\n",
            "25472/74252 [=========>....................] - ETA: 11s - loss: 0.4825 - acc: 0.7703"
          ],
          "name": "stdout"
        },
        {
          "output_type": "stream",
          "text": [
            "74252/74252 [==============================] - 17s 234us/step - loss: 0.4830 - acc: 0.7708\n",
            "Epoch 78/200\n",
            "74252/74252 [==============================] - 17s 233us/step - loss: 0.4827 - acc: 0.7704\n",
            "Epoch 79/200\n",
            "25216/74252 [=========>....................] - ETA: 11s - loss: 0.4826 - acc: 0.7691"
          ],
          "name": "stdout"
        },
        {
          "output_type": "stream",
          "text": [
            "74252/74252 [==============================] - 18s 238us/step - loss: 0.4824 - acc: 0.7696\n",
            "Epoch 80/200\n",
            "74252/74252 [==============================] - 17s 235us/step - loss: 0.4814 - acc: 0.7715\n",
            "Epoch 81/200\n",
            "24960/74252 [=========>....................] - ETA: 11s - loss: 0.4863 - acc: 0.7674"
          ],
          "name": "stdout"
        },
        {
          "output_type": "stream",
          "text": [
            "74252/74252 [==============================] - 17s 235us/step - loss: 0.4809 - acc: 0.7704\n",
            "Epoch 82/200\n",
            "74252/74252 [==============================] - 18s 237us/step - loss: 0.4809 - acc: 0.7711\n",
            "Epoch 83/200\n",
            "25216/74252 [=========>....................] - ETA: 11s - loss: 0.4754 - acc: 0.7789"
          ],
          "name": "stdout"
        },
        {
          "output_type": "stream",
          "text": [
            "74252/74252 [==============================] - 18s 237us/step - loss: 0.4822 - acc: 0.7709\n",
            "Epoch 84/200\n",
            "74252/74252 [==============================] - 18s 237us/step - loss: 0.4795 - acc: 0.7716\n",
            "Epoch 85/200\n",
            "25216/74252 [=========>....................] - ETA: 11s - loss: 0.4768 - acc: 0.7726"
          ],
          "name": "stdout"
        },
        {
          "output_type": "stream",
          "text": [
            "74252/74252 [==============================] - 18s 238us/step - loss: 0.4787 - acc: 0.7726\n",
            "Epoch 86/200\n",
            "74252/74252 [==============================] - 17s 235us/step - loss: 0.4789 - acc: 0.7722\n",
            "Epoch 87/200\n",
            "24960/74252 [=========>....................] - ETA: 11s - loss: 0.4712 - acc: 0.7749"
          ],
          "name": "stdout"
        },
        {
          "output_type": "stream",
          "text": [
            "74252/74252 [==============================] - 18s 238us/step - loss: 0.4761 - acc: 0.7738\n",
            "Epoch 88/200\n",
            "74252/74252 [==============================] - 18s 238us/step - loss: 0.4765 - acc: 0.7733\n",
            "Epoch 89/200\n",
            "25216/74252 [=========>....................] - ETA: 11s - loss: 0.4722 - acc: 0.7760"
          ],
          "name": "stdout"
        },
        {
          "output_type": "stream",
          "text": [
            "74252/74252 [==============================] - 17s 233us/step - loss: 0.4747 - acc: 0.7738\n",
            "Epoch 90/200\n",
            "74252/74252 [==============================] - 17s 232us/step - loss: 0.4755 - acc: 0.7747\n",
            "Epoch 91/200\n",
            "25472/74252 [=========>....................] - ETA: 11s - loss: 0.4803 - acc: 0.7714"
          ],
          "name": "stdout"
        },
        {
          "output_type": "stream",
          "text": [
            "74252/74252 [==============================] - 17s 232us/step - loss: 0.4752 - acc: 0.7751\n",
            "Epoch 92/200\n",
            "74252/74252 [==============================] - 17s 234us/step - loss: 0.4747 - acc: 0.7736\n",
            "Epoch 93/200\n",
            "25216/74252 [=========>....................] - ETA: 11s - loss: 0.4747 - acc: 0.7754"
          ],
          "name": "stdout"
        },
        {
          "output_type": "stream",
          "text": [
            "74252/74252 [==============================] - 17s 235us/step - loss: 0.4746 - acc: 0.7758\n",
            "Epoch 94/200\n",
            "74252/74252 [==============================] - 17s 235us/step - loss: 0.4744 - acc: 0.7756\n",
            "Epoch 95/200\n",
            "25216/74252 [=========>....................] - ETA: 11s - loss: 0.4723 - acc: 0.7782"
          ],
          "name": "stdout"
        },
        {
          "output_type": "stream",
          "text": [
            "74252/74252 [==============================] - 17s 234us/step - loss: 0.4735 - acc: 0.7760\n",
            "Epoch 96/200\n",
            "74252/74252 [==============================] - 17s 235us/step - loss: 0.4713 - acc: 0.7760\n",
            "Epoch 97/200\n",
            "25216/74252 [=========>....................] - ETA: 11s - loss: 0.4728 - acc: 0.7763"
          ],
          "name": "stdout"
        },
        {
          "output_type": "stream",
          "text": [
            "74252/74252 [==============================] - 17s 234us/step - loss: 0.4718 - acc: 0.7762\n",
            "Epoch 98/200\n",
            "74252/74252 [==============================] - 17s 234us/step - loss: 0.4711 - acc: 0.7771\n",
            "Epoch 99/200\n",
            "25216/74252 [=========>....................] - ETA: 11s - loss: 0.4702 - acc: 0.7755"
          ],
          "name": "stdout"
        },
        {
          "output_type": "stream",
          "text": [
            "74252/74252 [==============================] - 17s 233us/step - loss: 0.4708 - acc: 0.7767\n",
            "Epoch 100/200\n",
            "74252/74252 [==============================] - 17s 231us/step - loss: 0.4686 - acc: 0.7769\n",
            "Epoch 101/200\n",
            "25216/74252 [=========>....................] - ETA: 11s - loss: 0.4688 - acc: 0.7786"
          ],
          "name": "stdout"
        },
        {
          "output_type": "stream",
          "text": [
            "74252/74252 [==============================] - 17s 232us/step - loss: 0.4692 - acc: 0.7784\n",
            "Epoch 102/200\n",
            "74252/74252 [==============================] - 18s 239us/step - loss: 0.4668 - acc: 0.7799\n",
            "Epoch 103/200\n",
            "24192/74252 [========>.....................] - ETA: 12s - loss: 0.4672 - acc: 0.7765"
          ],
          "name": "stdout"
        },
        {
          "output_type": "stream",
          "text": [
            "74252/74252 [==============================] - 18s 247us/step - loss: 0.4669 - acc: 0.7790\n",
            "Epoch 104/200\n",
            "74252/74252 [==============================] - 19s 250us/step - loss: 0.4685 - acc: 0.7779\n",
            "Epoch 105/200\n",
            "23168/74252 [========>.....................] - ETA: 12s - loss: 0.4680 - acc: 0.7780"
          ],
          "name": "stdout"
        },
        {
          "output_type": "stream",
          "text": [
            "74252/74252 [==============================] - 19s 250us/step - loss: 0.4672 - acc: 0.7791\n",
            "Epoch 106/200\n",
            "74252/74252 [==============================] - 19s 252us/step - loss: 0.4656 - acc: 0.7810\n",
            "Epoch 107/200\n",
            "21632/74252 [=======>......................] - ETA: 13s - loss: 0.4679 - acc: 0.7783"
          ],
          "name": "stdout"
        },
        {
          "output_type": "stream",
          "text": [
            "74252/74252 [==============================] - 19s 251us/step - loss: 0.4650 - acc: 0.7805\n",
            "Epoch 108/200\n",
            "74252/74252 [==============================] - 19s 250us/step - loss: 0.4655 - acc: 0.7799\n",
            "Epoch 109/200\n",
            "20608/74252 [=======>......................] - ETA: 13s - loss: 0.4654 - acc: 0.7789"
          ],
          "name": "stdout"
        },
        {
          "output_type": "stream",
          "text": [
            "74252/74252 [==============================] - 19s 252us/step - loss: 0.4656 - acc: 0.7799\n",
            "Epoch 110/200\n",
            "74252/74252 [==============================] - 19s 252us/step - loss: 0.4642 - acc: 0.7800\n",
            "Epoch 111/200\n",
            "20608/74252 [=======>......................] - ETA: 13s - loss: 0.4635 - acc: 0.7829"
          ],
          "name": "stdout"
        },
        {
          "output_type": "stream",
          "text": [
            "74252/74252 [==============================] - 19s 252us/step - loss: 0.4637 - acc: 0.7800\n",
            "Epoch 112/200\n",
            "74252/74252 [==============================] - 19s 252us/step - loss: 0.4636 - acc: 0.7817\n",
            "Epoch 113/200\n",
            "19840/74252 [=======>......................] - ETA: 13s - loss: 0.4644 - acc: 0.7808"
          ],
          "name": "stdout"
        },
        {
          "output_type": "stream",
          "text": [
            "74252/74252 [==============================] - 19s 252us/step - loss: 0.4630 - acc: 0.7816\n",
            "Epoch 114/200\n",
            "74252/74252 [==============================] - 19s 254us/step - loss: 0.4619 - acc: 0.7834\n",
            "Epoch 115/200\n",
            "18816/74252 [======>.......................] - ETA: 14s - loss: 0.4625 - acc: 0.7811"
          ],
          "name": "stdout"
        },
        {
          "output_type": "stream",
          "text": [
            "74252/74252 [==============================] - 19s 253us/step - loss: 0.4628 - acc: 0.7806\n",
            "Epoch 116/200\n",
            "74252/74252 [==============================] - 19s 253us/step - loss: 0.4598 - acc: 0.7844\n",
            "Epoch 117/200\n",
            "18560/74252 [======>.......................] - ETA: 14s - loss: 0.4566 - acc: 0.7860"
          ],
          "name": "stdout"
        },
        {
          "output_type": "stream",
          "text": [
            "74252/74252 [==============================] - 19s 254us/step - loss: 0.4611 - acc: 0.7827\n",
            "Epoch 118/200\n",
            "74252/74252 [==============================] - 19s 253us/step - loss: 0.4592 - acc: 0.7829\n",
            "Epoch 119/200\n",
            "19584/74252 [======>.......................] - ETA: 13s - loss: 0.4499 - acc: 0.7880"
          ],
          "name": "stdout"
        },
        {
          "output_type": "stream",
          "text": [
            "74252/74252 [==============================] - 19s 251us/step - loss: 0.4584 - acc: 0.7831\n",
            "Epoch 120/200\n",
            "74252/74252 [==============================] - 19s 253us/step - loss: 0.4584 - acc: 0.7837\n",
            "Epoch 121/200\n",
            "19328/74252 [======>.......................] - ETA: 13s - loss: 0.4562 - acc: 0.7830"
          ],
          "name": "stdout"
        },
        {
          "output_type": "stream",
          "text": [
            "74252/74252 [==============================] - 18s 245us/step - loss: 0.4577 - acc: 0.7832\n",
            "Epoch 122/200\n",
            "74252/74252 [==============================] - 17s 233us/step - loss: 0.4583 - acc: 0.7857\n",
            "Epoch 123/200\n",
            "23168/74252 [========>.....................] - ETA: 11s - loss: 0.4537 - acc: 0.7859"
          ],
          "name": "stdout"
        },
        {
          "output_type": "stream",
          "text": [
            "74252/74252 [==============================] - 17s 234us/step - loss: 0.4561 - acc: 0.7838\n",
            "Epoch 124/200\n",
            "74252/74252 [==============================] - 17s 233us/step - loss: 0.4575 - acc: 0.7841\n",
            "Epoch 125/200\n",
            "24192/74252 [========>.....................] - ETA: 11s - loss: 0.4575 - acc: 0.7848"
          ],
          "name": "stdout"
        },
        {
          "output_type": "stream",
          "text": [
            "74252/74252 [==============================] - 17s 233us/step - loss: 0.4552 - acc: 0.7854\n",
            "Epoch 126/200\n",
            "74252/74252 [==============================] - 17s 234us/step - loss: 0.4560 - acc: 0.7854\n",
            "Epoch 127/200\n",
            "24448/74252 [========>.....................] - ETA: 11s - loss: 0.4552 - acc: 0.7864"
          ],
          "name": "stdout"
        },
        {
          "output_type": "stream",
          "text": [
            "74252/74252 [==============================] - 17s 235us/step - loss: 0.4538 - acc: 0.7875\n",
            "Epoch 128/200\n",
            "74252/74252 [==============================] - 17s 234us/step - loss: 0.4552 - acc: 0.7852\n",
            "Epoch 129/200\n",
            "24704/74252 [========>.....................] - ETA: 11s - loss: 0.4549 - acc: 0.7871"
          ],
          "name": "stdout"
        },
        {
          "output_type": "stream",
          "text": [
            "74252/74252 [==============================] - 17s 232us/step - loss: 0.4524 - acc: 0.7866\n",
            "Epoch 130/200\n",
            "74252/74252 [==============================] - 17s 232us/step - loss: 0.4529 - acc: 0.7863\n",
            "Epoch 131/200\n",
            "24448/74252 [========>.....................] - ETA: 11s - loss: 0.4544 - acc: 0.7855"
          ],
          "name": "stdout"
        },
        {
          "output_type": "stream",
          "text": [
            "74252/74252 [==============================] - 17s 232us/step - loss: 0.4546 - acc: 0.7858\n",
            "Epoch 132/200\n",
            "74252/74252 [==============================] - 17s 232us/step - loss: 0.4536 - acc: 0.7874\n",
            "Epoch 133/200\n",
            "24704/74252 [========>.....................] - ETA: 11s - loss: 0.4479 - acc: 0.7875"
          ],
          "name": "stdout"
        },
        {
          "output_type": "stream",
          "text": [
            "74252/74252 [==============================] - 17s 231us/step - loss: 0.4513 - acc: 0.7878\n",
            "Epoch 134/200\n",
            "74252/74252 [==============================] - 17s 232us/step - loss: 0.4520 - acc: 0.7867\n",
            "Epoch 135/200\n",
            "24448/74252 [========>.....................] - ETA: 11s - loss: 0.4539 - acc: 0.7882"
          ],
          "name": "stdout"
        },
        {
          "output_type": "stream",
          "text": [
            "74252/74252 [==============================] - 17s 232us/step - loss: 0.4502 - acc: 0.7877\n",
            "Epoch 136/200\n",
            "74252/74252 [==============================] - 17s 233us/step - loss: 0.4517 - acc: 0.7864\n",
            "Epoch 137/200\n",
            "24704/74252 [========>.....................] - ETA: 11s - loss: 0.4517 - acc: 0.7861"
          ],
          "name": "stdout"
        },
        {
          "output_type": "stream",
          "text": [
            "74252/74252 [==============================] - 17s 230us/step - loss: 0.4496 - acc: 0.7890\n",
            "Epoch 138/200\n",
            "74252/74252 [==============================] - 17s 233us/step - loss: 0.4499 - acc: 0.7871\n",
            "Epoch 139/200\n",
            "24704/74252 [========>.....................] - ETA: 11s - loss: 0.4520 - acc: 0.7870"
          ],
          "name": "stdout"
        },
        {
          "output_type": "stream",
          "text": [
            "74252/74252 [==============================] - 17s 233us/step - loss: 0.4498 - acc: 0.7878\n",
            "Epoch 140/200\n",
            "74252/74252 [==============================] - 17s 234us/step - loss: 0.4486 - acc: 0.7893\n",
            "Epoch 141/200\n",
            "24704/74252 [========>.....................] - ETA: 11s - loss: 0.4456 - acc: 0.7911"
          ],
          "name": "stdout"
        },
        {
          "output_type": "stream",
          "text": [
            "74252/74252 [==============================] - 17s 233us/step - loss: 0.4474 - acc: 0.7899\n",
            "Epoch 142/200\n",
            "74252/74252 [==============================] - 17s 235us/step - loss: 0.4474 - acc: 0.7909\n",
            "Epoch 143/200\n",
            "24448/74252 [========>.....................] - ETA: 11s - loss: 0.4466 - acc: 0.7928"
          ],
          "name": "stdout"
        },
        {
          "output_type": "stream",
          "text": [
            "74252/74252 [==============================] - 17s 233us/step - loss: 0.4467 - acc: 0.7902\n",
            "Epoch 144/200\n",
            "74252/74252 [==============================] - 17s 233us/step - loss: 0.4472 - acc: 0.7896\n",
            "Epoch 145/200\n",
            "24704/74252 [========>.....................] - ETA: 11s - loss: 0.4461 - acc: 0.7921"
          ],
          "name": "stdout"
        },
        {
          "output_type": "stream",
          "text": [
            "74252/74252 [==============================] - 17s 233us/step - loss: 0.4471 - acc: 0.7901\n",
            "Epoch 146/200\n",
            "74252/74252 [==============================] - 17s 233us/step - loss: 0.4445 - acc: 0.7904\n",
            "Epoch 147/200\n",
            "24960/74252 [=========>....................] - ETA: 11s - loss: 0.4441 - acc: 0.7889"
          ],
          "name": "stdout"
        },
        {
          "output_type": "stream",
          "text": [
            "74252/74252 [==============================] - 17s 234us/step - loss: 0.4443 - acc: 0.7901\n",
            "Epoch 148/200\n",
            "74252/74252 [==============================] - 17s 235us/step - loss: 0.4465 - acc: 0.7896\n",
            "Epoch 149/200\n",
            "24704/74252 [========>.....................] - ETA: 11s - loss: 0.4425 - acc: 0.7932"
          ],
          "name": "stdout"
        },
        {
          "output_type": "stream",
          "text": [
            "74252/74252 [==============================] - 17s 235us/step - loss: 0.4444 - acc: 0.7916\n",
            "Epoch 150/200\n",
            "74252/74252 [==============================] - 17s 233us/step - loss: 0.4436 - acc: 0.7912\n",
            "Epoch 151/200\n",
            "24704/74252 [========>.....................] - ETA: 11s - loss: 0.4361 - acc: 0.7942"
          ],
          "name": "stdout"
        },
        {
          "output_type": "stream",
          "text": [
            "74252/74252 [==============================] - 17s 234us/step - loss: 0.4424 - acc: 0.7903\n",
            "Epoch 152/200\n",
            "74252/74252 [==============================] - 17s 234us/step - loss: 0.4425 - acc: 0.7933\n",
            "Epoch 153/200\n",
            "24704/74252 [========>.....................] - ETA: 11s - loss: 0.4426 - acc: 0.7918"
          ],
          "name": "stdout"
        },
        {
          "output_type": "stream",
          "text": [
            "74252/74252 [==============================] - 17s 234us/step - loss: 0.4421 - acc: 0.7931\n",
            "Epoch 154/200\n",
            "74252/74252 [==============================] - 17s 231us/step - loss: 0.4421 - acc: 0.7933\n",
            "Epoch 155/200\n",
            "24704/74252 [========>.....................] - ETA: 11s - loss: 0.4419 - acc: 0.7939"
          ],
          "name": "stdout"
        },
        {
          "output_type": "stream",
          "text": [
            "74252/74252 [==============================] - 17s 235us/step - loss: 0.4421 - acc: 0.7934\n",
            "Epoch 156/200\n",
            "74252/74252 [==============================] - 17s 235us/step - loss: 0.4397 - acc: 0.7938\n",
            "Epoch 157/200\n",
            "24704/74252 [========>.....................] - ETA: 11s - loss: 0.4451 - acc: 0.7927"
          ],
          "name": "stdout"
        },
        {
          "output_type": "stream",
          "text": [
            "74252/74252 [==============================] - 17s 235us/step - loss: 0.4414 - acc: 0.7943\n",
            "Epoch 158/200\n",
            "74252/74252 [==============================] - 18s 236us/step - loss: 0.4406 - acc: 0.7932\n",
            "Epoch 159/200\n",
            "24704/74252 [========>.....................] - ETA: 11s - loss: 0.4378 - acc: 0.7957"
          ],
          "name": "stdout"
        },
        {
          "output_type": "stream",
          "text": [
            "74252/74252 [==============================] - 17s 235us/step - loss: 0.4391 - acc: 0.7934\n",
            "Epoch 160/200\n",
            "74252/74252 [==============================] - 17s 234us/step - loss: 0.4402 - acc: 0.7933\n",
            "Epoch 161/200\n",
            "24704/74252 [========>.....................] - ETA: 11s - loss: 0.4364 - acc: 0.7959"
          ],
          "name": "stdout"
        },
        {
          "output_type": "stream",
          "text": [
            "74252/74252 [==============================] - 17s 234us/step - loss: 0.4385 - acc: 0.7942\n",
            "Epoch 162/200\n",
            "74252/74252 [==============================] - 18s 237us/step - loss: 0.4384 - acc: 0.7955\n",
            "Epoch 163/200\n",
            "24704/74252 [========>.....................] - ETA: 11s - loss: 0.4391 - acc: 0.7938"
          ],
          "name": "stdout"
        },
        {
          "output_type": "stream",
          "text": [
            "74252/74252 [==============================] - 18s 237us/step - loss: 0.4368 - acc: 0.7958\n",
            "Epoch 164/200\n",
            "74252/74252 [==============================] - 17s 235us/step - loss: 0.4351 - acc: 0.7956\n",
            "Epoch 165/200\n",
            "24704/74252 [========>.....................] - ETA: 11s - loss: 0.4323 - acc: 0.7990"
          ],
          "name": "stdout"
        },
        {
          "output_type": "stream",
          "text": [
            "74252/74252 [==============================] - 18s 237us/step - loss: 0.4358 - acc: 0.7958\n",
            "Epoch 166/200\n",
            "74252/74252 [==============================] - 18s 238us/step - loss: 0.4360 - acc: 0.7962\n",
            "Epoch 167/200\n",
            "24704/74252 [========>.....................] - ETA: 11s - loss: 0.4341 - acc: 0.7950"
          ],
          "name": "stdout"
        },
        {
          "output_type": "stream",
          "text": [
            "74252/74252 [==============================] - 18s 239us/step - loss: 0.4370 - acc: 0.7943\n",
            "Epoch 168/200\n",
            "74252/74252 [==============================] - 18s 237us/step - loss: 0.4358 - acc: 0.7972\n",
            "Epoch 169/200\n",
            "24704/74252 [========>.....................] - ETA: 11s - loss: 0.4338 - acc: 0.7981"
          ],
          "name": "stdout"
        },
        {
          "output_type": "stream",
          "text": [
            "74252/74252 [==============================] - 18s 237us/step - loss: 0.4362 - acc: 0.7959\n",
            "Epoch 170/200\n",
            "74252/74252 [==============================] - 18s 237us/step - loss: 0.4337 - acc: 0.7967\n",
            "Epoch 171/200\n",
            "24704/74252 [========>.....................] - ETA: 11s - loss: 0.4329 - acc: 0.7973"
          ],
          "name": "stdout"
        },
        {
          "output_type": "stream",
          "text": [
            "74252/74252 [==============================] - 17s 235us/step - loss: 0.4340 - acc: 0.7971\n",
            "Epoch 172/200\n",
            "74252/74252 [==============================] - 18s 237us/step - loss: 0.4333 - acc: 0.7977\n",
            "Epoch 173/200\n",
            "24448/74252 [========>.....................] - ETA: 11s - loss: 0.4256 - acc: 0.8019"
          ],
          "name": "stdout"
        },
        {
          "output_type": "stream",
          "text": [
            "74252/74252 [==============================] - 18s 237us/step - loss: 0.4324 - acc: 0.7979\n",
            "Epoch 174/200\n",
            "74252/74252 [==============================] - 18s 237us/step - loss: 0.4328 - acc: 0.7975\n",
            "Epoch 175/200\n",
            "24704/74252 [========>.....................] - ETA: 11s - loss: 0.4301 - acc: 0.7999"
          ],
          "name": "stdout"
        },
        {
          "output_type": "stream",
          "text": [
            "74252/74252 [==============================] - 18s 236us/step - loss: 0.4325 - acc: 0.7979\n",
            "Epoch 176/200\n",
            "74252/74252 [==============================] - 18s 236us/step - loss: 0.4316 - acc: 0.7991\n",
            "Epoch 177/200\n",
            "24704/74252 [========>.....................] - ETA: 11s - loss: 0.4369 - acc: 0.7932"
          ],
          "name": "stdout"
        },
        {
          "output_type": "stream",
          "text": [
            "74252/74252 [==============================] - 18s 237us/step - loss: 0.4334 - acc: 0.7966\n",
            "Epoch 178/200\n",
            "74252/74252 [==============================] - 18s 238us/step - loss: 0.4311 - acc: 0.7970\n",
            "Epoch 179/200\n",
            "24704/74252 [========>.....................] - ETA: 11s - loss: 0.4319 - acc: 0.7960"
          ],
          "name": "stdout"
        },
        {
          "output_type": "stream",
          "text": [
            "74252/74252 [==============================] - 18s 237us/step - loss: 0.4320 - acc: 0.7982\n",
            "Epoch 180/200\n",
            "74252/74252 [==============================] - 18s 237us/step - loss: 0.4291 - acc: 0.8003\n",
            "Epoch 181/200\n",
            "24704/74252 [========>.....................] - ETA: 11s - loss: 0.4331 - acc: 0.7962"
          ],
          "name": "stdout"
        },
        {
          "output_type": "stream",
          "text": [
            "74252/74252 [==============================] - 18s 237us/step - loss: 0.4299 - acc: 0.7994\n",
            "Epoch 182/200\n",
            "74252/74252 [==============================] - 18s 237us/step - loss: 0.4304 - acc: 0.8000\n",
            "Epoch 183/200\n",
            "24704/74252 [========>.....................] - ETA: 11s - loss: 0.4281 - acc: 0.8008"
          ],
          "name": "stdout"
        },
        {
          "output_type": "stream",
          "text": [
            "74252/74252 [==============================] - 18s 236us/step - loss: 0.4298 - acc: 0.8000\n",
            "Epoch 184/200\n",
            "74252/74252 [==============================] - 18s 238us/step - loss: 0.4285 - acc: 0.8004\n",
            "Epoch 185/200\n",
            "24704/74252 [========>.....................] - ETA: 11s - loss: 0.4304 - acc: 0.8005"
          ],
          "name": "stdout"
        },
        {
          "output_type": "stream",
          "text": [
            "74252/74252 [==============================] - 18s 236us/step - loss: 0.4275 - acc: 0.8004\n",
            "Epoch 186/200\n",
            "74252/74252 [==============================] - 18s 237us/step - loss: 0.4262 - acc: 0.8020\n",
            "Epoch 187/200\n",
            "24704/74252 [========>.....................] - ETA: 11s - loss: 0.4252 - acc: 0.8038"
          ],
          "name": "stdout"
        },
        {
          "output_type": "stream",
          "text": [
            "74252/74252 [==============================] - 18s 236us/step - loss: 0.4264 - acc: 0.8021\n",
            "Epoch 188/200\n",
            "74252/74252 [==============================] - 17s 235us/step - loss: 0.4270 - acc: 0.8010\n",
            "Epoch 189/200\n",
            "24960/74252 [=========>....................] - ETA: 11s - loss: 0.4266 - acc: 0.8023"
          ],
          "name": "stdout"
        },
        {
          "output_type": "stream",
          "text": [
            "74252/74252 [==============================] - 18s 237us/step - loss: 0.4261 - acc: 0.8021\n",
            "Epoch 190/200\n",
            "74252/74252 [==============================] - 18s 237us/step - loss: 0.4272 - acc: 0.7997\n",
            "Epoch 191/200\n",
            "24704/74252 [========>.....................] - ETA: 11s - loss: 0.4303 - acc: 0.8002"
          ],
          "name": "stdout"
        },
        {
          "output_type": "stream",
          "text": [
            "74252/74252 [==============================] - 18s 237us/step - loss: 0.4263 - acc: 0.8023\n",
            "Epoch 192/200\n",
            "74252/74252 [==============================] - 17s 235us/step - loss: 0.4247 - acc: 0.8025\n",
            "Epoch 193/200\n",
            "24960/74252 [=========>....................] - ETA: 11s - loss: 0.4249 - acc: 0.8043"
          ],
          "name": "stdout"
        },
        {
          "output_type": "stream",
          "text": [
            "74252/74252 [==============================] - 18s 238us/step - loss: 0.4247 - acc: 0.8032\n",
            "Epoch 194/200\n",
            "74252/74252 [==============================] - 18s 236us/step - loss: 0.4222 - acc: 0.8034\n",
            "Epoch 195/200\n",
            "24704/74252 [========>.....................] - ETA: 11s - loss: 0.4216 - acc: 0.8052"
          ],
          "name": "stdout"
        },
        {
          "output_type": "stream",
          "text": [
            "74252/74252 [==============================] - 18s 237us/step - loss: 0.4234 - acc: 0.8030\n",
            "Epoch 196/200\n",
            "74252/74252 [==============================] - 17s 235us/step - loss: 0.4230 - acc: 0.8025\n",
            "Epoch 197/200\n",
            "24704/74252 [========>.....................] - ETA: 11s - loss: 0.4263 - acc: 0.8005"
          ],
          "name": "stdout"
        },
        {
          "output_type": "stream",
          "text": [
            "74252/74252 [==============================] - 18s 238us/step - loss: 0.4234 - acc: 0.8033\n",
            "Epoch 198/200\n",
            "74252/74252 [==============================] - 18s 236us/step - loss: 0.4223 - acc: 0.8034\n",
            "Epoch 199/200\n",
            "24704/74252 [========>.....................] - ETA: 11s - loss: 0.4256 - acc: 0.8010"
          ],
          "name": "stdout"
        },
        {
          "output_type": "stream",
          "text": [
            "74252/74252 [==============================] - 18s 237us/step - loss: 0.4220 - acc: 0.8052\n",
            "Epoch 200/200\n",
            "74252/74252 [==============================] - 18s 236us/step - loss: 0.4213 - acc: 0.8044\n"
          ],
          "name": "stdout"
        },
        {
          "output_type": "execute_result",
          "data": {
            "text/plain": [
              "<keras.callbacks.History at 0x7f33b4a583c8>"
            ]
          },
          "metadata": {
            "tags": []
          },
          "execution_count": 19
        }
      ]
    },
    {
      "metadata": {
        "id": "XtCdEUQBSpdg",
        "colab_type": "code",
        "colab": {}
      },
      "cell_type": "code",
      "source": [
        "model.save(\"model.h5\")\n",
        "model.save_weights(\"model_weights.h5\")"
      ],
      "execution_count": 0,
      "outputs": []
    },
    {
      "metadata": {
        "id": "xj_eI3POitTx",
        "colab_type": "text"
      },
      "cell_type": "markdown",
      "source": [
        "# Testing"
      ]
    },
    {
      "metadata": {
        "id": "dO3Kk641ltqz",
        "colab_type": "code",
        "colab": {}
      },
      "cell_type": "code",
      "source": [
        "from keras.models import load_model\n",
        "model = load_model('model.h5')"
      ],
      "execution_count": 0,
      "outputs": []
    },
    {
      "metadata": {
        "id": "bX2uEP48iu-d",
        "colab_type": "code",
        "colab": {}
      },
      "cell_type": "code",
      "source": [
        "root_dir = os.getcwd() + \"/drive/road_extract/data/sample/\"\n",
        "image_dir = root_dir + \"test_sample/\"\n",
        "mask_dir = root_dir + \"test_sample_mask/\"\n",
        "\n",
        "imgs_list, mask_imgs_list = [], []\n",
        "\n",
        "\n",
        "for i, im in enumerate(os.listdir(image_dir)):\n",
        "  if i < 50:\n",
        "    imPath = image_dir + im\n",
        "    maskPath = mask_dir + im.split('_')[0] + \"_mask.png\"\n",
        "\n",
        "    imgs_list.append(load_image(imPath))\n",
        "    mask_imgs_list.append(load_gray_image(maskPath))\n",
        "\n",
        "\n",
        "imgs = np.asarray(imgs_list)\n",
        "mask_imgs = np.asarray(mask_imgs_list)"
      ],
      "execution_count": 0,
      "outputs": []
    },
    {
      "metadata": {
        "id": "OsxIck_KjB5s",
        "colab_type": "code",
        "colab": {}
      },
      "cell_type": "code",
      "source": [
        "del imgs_list\n",
        "del mask_imgs_list"
      ],
      "execution_count": 0,
      "outputs": []
    },
    {
      "metadata": {
        "id": "ICaUSESCjJnE",
        "colab_type": "code",
        "colab": {
          "base_uri": "https://localhost:8080/",
          "height": 50
        },
        "outputId": "8f5bbf0a-b58d-4beb-92eb-5c5b307b94af"
      },
      "cell_type": "code",
      "source": [
        "print(imgs.shape)\n",
        "print(mask_imgs.shape)"
      ],
      "execution_count": 9,
      "outputs": [
        {
          "output_type": "stream",
          "text": [
            "(50, 1024, 1024, 3)\n",
            "(50, 1024, 1024)\n"
          ],
          "name": "stdout"
        }
      ]
    },
    {
      "metadata": {
        "id": "hDNUXPfcjLLp",
        "colab_type": "code",
        "colab": {}
      },
      "cell_type": "code",
      "source": [
        "patch_w, patch_h, patch_stride, patch_pad = 16, 16, 16, 0\n",
        "img_patches = img_crop(imgs[0],patch_w,patch_h,patch_stride,patch_pad)\n",
        "for i in range(1,imgs.shape[0]):\n",
        "  img_patches = np.concatenate((img_patches,img_crop(imgs[i],patch_w,patch_h,patch_stride,patch_pad)))\n",
        "X = img_patches\n",
        "Y = np.asarray([load_mask(mask_imgs[i],patch_w,patch_h,patch_stride,0) for i in range(mask_imgs.shape[0])])\n",
        "Y = np.reshape(Y,-1)"
      ],
      "execution_count": 0,
      "outputs": []
    },
    {
      "metadata": {
        "id": "mwjXtmSojbGF",
        "colab_type": "code",
        "colab": {}
      },
      "cell_type": "code",
      "source": [
        "Y_2d = np_utils.to_categorical(Y, num_classes=2)"
      ],
      "execution_count": 0,
      "outputs": []
    },
    {
      "metadata": {
        "id": "9wL1ASvgjey8",
        "colab_type": "code",
        "colab": {
          "base_uri": "https://localhost:8080/",
          "height": 82
        },
        "outputId": "419fa27d-d034-4db0-f074-c7ab5f475dda"
      },
      "cell_type": "code",
      "source": [
        "print(X.shape)\n",
        "print(Y.shape)\n",
        "print(sum(Y))\n",
        "print(Y_2d.shape)\n",
        "\n",
        "\n",
        "del img_patches\n",
        "del imgs\n",
        "del mask_imgs"
      ],
      "execution_count": 12,
      "outputs": [
        {
          "output_type": "stream",
          "text": [
            "(198450, 16, 16, 3)\n",
            "(198450,)\n",
            "7995\n",
            "(198450, 2)\n"
          ],
          "name": "stdout"
        }
      ]
    },
    {
      "metadata": {
        "id": "8zDbB9c9jw7A",
        "colab_type": "code",
        "colab": {}
      },
      "cell_type": "code",
      "source": [
        "output = model.predict(X)"
      ],
      "execution_count": 0,
      "outputs": []
    },
    {
      "metadata": {
        "id": "_m1mTkhUlGwu",
        "colab_type": "code",
        "colab": {
          "base_uri": "https://localhost:8080/",
          "height": 50
        },
        "outputId": "ed45f4d6-941c-4554-93ef-c1acfe9a8c6d"
      },
      "cell_type": "code",
      "source": [
        "print(output.shape)\n",
        "print(Y_2d.shape)"
      ],
      "execution_count": 15,
      "outputs": [
        {
          "output_type": "stream",
          "text": [
            "(198450, 2)\n",
            "(198450, 2)\n"
          ],
          "name": "stdout"
        }
      ]
    },
    {
      "metadata": {
        "id": "UN06hZ4skxCE",
        "colab_type": "code",
        "colab": {
          "base_uri": "https://localhost:8080/",
          "height": 66
        },
        "outputId": "82a8c14e-a0b0-461b-f33a-39e49240c02d"
      },
      "cell_type": "code",
      "source": [
        "correct, falsePos, falseNeg = 0, 0, 0\n",
        "\n",
        "for i, scores in enumerate(output):\n",
        "\n",
        "    pred = np.argmax(scores).astype( np.float32 )\n",
        "    label = np.argmax(Y_2d[i]).astype( np.float32 )\n",
        "#     print(i, scores, pred, label)\n",
        "    if(pred == label):\n",
        "        correct+=1\n",
        "    else:\n",
        "        if(pred==1):\n",
        "            falsePos+=1\n",
        "        elif(pred==0):\n",
        "            falseNeg+=1\n",
        "print(\"Prediction Scores\")\n",
        "print(\"Accuracy: \", (correct/len(output)))\n",
        "print(\"False Positive: \",falsePos, \"False Negative: \",falseNeg)"
      ],
      "execution_count": 16,
      "outputs": [
        {
          "output_type": "stream",
          "text": [
            "Prediction Scores\n",
            "Accuracy:  0.8105618543713782\n",
            "False Positive:  36087 False Negative:  1507\n"
          ],
          "name": "stdout"
        }
      ]
    },
    {
      "metadata": {
        "id": "WzPCQSXtlWfY",
        "colab_type": "code",
        "colab": {
          "base_uri": "https://localhost:8080/",
          "height": 50
        },
        "outputId": "732a3ca9-00e0-42ef-95e1-0602af85dde3"
      },
      "cell_type": "code",
      "source": [
        "score = model.evaluate(X, Y_2d, batch_size=128)\n",
        "print(score)"
      ],
      "execution_count": 13,
      "outputs": [
        {
          "output_type": "stream",
          "text": [
            "198450/198450 [==============================] - 14s 70us/step\n",
            "[0.37368449107450724, 0.8105618543707774]\n"
          ],
          "name": "stdout"
        }
      ]
    },
    {
      "metadata": {
        "id": "kQurmxKiyvX0",
        "colab_type": "text"
      },
      "cell_type": "markdown",
      "source": [
        "# Helper Functions"
      ]
    },
    {
      "metadata": {
        "id": "QPAdf3DdzCf3",
        "colab_type": "code",
        "colab": {}
      },
      "cell_type": "code",
      "source": [
        "def img_crop(im, w, h, stride, padding):\n",
        "    \"\"\" Crop an image into patches, taking into account mirror boundary conditions. \"\"\"\n",
        "    assert len(im.shape) == 3, 'Expected RGB image.'\n",
        "    num_patches = int((im.shape[0]-w)*(im.shape[1]-h)/(stride*stride))\n",
        "    np_patches = np.ndarray((num_patches,w,h,3))\n",
        "    imgwidth = im.shape[0]\n",
        "    half_w = int(w/2)\n",
        "    half_h = int(h/2)\n",
        "    imgheight = im.shape[1]\n",
        "#     im = np.lib.pad(im, ((padding, padding), (padding, padding), (0,0)), 'reflect')\n",
        "    ind = 0\n",
        "    for i in range(int(padding+(h/2)),int(imgheight+padding-(h/2)),stride):\n",
        "        for j in range(int(padding+(w/2)),int(imgwidth+padding-(w/2)),stride):\n",
        "            im_patch = im[j-half_w-padding:j+half_w+padding, i-half_h-padding:i+half_h+padding, :]\n",
        "            np_patches[ind,:,:,:] = im_patch\n",
        "            ind = ind+1\n",
        "    return np_patches\n",
        "      \n",
        "def create_patches(X, patch_size, stride, padding):\n",
        "    img_patches = np.asarray([img_crop(X[i], patch_size, patch_size, stride, padding) for i in range(X.shape[0])])\n",
        "    # Linearize list\n",
        "    img_patches = img_patches.reshape(-1, img_patches.shape[2], img_patches.shape[3], img_patches.shape[4])\n",
        "    return img_patches\n",
        "  \n",
        "def load_mask(img,w,h,stride,padding):\n",
        "    list_patches = []\n",
        "    imgwidth = img.shape[0]\n",
        "    imgheight = img.shape[1]\n",
        "    for i in range(int(padding+(h/2)),int(imgheight+padding-(h/2)),stride):\n",
        "      for j in range(int(padding+(w/2)),int(imgwidth+padding-(w/2)),stride):\n",
        "        if img[j,i]>0.5:\n",
        "          list_patches.append(1)\n",
        "        else:\n",
        "          list_patches.append(0)\n",
        "    return list_patches"
      ],
      "execution_count": 0,
      "outputs": []
    },
    {
      "metadata": {
        "id": "FusisOg9yxxj",
        "colab_type": "code",
        "colab": {}
      },
      "cell_type": "code",
      "source": [
        "def load_image(fileName):\n",
        "    return mpimg.imread(fileName)\n",
        "  \n",
        "def load_gray_image(infilename):\n",
        "    img = cv2.imread(infilename)\n",
        "    gray = cv2.cvtColor(img, cv2.COLOR_RGB2GRAY)\n",
        "    resized_image = cv2.resize(gray, (72,72)) \n",
        "    return gray\n",
        "  \n",
        "def grey_scale_conversion(img):\n",
        "    new_img = np.zeros((img.shape[0],img.shape[1]))\n",
        "    for i in range(img.shape[0]):\n",
        "        for j in range(img.shape[1]):\n",
        "            if img[i,j,1] == 1.0:\n",
        "                new_img[i,j] = 1\n",
        "    return new_img\n",
        "  \n",
        "def grey_scale_conversion(img):\n",
        "    new_img = np.zeros((img.shape[0],img.shape[1]))\n",
        "    for i in range(img.shape[0]):\n",
        "        for j in range(img.shape[1]):\n",
        "            if img[i,j,1] == 1.0:\n",
        "                new_img[i,j] = 1\n",
        "    return new_img\n",
        "  \n",
        "\n",
        "def pad_image(data, padding):\n",
        "    \"\"\"\n",
        "    Extend the canvas of an image. Mirror boundary conditions are applied.\n",
        "    \"\"\"\n",
        "    if len(data.shape) < 3:\n",
        "        # Greyscale image (ground truth)\n",
        "        data = np.lib.pad(data, ((padding, padding), (padding, padding)), 'reflect')\n",
        "    else:\n",
        "        # RGB image\n",
        "        data = np.lib.pad(data, ((padding, padding), (padding, padding), (0,0)), 'reflect')\n",
        "    return data\n",
        "    \n",
        "def img_crop_gt(im, w, h, stride):\n",
        "    \"\"\" Crop an image into patches (this method is intended for ground truth images). \"\"\"\n",
        "    assert len(im.shape) == 2, 'Expected greyscale image.'\n",
        "    list_patches = []\n",
        "    imgwidth = im.shape[0]\n",
        "    imgheight = im.shape[1]\n",
        "    for i in range(0,imgheight,stride):\n",
        "        for j in range(0,imgwidth,stride):\n",
        "            im_patch = im[j:j+w, i:i+h]\n",
        "            list_patches.append(im_patch)\n",
        "    return list_patches\n",
        "    \n",
        "      \n",
        "    \n",
        "def create_patches_gt(X, patch_size, stride):\n",
        "    img_patches = np.asarray([img_crop_gt(X[i], patch_size, patch_size, stride) for i in range(X.shape[0])])\n",
        "    # Linearize list\n",
        "    img_patches = img_patches.reshape(-1, img_patches.shape[2], img_patches.shape[3])\n",
        "    return img_patches\n",
        "    \n",
        "def group_patches(patches, num_images):\n",
        "    return patches.reshape(num_images, -1)\n",
        "\n",
        "def extract_img_features(filename, stride):\n",
        "    img = load_image(filename)\n",
        "    img_patches = img_crop(img, patch_size, patch_size, stride, padding)\n",
        "    X = np.asarray([img_patches[i] for i in range(len(img_patches))])\n",
        "    return X"
      ],
      "execution_count": 0,
      "outputs": []
    }
  ]
}