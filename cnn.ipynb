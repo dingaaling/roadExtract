{
  "nbformat": 4,
  "nbformat_minor": 0,
  "metadata": {
    "colab": {
      "name": "cnn.ipynb",
      "version": "0.3.2",
      "provenance": []
    },
    "kernelspec": {
      "name": "python3",
      "display_name": "Python 3"
    },
    "accelerator": "GPU"
  },
  "cells": [
    {
      "cell_type": "markdown",
      "metadata": {
        "id": "view-in-github",
        "colab_type": "text"
      },
      "source": [
        "[View in Colaboratory](https://colab.research.google.com/github/dingaaling/roadExtract/blob/master/cnn.ipynb)"
      ]
    },
    {
      "metadata": {
        "id": "zxnQvWUOP3dH",
        "colab_type": "code",
        "colab": {
          "base_uri": "https://localhost:8080/",
          "height": 103
        },
        "outputId": "541c0568-5303-4bea-c8da-faf5ab9d4bb8"
      },
      "cell_type": "code",
      "source": [
        "!apt-get install -y -qq software-properties-common python-software-properties module-init-tools\n",
        "!add-apt-repository -y ppa:alessandro-strada/ppa 2>&1 > /dev/null\n",
        "!apt-get update -qq 2>&1 > /dev/null\n",
        "!apt-get -y install -qq google-drive-ocamlfuse fuse\n",
        "from google.colab import auth\n",
        "auth.authenticate_user()\n",
        "from oauth2client.client import GoogleCredentials\n",
        "creds = GoogleCredentials.get_application_default()\n",
        "import getpass\n",
        "!google-drive-ocamlfuse -headless -id={creds.client_id} -secret={creds.client_secret} < /dev/null 2>&1 | grep URL\n",
        "vcode = getpass.getpass()\n",
        "!echo {vcode} | google-drive-ocamlfuse -headless -id={creds.client_id} -secret={creds.client_secret}"
      ],
      "execution_count": 1,
      "outputs": [
        {
          "output_type": "stream",
          "text": [
            "Please, open the following URL in a web browser: https://accounts.google.com/o/oauth2/auth?client_id=32555940559.apps.googleusercontent.com&redirect_uri=urn%3Aietf%3Awg%3Aoauth%3A2.0%3Aoob&scope=https%3A%2F%2Fwww.googleapis.com%2Fauth%2Fdrive&response_type=code&access_type=offline&approval_prompt=force\r\n",
            "··········\n",
            "Please, open the following URL in a web browser: https://accounts.google.com/o/oauth2/auth?client_id=32555940559.apps.googleusercontent.com&redirect_uri=urn%3Aietf%3Awg%3Aoauth%3A2.0%3Aoob&scope=https%3A%2F%2Fwww.googleapis.com%2Fauth%2Fdrive&response_type=code&access_type=offline&approval_prompt=force\n",
            "Please enter the verification code: Access token retrieved correctly.\n"
          ],
          "name": "stdout"
        }
      ]
    },
    {
      "metadata": {
        "id": "0Y1m7GIcQCoG",
        "colab_type": "code",
        "colab": {
          "base_uri": "https://localhost:8080/",
          "height": 50
        },
        "outputId": "2adcbaa8-b0ac-4d5d-a845-6d9940017989"
      },
      "cell_type": "code",
      "source": [
        "!mkdir -p drive\n",
        "!google-drive-ocamlfuse drive"
      ],
      "execution_count": 1,
      "outputs": [
        {
          "output_type": "stream",
          "text": [
            "fuse: mountpoint is not empty\r\n",
            "fuse: if you are sure this is safe, use the 'nonempty' mount option\r\n"
          ],
          "name": "stdout"
        }
      ]
    },
    {
      "metadata": {
        "id": "GZbnbubeQDzn",
        "colab_type": "code",
        "colab": {
          "base_uri": "https://localhost:8080/",
          "height": 33
        },
        "outputId": "c14e5db3-5cdb-4bbf-b22d-9258eb7b06a0"
      },
      "cell_type": "code",
      "source": [
        "import os, cv2, sklearn, random\n",
        "import numpy as np\n",
        "import matplotlib.image as mpimg\n",
        "import matplotlib.pyplot as plt\n",
        "from PIL import Image\n",
        "from sklearn.preprocessing import PolynomialFeatures\n",
        "from sklearn import linear_model\n",
        "import keras\n",
        "from keras.models import Sequential, load_model\n",
        "from keras.layers import Dense, Dropout, Activation, Flatten\n",
        "from keras.layers import Conv2D, Convolution2D, MaxPooling2D\n",
        "from keras.optimizers import SGD, Adam\n",
        "from keras.utils import np_utils\n",
        "from keras import backend as K\n",
        "from keras.regularizers import l2\n",
        "from keras.layers import LeakyReLU\n",
        "from keras.callbacks import ReduceLROnPlateau, EarlyStopping\n",
        "from keras.utils import np_utils"
      ],
      "execution_count": 3,
      "outputs": [
        {
          "output_type": "stream",
          "text": [
            "Using TensorFlow backend.\n"
          ],
          "name": "stderr"
        }
      ]
    },
    {
      "metadata": {
        "id": "-_DFMVHhQFUm",
        "colab_type": "code",
        "colab": {}
      },
      "cell_type": "code",
      "source": [
        "root_dir = os.getcwd() + \"/drive/road_extract/data/sample/\"\n",
        "image_dir = root_dir + \"train_sample/\"\n",
        "mask_dir = root_dir + \"mask_sample/\"\n",
        "\n",
        "imgs, mask_imgs = [], []\n",
        "\n",
        "\n",
        "for im in os.listdir(image_dir):\n",
        "  imPath = image_dir + im\n",
        "  maskPath = mask_dir + im.split('_')[0] + \"_mask.png\"\n",
        "  \n",
        "  imgs.append(load_image(imPath))\n",
        "  mask_imgs.append(load_gray_image(maskPath))\n",
        "  \n",
        "\n",
        "imgs = np.asarray(imgs)\n",
        "mask_imgs = np.asarray(mask_imgs)"
      ],
      "execution_count": 0,
      "outputs": []
    },
    {
      "metadata": {
        "id": "lsWzDq0oxvrb",
        "colab_type": "code",
        "colab": {
          "base_uri": "https://localhost:8080/",
          "height": 50
        },
        "outputId": "e7b2c3ac-d64f-4381-fcf5-f97e2e3369e3"
      },
      "cell_type": "code",
      "source": [
        "print(imgs.shape)\n",
        "print(mask_imgs.shape)"
      ],
      "execution_count": 5,
      "outputs": [
        {
          "output_type": "stream",
          "text": [
            "(300, 1024, 1024, 3)\n",
            "(300, 1024, 1024)\n"
          ],
          "name": "stdout"
        }
      ]
    },
    {
      "metadata": {
        "id": "AtzbbogTiyNQ",
        "colab_type": "code",
        "colab": {}
      },
      "cell_type": "code",
      "source": [
        "imgs = imgs[:200,:,:,:]\n",
        "mask_imgs = mask_imgs[:200,:,:]"
      ],
      "execution_count": 0,
      "outputs": []
    },
    {
      "metadata": {
        "id": "pWVdyd1AizTX",
        "colab_type": "code",
        "colab": {
          "base_uri": "https://localhost:8080/",
          "height": 50
        },
        "outputId": "b2355c2a-8f3a-46a4-db9d-d24b4aa58cb7"
      },
      "cell_type": "code",
      "source": [
        "print(imgs.shape)\n",
        "print(mask_imgs.shape)"
      ],
      "execution_count": 7,
      "outputs": [
        {
          "output_type": "stream",
          "text": [
            "(200, 1024, 1024, 3)\n",
            "(200, 1024, 1024)\n"
          ],
          "name": "stdout"
        }
      ]
    },
    {
      "metadata": {
        "id": "6AjiqH8-y5vH",
        "colab_type": "text"
      },
      "cell_type": "markdown",
      "source": [
        "# Create Array of Windows and Labels"
      ]
    },
    {
      "metadata": {
        "id": "Yx0qDPIvy9EG",
        "colab_type": "code",
        "colab": {}
      },
      "cell_type": "code",
      "source": [
        "patch_w, patch_h, patch_stride, patch_pad = 32, 32, 32, 0\n",
        "img_patches = img_crop(imgs[0],patch_w,patch_h,patch_stride,patch_pad)\n",
        "for i in range(1,imgs.shape[0]):\n",
        "  img_patches = np.concatenate((img_patches,img_crop(imgs[i],patch_w,patch_h,patch_stride,patch_pad)))\n",
        "X = img_patches\n",
        "Y = np.asarray([load_mask(mask_imgs[i],patch_w,patch_h,patch_stride,0) for i in range(mask_imgs.shape[0])])\n",
        "Y = np.reshape(Y,-1)\n"
      ],
      "execution_count": 0,
      "outputs": []
    },
    {
      "metadata": {
        "id": "qZ6tdMd4zUON",
        "colab_type": "code",
        "colab": {
          "base_uri": "https://localhost:8080/",
          "height": 191
        },
        "outputId": "c28d2719-a64c-4225-aaa0-feadef173d13"
      },
      "cell_type": "code",
      "source": [
        "print(X.shape)\n",
        "print(Y.shape)\n",
        "print(sum(Y))"
      ],
      "execution_count": 1,
      "outputs": [
        {
          "output_type": "error",
          "ename": "NameError",
          "evalue": "ignored",
          "traceback": [
            "\u001b[0;31m---------------------------------------------------------------------------\u001b[0m",
            "\u001b[0;31mNameError\u001b[0m                                 Traceback (most recent call last)",
            "\u001b[0;32m<ipython-input-1-5fe59910a6e7>\u001b[0m in \u001b[0;36m<module>\u001b[0;34m()\u001b[0m\n\u001b[0;32m----> 1\u001b[0;31m \u001b[0mprint\u001b[0m\u001b[0;34m(\u001b[0m\u001b[0mX\u001b[0m\u001b[0;34m.\u001b[0m\u001b[0mshape\u001b[0m\u001b[0;34m)\u001b[0m\u001b[0;34m\u001b[0m\u001b[0m\n\u001b[0m\u001b[1;32m      2\u001b[0m \u001b[0mprint\u001b[0m\u001b[0;34m(\u001b[0m\u001b[0mY\u001b[0m\u001b[0;34m.\u001b[0m\u001b[0mshape\u001b[0m\u001b[0;34m)\u001b[0m\u001b[0;34m\u001b[0m\u001b[0m\n\u001b[1;32m      3\u001b[0m \u001b[0mprint\u001b[0m\u001b[0;34m(\u001b[0m\u001b[0msum\u001b[0m\u001b[0;34m(\u001b[0m\u001b[0mY\u001b[0m\u001b[0;34m)\u001b[0m\u001b[0;34m)\u001b[0m\u001b[0;34m\u001b[0m\u001b[0m\n",
            "\u001b[0;31mNameError\u001b[0m: name 'X' is not defined"
          ]
        }
      ]
    },
    {
      "metadata": {
        "id": "74gJy09tz3qM",
        "colab_type": "code",
        "colab": {}
      },
      "cell_type": "code",
      "source": [
        "Y_2d = np_utils.to_categorical(Y, num_classes=2)"
      ],
      "execution_count": 0,
      "outputs": []
    },
    {
      "metadata": {
        "id": "qFqoTC7g1Bfv",
        "colab_type": "code",
        "colab": {}
      },
      "cell_type": "code",
      "source": [
        "del img_patches\n",
        "del imgs\n",
        "del mask_imgs"
      ],
      "execution_count": 0,
      "outputs": []
    },
    {
      "metadata": {
        "id": "-RSTYPXkz7Vl",
        "colab_type": "code",
        "colab": {
          "base_uri": "https://localhost:8080/",
          "height": 83
        },
        "outputId": "b552ee4a-5478-4b94-cd2b-5b178db8dce6"
      },
      "cell_type": "code",
      "source": [
        "X_road = np.zeros((np.count_nonzero(Y_2d[:,1]),X.shape[1],X.shape[2],X.shape[3]))\n",
        "Y_road_2d = np.zeros((np.count_nonzero(Y_2d[:,1]),Y_2d.shape[1]))\n",
        "X_nonroad = np.zeros(((X.shape[0]-np.count_nonzero(Y_2d[:,1])),X.shape[1],X.shape[2],X.shape[3]))\n",
        "Y_nonroad_2d = np.zeros(((X.shape[0]-np.count_nonzero(Y_2d[:,1])),Y_2d.shape[1]))\n",
        "print(X_road.shape)\n",
        "print(Y_road_2d.shape)\n",
        "print(X_nonroad.shape)\n",
        "print(Y_nonroad_2d.shape)\n",
        "road_ind = 0\n",
        "nonroad_ind = 0\n",
        "for i in range(X.shape[0]):\n",
        "  if Y[i]>0.5:\n",
        "    X_road[road_ind,:,:,:] = X[i,:,:,:]\n",
        "    Y_road_2d[road_ind,:] = Y_2d[i,:]\n",
        "    road_ind = road_ind+1\n",
        "  else:\n",
        "    X_nonroad[nonroad_ind,:,:,:] = X[i,:,:,:]\n",
        "    Y_nonroad_2d[nonroad_ind,:] = Y_2d[i,:]\n",
        "    nonroad_ind = nonroad_ind+1"
      ],
      "execution_count": 11,
      "outputs": [
        {
          "output_type": "stream",
          "text": [
            "(8123, 32, 32, 3)\n",
            "(8123, 2)\n",
            "(184077, 32, 32, 3)\n",
            "(184077, 2)\n"
          ],
          "name": "stdout"
        }
      ]
    },
    {
      "metadata": {
        "id": "OP44QdLh0B2q",
        "colab_type": "code",
        "colab": {}
      },
      "cell_type": "code",
      "source": [
        "X_nonroad_sample = np.zeros(X_road.shape)\n",
        "Y_2d_nonroad_sample = np.zeros(Y_road_2d.shape)\n",
        "rand_ind_nonroad = random.sample(np.ndarray.tolist(np.arange(X_nonroad.shape[0])),np.count_nonzero(Y_2d[:,1]))\n",
        "x_ind = 0\n",
        "y_ind = 0\n",
        "for ind in rand_ind_nonroad:\n",
        "  X_nonroad_sample[x_ind,:,:,:] = X_nonroad[ind,:,:,:]\n",
        "  Y_2d_nonroad_sample[y_ind,:] = Y_nonroad_2d[ind,:]\n",
        "  x_ind = x_ind+1\n",
        "  y_ind = y_ind+1"
      ],
      "execution_count": 0,
      "outputs": []
    },
    {
      "metadata": {
        "id": "gtfdttWI0Eaz",
        "colab_type": "code",
        "colab": {}
      },
      "cell_type": "code",
      "source": [
        "X_even = np.zeros((2*np.count_nonzero(Y_2d[:,1]),X.shape[1],X.shape[2],X.shape[3]))\n",
        "Y_even_2d = np.zeros((2*np.count_nonzero(Y_2d[:,1]),Y_2d.shape[1]))\n",
        "X_even[0:np.count_nonzero(Y_2d[:,1]),:,:,:] = X_road\n",
        "Y_even_2d[0:np.count_nonzero(Y_2d[:,1]),:] = Y_road_2d\n",
        "X_even[np.count_nonzero(Y_2d[:,1]):2*np.count_nonzero(Y_2d[:,1]),:,:,:] = X_nonroad_sample\n",
        "Y_even_2d[np.count_nonzero(Y_2d[:,1]):2*np.count_nonzero(Y_2d[:,1]),:] = Y_2d_nonroad_sample"
      ],
      "execution_count": 0,
      "outputs": []
    },
    {
      "metadata": {
        "id": "6aFhvHRf1PAa",
        "colab_type": "code",
        "colab": {}
      },
      "cell_type": "code",
      "source": [
        "del X, Y, X_road, Y_road_2d, X_nonroad, Y_nonroad_2d"
      ],
      "execution_count": 0,
      "outputs": []
    },
    {
      "metadata": {
        "id": "a80pkmUd2ZmN",
        "colab_type": "code",
        "colab": {
          "base_uri": "https://localhost:8080/",
          "height": 50
        },
        "outputId": "76332d93-3070-4337-b390-9deb5feea635"
      },
      "cell_type": "code",
      "source": [
        "print(X_even.shape)\n",
        "print(Y_even_2d.shape)"
      ],
      "execution_count": 18,
      "outputs": [
        {
          "output_type": "stream",
          "text": [
            "(16246, 32, 32, 3)\n",
            "(16246, 2)\n"
          ],
          "name": "stdout"
        }
      ]
    },
    {
      "metadata": {
        "id": "iFjLDkEl1QK0",
        "colab_type": "text"
      },
      "cell_type": "markdown",
      "source": [
        "# CNN Model"
      ]
    },
    {
      "metadata": {
        "id": "3KGZFInF1SVE",
        "colab_type": "code",
        "colab": {
          "base_uri": "https://localhost:8080/",
          "height": 196
        },
        "outputId": "3eb8bfe1-e4a2-43f9-8848-3733ffa6da91"
      },
      "cell_type": "code",
      "source": [
        "pool_size = (2, 2)\n",
        "reg = 1e-6 # L2 regularization factor (used on weights, but not biases)\n",
        "nb_classes = 2\n",
        "\n",
        "model = Sequential()\n",
        "\n",
        "model.add(Convolution2D(64, 5, 5, # 64 5x5 filters\n",
        "                        border_mode='same',\n",
        "                        input_shape=(patch_w,patch_h, 3)))\n",
        "model.add(LeakyReLU(alpha=0.1))\n",
        "model.add(MaxPooling2D(pool_size=pool_size, border_mode='same'))\n",
        "model.add(Dropout(0.25))\n",
        "\n",
        "model.add(Convolution2D(128, 3, 3, # 128 3x3 filters\n",
        "                        border_mode='same'))\n",
        "model.add(LeakyReLU(alpha=0.1))\n",
        "model.add(MaxPooling2D(pool_size=pool_size, border_mode='same'))\n",
        "model.add(Dropout(0.25))\n",
        "\n",
        "model.add(Convolution2D(256, 3, 3, # 256 3x3 filters\n",
        "                        border_mode='same'))\n",
        "model.add(LeakyReLU(alpha=0.1))\n",
        "model.add(MaxPooling2D(pool_size=pool_size, border_mode='same'))\n",
        "model.add(Dropout(0.25))\n",
        "\n",
        "model.add(Flatten())\n",
        "model.add(Dense(128, W_regularizer=l2(reg))) # Fully connected layer (128 neurons)\n",
        "model.add(LeakyReLU(alpha=0.1))\n",
        "model.add(Dropout(0.5))\n",
        "\n",
        "model.add(Dense(nb_classes, W_regularizer=l2(reg)))\n",
        "model.add(Activation('softmax'))"
      ],
      "execution_count": 15,
      "outputs": [
        {
          "output_type": "stream",
          "text": [
            "/usr/local/lib/python3.6/dist-packages/ipykernel_launcher.py:9: UserWarning: Update your `Conv2D` call to the Keras 2 API: `Conv2D(64, (5, 5), input_shape=(32, 32, 3..., padding=\"same\")`\n",
            "  if __name__ == '__main__':\n",
            "/usr/local/lib/python3.6/dist-packages/ipykernel_launcher.py:11: UserWarning: Update your `MaxPooling2D` call to the Keras 2 API: `MaxPooling2D(pool_size=(2, 2), padding=\"same\")`\n",
            "  # This is added back by InteractiveShellApp.init_path()\n",
            "/usr/local/lib/python3.6/dist-packages/ipykernel_launcher.py:15: UserWarning: Update your `Conv2D` call to the Keras 2 API: `Conv2D(128, (3, 3), padding=\"same\")`\n",
            "  from ipykernel import kernelapp as app\n",
            "/usr/local/lib/python3.6/dist-packages/ipykernel_launcher.py:17: UserWarning: Update your `MaxPooling2D` call to the Keras 2 API: `MaxPooling2D(pool_size=(2, 2), padding=\"same\")`\n",
            "/usr/local/lib/python3.6/dist-packages/ipykernel_launcher.py:21: UserWarning: Update your `Conv2D` call to the Keras 2 API: `Conv2D(256, (3, 3), padding=\"same\")`\n",
            "/usr/local/lib/python3.6/dist-packages/ipykernel_launcher.py:23: UserWarning: Update your `MaxPooling2D` call to the Keras 2 API: `MaxPooling2D(pool_size=(2, 2), padding=\"same\")`\n",
            "/usr/local/lib/python3.6/dist-packages/ipykernel_launcher.py:33: UserWarning: Update your `Dense` call to the Keras 2 API: `Dense(128, kernel_regularizer=<keras.reg...)`\n",
            "/usr/local/lib/python3.6/dist-packages/ipykernel_launcher.py:37: UserWarning: Update your `Dense` call to the Keras 2 API: `Dense(2, kernel_regularizer=<keras.reg...)`\n"
          ],
          "name": "stderr"
        }
      ]
    },
    {
      "metadata": {
        "id": "S1fPJOZu1YD5",
        "colab_type": "code",
        "colab": {
          "base_uri": "https://localhost:8080/",
          "height": 716
        },
        "outputId": "7859fa31-c578-4a35-9c5a-0ddc2a42eea4"
      },
      "cell_type": "code",
      "source": [
        "model.summary()"
      ],
      "execution_count": 16,
      "outputs": [
        {
          "output_type": "stream",
          "text": [
            "_________________________________________________________________\n",
            "Layer (type)                 Output Shape              Param #   \n",
            "=================================================================\n",
            "conv2d_1 (Conv2D)            (None, 32, 32, 64)        4864      \n",
            "_________________________________________________________________\n",
            "leaky_re_lu_1 (LeakyReLU)    (None, 32, 32, 64)        0         \n",
            "_________________________________________________________________\n",
            "max_pooling2d_1 (MaxPooling2 (None, 16, 16, 64)        0         \n",
            "_________________________________________________________________\n",
            "dropout_1 (Dropout)          (None, 16, 16, 64)        0         \n",
            "_________________________________________________________________\n",
            "conv2d_2 (Conv2D)            (None, 16, 16, 128)       73856     \n",
            "_________________________________________________________________\n",
            "leaky_re_lu_2 (LeakyReLU)    (None, 16, 16, 128)       0         \n",
            "_________________________________________________________________\n",
            "max_pooling2d_2 (MaxPooling2 (None, 8, 8, 128)         0         \n",
            "_________________________________________________________________\n",
            "dropout_2 (Dropout)          (None, 8, 8, 128)         0         \n",
            "_________________________________________________________________\n",
            "conv2d_3 (Conv2D)            (None, 8, 8, 256)         295168    \n",
            "_________________________________________________________________\n",
            "leaky_re_lu_3 (LeakyReLU)    (None, 8, 8, 256)         0         \n",
            "_________________________________________________________________\n",
            "max_pooling2d_3 (MaxPooling2 (None, 4, 4, 256)         0         \n",
            "_________________________________________________________________\n",
            "dropout_3 (Dropout)          (None, 4, 4, 256)         0         \n",
            "_________________________________________________________________\n",
            "flatten_1 (Flatten)          (None, 4096)              0         \n",
            "_________________________________________________________________\n",
            "dense_1 (Dense)              (None, 128)               524416    \n",
            "_________________________________________________________________\n",
            "leaky_re_lu_4 (LeakyReLU)    (None, 128)               0         \n",
            "_________________________________________________________________\n",
            "dropout_4 (Dropout)          (None, 128)               0         \n",
            "_________________________________________________________________\n",
            "dense_2 (Dense)              (None, 2)                 258       \n",
            "_________________________________________________________________\n",
            "activation_1 (Activation)    (None, 2)                 0         \n",
            "=================================================================\n",
            "Total params: 898,562\n",
            "Trainable params: 898,562\n",
            "Non-trainable params: 0\n",
            "_________________________________________________________________\n"
          ],
          "name": "stdout"
        }
      ]
    },
    {
      "metadata": {
        "id": "Ig-OZZlV1abh",
        "colab_type": "code",
        "colab": {}
      },
      "cell_type": "code",
      "source": [
        "adam = Adam(lr=0.00001, beta_1=0.9, beta_2=0.999, epsilon=1e-08, decay=0.0)\n",
        "model.compile(optimizer=adam,loss='binary_crossentropy',metrics=['accuracy'])"
      ],
      "execution_count": 0,
      "outputs": []
    },
    {
      "metadata": {
        "id": "91IYl8Ig1hI0",
        "colab_type": "code",
        "colab": {
          "base_uri": "https://localhost:8080/",
          "height": 3284
        },
        "outputId": "3f471860-0612-4c72-fb72-fd3cbbfb74dc"
      },
      "cell_type": "code",
      "source": [
        "model.fit(X_even,Y_even_2d, batch_size=128, epochs=100)"
      ],
      "execution_count": 19,
      "outputs": [
        {
          "output_type": "stream",
          "text": [
            "Epoch 1/100\n",
            "16246/16246 [==============================] - 10s 617us/step - loss: 7.1037 - acc: 0.4943\n",
            "Epoch 2/100\n",
            "16246/16246 [==============================] - 6s 373us/step - loss: 6.6224 - acc: 0.4991\n",
            "Epoch 3/100\n",
            "16246/16246 [==============================] - 6s 372us/step - loss: 5.4265 - acc: 0.5199\n",
            "Epoch 4/100\n",
            "16246/16246 [==============================] - 6s 375us/step - loss: 3.3435 - acc: 0.5367\n",
            "Epoch 5/100\n",
            "10752/16246 [==================>...........] - ETA: 2s - loss: 2.1258 - acc: 0.5414"
          ],
          "name": "stdout"
        },
        {
          "output_type": "stream",
          "text": [
            "16246/16246 [==============================] - 6s 372us/step - loss: 2.0362 - acc: 0.5397\n",
            "Epoch 6/100\n",
            "16246/16246 [==============================] - 6s 375us/step - loss: 1.6701 - acc: 0.5443\n",
            "Epoch 7/100\n",
            "16246/16246 [==============================] - 6s 374us/step - loss: 1.4539 - acc: 0.5423\n",
            "Epoch 8/100\n",
            "16246/16246 [==============================] - 6s 373us/step - loss: 1.2532 - acc: 0.5590\n",
            "Epoch 9/100\n",
            "14592/16246 [=========================>....] - ETA: 0s - loss: 1.1730 - acc: 0.5659"
          ],
          "name": "stdout"
        },
        {
          "output_type": "stream",
          "text": [
            "16246/16246 [==============================] - 6s 372us/step - loss: 1.1637 - acc: 0.5654\n",
            "Epoch 10/100\n",
            "16246/16246 [==============================] - 6s 376us/step - loss: 1.0670 - acc: 0.5742\n",
            "Epoch 11/100\n",
            "16246/16246 [==============================] - 6s 371us/step - loss: 0.9958 - acc: 0.5780\n",
            "Epoch 12/100\n",
            "16246/16246 [==============================] - 6s 370us/step - loss: 0.9424 - acc: 0.5868\n",
            "Epoch 13/100\n",
            "14592/16246 [=========================>....] - ETA: 0s - loss: 0.9031 - acc: 0.5853"
          ],
          "name": "stdout"
        },
        {
          "output_type": "stream",
          "text": [
            "16246/16246 [==============================] - 6s 373us/step - loss: 0.9067 - acc: 0.5844\n",
            "Epoch 14/100\n",
            "16246/16246 [==============================] - 6s 373us/step - loss: 0.8796 - acc: 0.5857\n",
            "Epoch 15/100\n",
            "16246/16246 [==============================] - 6s 372us/step - loss: 0.8454 - acc: 0.5990\n",
            "Epoch 16/100\n",
            "16246/16246 [==============================] - 6s 372us/step - loss: 0.8072 - acc: 0.6070\n",
            "Epoch 17/100\n",
            "15360/16246 [===========================>..] - ETA: 0s - loss: 0.8002 - acc: 0.6053"
          ],
          "name": "stdout"
        },
        {
          "output_type": "stream",
          "text": [
            "16246/16246 [==============================] - 6s 371us/step - loss: 0.8013 - acc: 0.6045\n",
            "Epoch 18/100\n",
            "16246/16246 [==============================] - 6s 373us/step - loss: 0.7789 - acc: 0.6103\n",
            "Epoch 19/100\n",
            "16246/16246 [==============================] - 6s 377us/step - loss: 0.7521 - acc: 0.6211\n",
            "Epoch 20/100\n",
            "16246/16246 [==============================] - 6s 373us/step - loss: 0.7498 - acc: 0.6190\n",
            "Epoch 21/100\n",
            "13568/16246 [========================>.....] - ETA: 1s - loss: 0.7358 - acc: 0.6223"
          ],
          "name": "stdout"
        },
        {
          "output_type": "stream",
          "text": [
            "16246/16246 [==============================] - 6s 375us/step - loss: 0.7366 - acc: 0.6208\n",
            "Epoch 22/100\n",
            "16246/16246 [==============================] - 6s 372us/step - loss: 0.7229 - acc: 0.6267\n",
            "Epoch 23/100\n",
            "16246/16246 [==============================] - 6s 375us/step - loss: 0.7053 - acc: 0.6358\n",
            "Epoch 24/100\n",
            "16246/16246 [==============================] - 6s 372us/step - loss: 0.7007 - acc: 0.6380\n",
            "Epoch 25/100\n",
            "13824/16246 [========================>.....] - ETA: 0s - loss: 0.7015 - acc: 0.6346"
          ],
          "name": "stdout"
        },
        {
          "output_type": "stream",
          "text": [
            "16246/16246 [==============================] - 6s 378us/step - loss: 0.7009 - acc: 0.6348\n",
            "Epoch 26/100\n",
            "16246/16246 [==============================] - 6s 372us/step - loss: 0.6853 - acc: 0.6505\n",
            "Epoch 27/100\n",
            "16246/16246 [==============================] - 6s 373us/step - loss: 0.6812 - acc: 0.6437\n",
            "Epoch 28/100\n",
            "16246/16246 [==============================] - 6s 375us/step - loss: 0.6775 - acc: 0.6474\n",
            "Epoch 29/100\n",
            "13312/16246 [=======================>......] - ETA: 1s - loss: 0.6507 - acc: 0.6593"
          ],
          "name": "stdout"
        },
        {
          "output_type": "stream",
          "text": [
            "16246/16246 [==============================] - 6s 375us/step - loss: 0.6540 - acc: 0.6579\n",
            "Epoch 30/100\n",
            "16246/16246 [==============================] - 6s 377us/step - loss: 0.6567 - acc: 0.6582\n",
            "Epoch 31/100\n",
            "16246/16246 [==============================] - 6s 375us/step - loss: 0.6593 - acc: 0.6602\n",
            "Epoch 32/100\n",
            "16246/16246 [==============================] - 6s 372us/step - loss: 0.6445 - acc: 0.6648\n",
            "Epoch 33/100\n",
            "13952/16246 [========================>.....] - ETA: 0s - loss: 0.6429 - acc: 0.6700"
          ],
          "name": "stdout"
        },
        {
          "output_type": "stream",
          "text": [
            "16246/16246 [==============================] - 6s 372us/step - loss: 0.6419 - acc: 0.6683\n",
            "Epoch 34/100\n",
            "16246/16246 [==============================] - 6s 372us/step - loss: 0.6357 - acc: 0.6760\n",
            "Epoch 35/100\n",
            "16246/16246 [==============================] - 6s 377us/step - loss: 0.6217 - acc: 0.6788\n",
            "Epoch 36/100\n",
            "16246/16246 [==============================] - 6s 375us/step - loss: 0.6213 - acc: 0.6877\n",
            "Epoch 37/100\n",
            "13696/16246 [========================>.....] - ETA: 0s - loss: 0.6179 - acc: 0.6820"
          ],
          "name": "stdout"
        },
        {
          "output_type": "stream",
          "text": [
            "16246/16246 [==============================] - 6s 374us/step - loss: 0.6190 - acc: 0.6828\n",
            "Epoch 38/100\n",
            "16246/16246 [==============================] - 6s 376us/step - loss: 0.6078 - acc: 0.6900\n",
            "Epoch 39/100\n",
            "16246/16246 [==============================] - 6s 374us/step - loss: 0.6072 - acc: 0.6963\n",
            "Epoch 40/100\n",
            "16246/16246 [==============================] - 6s 371us/step - loss: 0.6076 - acc: 0.6944\n",
            "Epoch 41/100\n",
            "15744/16246 [============================>.] - ETA: 0s - loss: 0.6012 - acc: 0.7005"
          ],
          "name": "stdout"
        },
        {
          "output_type": "stream",
          "text": [
            "16246/16246 [==============================] - 6s 368us/step - loss: 0.6010 - acc: 0.6997\n",
            "Epoch 42/100\n",
            "16246/16246 [==============================] - 6s 374us/step - loss: 0.5966 - acc: 0.7019\n",
            "Epoch 43/100\n",
            "16246/16246 [==============================] - 6s 375us/step - loss: 0.5896 - acc: 0.7041\n",
            "Epoch 44/100\n",
            "16246/16246 [==============================] - 6s 374us/step - loss: 0.5858 - acc: 0.7085\n",
            "Epoch 45/100\n",
            "15360/16246 [===========================>..] - ETA: 0s - loss: 0.5877 - acc: 0.7105"
          ],
          "name": "stdout"
        },
        {
          "output_type": "stream",
          "text": [
            "16246/16246 [==============================] - 6s 370us/step - loss: 0.5874 - acc: 0.7112\n",
            "Epoch 46/100\n",
            "16246/16246 [==============================] - 6s 371us/step - loss: 0.5846 - acc: 0.7100\n",
            "Epoch 47/100\n",
            "16246/16246 [==============================] - 6s 371us/step - loss: 0.5819 - acc: 0.7120\n",
            "Epoch 48/100\n",
            "16246/16246 [==============================] - 6s 372us/step - loss: 0.5726 - acc: 0.7194\n",
            "Epoch 49/100\n",
            "14464/16246 [=========================>....] - ETA: 0s - loss: 0.5768 - acc: 0.7154"
          ],
          "name": "stdout"
        },
        {
          "output_type": "stream",
          "text": [
            "16246/16246 [==============================] - 6s 376us/step - loss: 0.5749 - acc: 0.7172\n",
            "Epoch 50/100\n",
            "16246/16246 [==============================] - 6s 373us/step - loss: 0.5709 - acc: 0.7170\n",
            "Epoch 51/100\n",
            "16246/16246 [==============================] - 6s 371us/step - loss: 0.5706 - acc: 0.7215\n",
            "Epoch 52/100\n",
            "16246/16246 [==============================] - 6s 371us/step - loss: 0.5658 - acc: 0.7247\n",
            "Epoch 53/100\n",
            "15104/16246 [==========================>...] - ETA: 0s - loss: 0.5580 - acc: 0.7264"
          ],
          "name": "stdout"
        },
        {
          "output_type": "stream",
          "text": [
            "16246/16246 [==============================] - 6s 374us/step - loss: 0.5602 - acc: 0.7244\n",
            "Epoch 54/100\n",
            "16246/16246 [==============================] - 6s 372us/step - loss: 0.5603 - acc: 0.7249\n",
            "Epoch 55/100\n",
            "16246/16246 [==============================] - 6s 370us/step - loss: 0.5552 - acc: 0.7293\n",
            "Epoch 56/100\n",
            "16246/16246 [==============================] - 6s 366us/step - loss: 0.5526 - acc: 0.7289\n",
            "Epoch 57/100\n",
            "16128/16246 [============================>.] - ETA: 0s - loss: 0.5498 - acc: 0.7354"
          ],
          "name": "stdout"
        },
        {
          "output_type": "stream",
          "text": [
            "16246/16246 [==============================] - 6s 367us/step - loss: 0.5502 - acc: 0.7356\n",
            "Epoch 58/100\n",
            "16246/16246 [==============================] - 6s 364us/step - loss: 0.5482 - acc: 0.7316\n",
            "Epoch 59/100\n",
            "16246/16246 [==============================] - 6s 371us/step - loss: 0.5470 - acc: 0.7322\n",
            "Epoch 60/100\n",
            "16246/16246 [==============================] - 6s 367us/step - loss: 0.5404 - acc: 0.7367\n",
            "Epoch 61/100\n",
            "16246/16246 [==============================] - 6s 370us/step - loss: 0.5457 - acc: 0.7380\n",
            "Epoch 62/100\n",
            "  128/16246 [..............................] - ETA: 5s - loss: 0.5768 - acc: 0.7266"
          ],
          "name": "stdout"
        },
        {
          "output_type": "stream",
          "text": [
            "16246/16246 [==============================] - 6s 365us/step - loss: 0.5409 - acc: 0.7406\n",
            "Epoch 63/100\n",
            "16246/16246 [==============================] - 6s 370us/step - loss: 0.5393 - acc: 0.7406\n",
            "Epoch 64/100\n",
            "16246/16246 [==============================] - 6s 369us/step - loss: 0.5366 - acc: 0.7420\n",
            "Epoch 65/100\n",
            "16246/16246 [==============================] - 6s 368us/step - loss: 0.5335 - acc: 0.7420\n",
            "Epoch 66/100\n",
            "13696/16246 [========================>.....] - ETA: 0s - loss: 0.5382 - acc: 0.7383"
          ],
          "name": "stdout"
        },
        {
          "output_type": "stream",
          "text": [
            "16246/16246 [==============================] - 6s 368us/step - loss: 0.5361 - acc: 0.7391\n",
            "Epoch 67/100\n",
            "16246/16246 [==============================] - 6s 375us/step - loss: 0.5312 - acc: 0.7441\n",
            "Epoch 68/100\n",
            "16246/16246 [==============================] - 6s 367us/step - loss: 0.5288 - acc: 0.7441\n",
            "Epoch 69/100\n",
            "16246/16246 [==============================] - 6s 369us/step - loss: 0.5292 - acc: 0.7468\n",
            "Epoch 70/100\n",
            "16246/16246 [==============================] - 6s 364us/step - loss: 0.5225 - acc: 0.7526\n",
            "Epoch 71/100\n",
            "  128/16246 [..............................] - ETA: 5s - loss: 0.4373 - acc: 0.8516"
          ],
          "name": "stdout"
        },
        {
          "output_type": "stream",
          "text": [
            "16246/16246 [==============================] - 6s 366us/step - loss: 0.5211 - acc: 0.7507\n",
            "Epoch 72/100\n",
            "16246/16246 [==============================] - 6s 368us/step - loss: 0.5199 - acc: 0.7497\n",
            "Epoch 73/100\n",
            "16246/16246 [==============================] - 6s 365us/step - loss: 0.5213 - acc: 0.7484\n",
            "Epoch 74/100\n",
            "16246/16246 [==============================] - 6s 365us/step - loss: 0.5203 - acc: 0.7497\n",
            "Epoch 75/100\n",
            "14464/16246 [=========================>....] - ETA: 0s - loss: 0.5196 - acc: 0.7527"
          ],
          "name": "stdout"
        },
        {
          "output_type": "stream",
          "text": [
            "16246/16246 [==============================] - 6s 367us/step - loss: 0.5181 - acc: 0.7534\n",
            "Epoch 76/100\n",
            "16246/16246 [==============================] - 6s 366us/step - loss: 0.5139 - acc: 0.7606\n",
            "Epoch 77/100\n",
            "16246/16246 [==============================] - 6s 370us/step - loss: 0.5144 - acc: 0.7526\n",
            "Epoch 78/100\n",
            "16246/16246 [==============================] - 6s 366us/step - loss: 0.5109 - acc: 0.7573\n",
            "Epoch 79/100\n",
            "16000/16246 [============================>.] - ETA: 0s - loss: 0.5087 - acc: 0.7605"
          ],
          "name": "stdout"
        },
        {
          "output_type": "stream",
          "text": [
            "\b\b\b\b\b\b\b\b\b\b\b\b\b\b\b\b\b\b\b\b\b\b\b\b\b\b\b\b\b\b\b\b\b\b\b\b\b\b\b\b\b\b\b\b\b\b\b\b\b\b\b\b\b\b\b\b\b\b\b\b\b\b\b\b\b\b\b\b\b\b\b\b\b\b\b\b\b\b\b\b\b\b\b\r16246/16246 [==============================] - 6s 371us/step - loss: 0.5087 - acc: 0.7606\n",
            "Epoch 80/100\n",
            "16246/16246 [==============================] - 6s 367us/step - loss: 0.5107 - acc: 0.7574\n",
            "Epoch 81/100\n",
            "16246/16246 [==============================] - 6s 368us/step - loss: 0.5072 - acc: 0.7575\n",
            "Epoch 82/100\n",
            "16246/16246 [==============================] - 6s 368us/step - loss: 0.5043 - acc: 0.7599\n",
            "Epoch 83/100\n",
            " 6144/16246 [==========>...................] - ETA: 3s - loss: 0.5112 - acc: 0.7572"
          ],
          "name": "stdout"
        },
        {
          "output_type": "stream",
          "text": [
            "16246/16246 [==============================] - 6s 386us/step - loss: 0.5088 - acc: 0.7610\n",
            "Epoch 84/100\n",
            "16246/16246 [==============================] - 6s 365us/step - loss: 0.5048 - acc: 0.7577\n",
            "Epoch 85/100\n",
            "16246/16246 [==============================] - 6s 368us/step - loss: 0.5062 - acc: 0.7597\n",
            "Epoch 86/100\n",
            "16246/16246 [==============================] - 6s 371us/step - loss: 0.4992 - acc: 0.7623\n",
            "Epoch 87/100\n",
            "14336/16246 [=========================>....] - ETA: 0s - loss: 0.5017 - acc: 0.7619"
          ],
          "name": "stdout"
        },
        {
          "output_type": "stream",
          "text": [
            "16246/16246 [==============================] - 6s 369us/step - loss: 0.5009 - acc: 0.7632\n",
            "Epoch 88/100\n",
            "16246/16246 [==============================] - 6s 366us/step - loss: 0.4983 - acc: 0.7667\n",
            "Epoch 89/100\n",
            "16246/16246 [==============================] - 6s 368us/step - loss: 0.4953 - acc: 0.7670\n",
            "Epoch 90/100\n",
            "16246/16246 [==============================] - 6s 365us/step - loss: 0.4993 - acc: 0.7664\n",
            "Epoch 91/100\n",
            "16246/16246 [==============================] - 6s 366us/step - loss: 0.4962 - acc: 0.7713\n",
            "Epoch 92/100\n",
            "  640/16246 [>.............................] - ETA: 5s - loss: 0.5531 - acc: 0.7250"
          ],
          "name": "stdout"
        },
        {
          "output_type": "stream",
          "text": [
            "16246/16246 [==============================] - 6s 368us/step - loss: 0.4962 - acc: 0.7676\n",
            "Epoch 93/100\n",
            "16246/16246 [==============================] - 6s 366us/step - loss: 0.4950 - acc: 0.7684\n",
            "Epoch 94/100\n",
            "16246/16246 [==============================] - 6s 368us/step - loss: 0.4928 - acc: 0.7687\n",
            "Epoch 95/100\n",
            "16246/16246 [==============================] - 6s 364us/step - loss: 0.4906 - acc: 0.7676\n",
            "Epoch 96/100\n",
            "13952/16246 [========================>.....] - ETA: 0s - loss: 0.4904 - acc: 0.7696"
          ],
          "name": "stdout"
        },
        {
          "output_type": "stream",
          "text": [
            "16246/16246 [==============================] - 6s 364us/step - loss: 0.4914 - acc: 0.7689\n",
            "Epoch 97/100\n",
            "16246/16246 [==============================] - 6s 367us/step - loss: 0.4912 - acc: 0.7709\n",
            "Epoch 98/100\n",
            "16246/16246 [==============================] - 6s 366us/step - loss: 0.4923 - acc: 0.7688\n",
            "Epoch 99/100\n",
            "16246/16246 [==============================] - 6s 370us/step - loss: 0.4887 - acc: 0.7683\n",
            "Epoch 100/100\n",
            "15360/16246 [===========================>..] - ETA: 0s - loss: 0.4883 - acc: 0.7693"
          ],
          "name": "stdout"
        },
        {
          "output_type": "stream",
          "text": [
            "16246/16246 [==============================] - 6s 373us/step - loss: 0.4874 - acc: 0.7695\n"
          ],
          "name": "stdout"
        },
        {
          "output_type": "execute_result",
          "data": {
            "text/plain": [
              "<keras.callbacks.History at 0x7f83bbcc26d8>"
            ]
          },
          "metadata": {
            "tags": []
          },
          "execution_count": 19
        }
      ]
    },
    {
      "metadata": {
        "id": "kQurmxKiyvX0",
        "colab_type": "text"
      },
      "cell_type": "markdown",
      "source": [
        "# Helper Functions"
      ]
    },
    {
      "metadata": {
        "id": "QPAdf3DdzCf3",
        "colab_type": "code",
        "colab": {}
      },
      "cell_type": "code",
      "source": [
        "def img_crop(im, w, h, stride, padding):\n",
        "    \"\"\" Crop an image into patches, taking into account mirror boundary conditions. \"\"\"\n",
        "    assert len(im.shape) == 3, 'Expected RGB image.'\n",
        "    num_patches = int((im.shape[0]-w)*(im.shape[1]-h)/(stride*stride))\n",
        "    np_patches = np.ndarray((num_patches,w,h,3))\n",
        "    imgwidth = im.shape[0]\n",
        "    half_w = int(w/2)\n",
        "    half_h = int(h/2)\n",
        "    imgheight = im.shape[1]\n",
        "#     im = np.lib.pad(im, ((padding, padding), (padding, padding), (0,0)), 'reflect')\n",
        "    ind = 0\n",
        "    for i in range(int(padding+(h/2)),int(imgheight+padding-(h/2)),stride):\n",
        "        for j in range(int(padding+(w/2)),int(imgwidth+padding-(w/2)),stride):\n",
        "            im_patch = im[j-half_w-padding:j+half_w+padding, i-half_h-padding:i+half_h+padding, :]\n",
        "            np_patches[ind,:,:,:] = im_patch\n",
        "            ind = ind+1\n",
        "    return np_patches\n",
        "      \n",
        "def create_patches(X, patch_size, stride, padding):\n",
        "    img_patches = np.asarray([img_crop(X[i], patch_size, patch_size, stride, padding) for i in range(X.shape[0])])\n",
        "    # Linearize list\n",
        "    img_patches = img_patches.reshape(-1, img_patches.shape[2], img_patches.shape[3], img_patches.shape[4])\n",
        "    return img_patches\n",
        "  \n",
        "def load_mask(img,w,h,stride,padding):\n",
        "    list_patches = []\n",
        "    imgwidth = img.shape[0]\n",
        "    imgheight = img.shape[1]\n",
        "    for i in range(int(padding+(h/2)),int(imgheight+padding-(h/2)),stride):\n",
        "      for j in range(int(padding+(w/2)),int(imgwidth+padding-(w/2)),stride):\n",
        "        if img[j,i]>0.5:\n",
        "          list_patches.append(1)\n",
        "        else:\n",
        "          list_patches.append(0)\n",
        "    return list_patches"
      ],
      "execution_count": 0,
      "outputs": []
    },
    {
      "metadata": {
        "id": "FusisOg9yxxj",
        "colab_type": "code",
        "colab": {}
      },
      "cell_type": "code",
      "source": [
        "def load_image(fileName):\n",
        "    return mpimg.imread(fileName)\n",
        "  \n",
        "def load_gray_image(infilename):\n",
        "    img = cv2.imread(infilename)\n",
        "    gray = cv2.cvtColor(img, cv2.COLOR_RGB2GRAY)\n",
        "    resized_image = cv2.resize(gray, (72,72)) \n",
        "    return gray\n",
        "  \n",
        "def grey_scale_conversion(img):\n",
        "    new_img = np.zeros((img.shape[0],img.shape[1]))\n",
        "    for i in range(img.shape[0]):\n",
        "        for j in range(img.shape[1]):\n",
        "            if img[i,j,1] == 1.0:\n",
        "                new_img[i,j] = 1\n",
        "    return new_img\n",
        "  \n",
        "def grey_scale_conversion(img):\n",
        "    new_img = np.zeros((img.shape[0],img.shape[1]))\n",
        "    for i in range(img.shape[0]):\n",
        "        for j in range(img.shape[1]):\n",
        "            if img[i,j,1] == 1.0:\n",
        "                new_img[i,j] = 1\n",
        "    return new_img\n",
        "  \n",
        "\n",
        "def pad_image(data, padding):\n",
        "    \"\"\"\n",
        "    Extend the canvas of an image. Mirror boundary conditions are applied.\n",
        "    \"\"\"\n",
        "    if len(data.shape) < 3:\n",
        "        # Greyscale image (ground truth)\n",
        "        data = np.lib.pad(data, ((padding, padding), (padding, padding)), 'reflect')\n",
        "    else:\n",
        "        # RGB image\n",
        "        data = np.lib.pad(data, ((padding, padding), (padding, padding), (0,0)), 'reflect')\n",
        "    return data\n",
        "    \n",
        "def img_crop_gt(im, w, h, stride):\n",
        "    \"\"\" Crop an image into patches (this method is intended for ground truth images). \"\"\"\n",
        "    assert len(im.shape) == 2, 'Expected greyscale image.'\n",
        "    list_patches = []\n",
        "    imgwidth = im.shape[0]\n",
        "    imgheight = im.shape[1]\n",
        "    for i in range(0,imgheight,stride):\n",
        "        for j in range(0,imgwidth,stride):\n",
        "            im_patch = im[j:j+w, i:i+h]\n",
        "            list_patches.append(im_patch)\n",
        "    return list_patches\n",
        "    \n",
        "      \n",
        "    \n",
        "def create_patches_gt(X, patch_size, stride):\n",
        "    img_patches = np.asarray([img_crop_gt(X[i], patch_size, patch_size, stride) for i in range(X.shape[0])])\n",
        "    # Linearize list\n",
        "    img_patches = img_patches.reshape(-1, img_patches.shape[2], img_patches.shape[3])\n",
        "    return img_patches\n",
        "    \n",
        "def group_patches(patches, num_images):\n",
        "    return patches.reshape(num_images, -1)\n",
        "\n",
        "def extract_img_features(filename, stride):\n",
        "    img = load_image(filename)\n",
        "    img_patches = img_crop(img, patch_size, patch_size, stride, padding)\n",
        "    X = np.asarray([img_patches[i] for i in range(len(img_patches))])\n",
        "    return X\n",
        "\n",
        "def mask_to_submission_strings(model, image_filename):\n",
        "    \"\"\" Reads a single image and outputs the strings that should go into the submission file. \"\"\"\n",
        "    img_number = int(re.search(r\"\\d+\", image_filename).group(0))\n",
        "    Xi = load_image(image_filename)\n",
        "    Xi = Xi.reshape(1, Xi.shape[0], Xi.shape[1], Xi.shape[2])\n",
        "    Zi = model.classify(Xi)\n",
        "    Zi = Zi.reshape(-1)\n",
        "    patch_size = 16\n",
        "    nb = 0\n",
        "    print(\"Processing \" + image_filename)\n",
        "    for j in range(0, Xi.shape[2], patch_size):\n",
        "        for i in range(0, Xi.shape[1], patch_size):\n",
        "            label = int(Zi[nb])\n",
        "            nb += 1\n",
        "            yield(\"{:03d}_{}_{},{}\".format(img_number, j, i, label))"
      ],
      "execution_count": 0,
      "outputs": []
    }
  ]
}