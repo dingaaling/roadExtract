{
  "nbformat": 4,
  "nbformat_minor": 0,
  "metadata": {
    "colab": {
      "name": "cnn.ipynb",
      "version": "0.3.2",
      "provenance": []
    },
    "kernelspec": {
      "name": "python3",
      "display_name": "Python 3"
    },
    "accelerator": "GPU"
  },
  "cells": [
    {
      "cell_type": "markdown",
      "metadata": {
        "id": "view-in-github",
        "colab_type": "text"
      },
      "source": [
        "[View in Colaboratory](https://colab.research.google.com/github/dingaaling/roadExtract/blob/master/cnn.ipynb)"
      ]
    },
    {
      "metadata": {
        "id": "zxnQvWUOP3dH",
        "colab_type": "code",
        "colab": {
          "base_uri": "https://localhost:8080/",
          "height": 103
        },
        "outputId": "541c0568-5303-4bea-c8da-faf5ab9d4bb8"
      },
      "cell_type": "code",
      "source": [
        "!apt-get install -y -qq software-properties-common python-software-properties module-init-tools\n",
        "!add-apt-repository -y ppa:alessandro-strada/ppa 2>&1 > /dev/null\n",
        "!apt-get update -qq 2>&1 > /dev/null\n",
        "!apt-get -y install -qq google-drive-ocamlfuse fuse\n",
        "from google.colab import auth\n",
        "auth.authenticate_user()\n",
        "from oauth2client.client import GoogleCredentials\n",
        "creds = GoogleCredentials.get_application_default()\n",
        "import getpass\n",
        "!google-drive-ocamlfuse -headless -id={creds.client_id} -secret={creds.client_secret} < /dev/null 2>&1 | grep URL\n",
        "vcode = getpass.getpass()\n",
        "!echo {vcode} | google-drive-ocamlfuse -headless -id={creds.client_id} -secret={creds.client_secret}"
      ],
      "execution_count": 1,
      "outputs": [
        {
          "output_type": "stream",
          "text": [
            "Please, open the following URL in a web browser: https://accounts.google.com/o/oauth2/auth?client_id=32555940559.apps.googleusercontent.com&redirect_uri=urn%3Aietf%3Awg%3Aoauth%3A2.0%3Aoob&scope=https%3A%2F%2Fwww.googleapis.com%2Fauth%2Fdrive&response_type=code&access_type=offline&approval_prompt=force\r\n",
            "··········\n",
            "Please, open the following URL in a web browser: https://accounts.google.com/o/oauth2/auth?client_id=32555940559.apps.googleusercontent.com&redirect_uri=urn%3Aietf%3Awg%3Aoauth%3A2.0%3Aoob&scope=https%3A%2F%2Fwww.googleapis.com%2Fauth%2Fdrive&response_type=code&access_type=offline&approval_prompt=force\n",
            "Please enter the verification code: Access token retrieved correctly.\n"
          ],
          "name": "stdout"
        }
      ]
    },
    {
      "metadata": {
        "id": "0Y1m7GIcQCoG",
        "colab_type": "code",
        "colab": {
          "base_uri": "https://localhost:8080/",
          "height": 50
        },
        "outputId": "2adcbaa8-b0ac-4d5d-a845-6d9940017989"
      },
      "cell_type": "code",
      "source": [
        "!mkdir -p drive\n",
        "!google-drive-ocamlfuse drive"
      ],
      "execution_count": 1,
      "outputs": [
        {
          "output_type": "stream",
          "text": [
            "fuse: mountpoint is not empty\r\n",
            "fuse: if you are sure this is safe, use the 'nonempty' mount option\r\n"
          ],
          "name": "stdout"
        }
      ]
    },
    {
      "metadata": {
        "id": "GZbnbubeQDzn",
        "colab_type": "code",
        "colab": {
          "base_uri": "https://localhost:8080/",
          "height": 33
        },
        "outputId": "01b298bd-9d5b-47fa-b1bb-dc30b49884a9"
      },
      "cell_type": "code",
      "source": [
        "import os, cv2, sklearn, random\n",
        "import numpy as np\n",
        "import matplotlib.image as mpimg\n",
        "import matplotlib.pyplot as plt\n",
        "import keras\n",
        "from keras.models import Sequential, load_model\n",
        "from keras.layers import Dense, Dropout, Activation, Flatten\n",
        "from keras.layers import Conv2D, Convolution2D, MaxPooling2D\n",
        "from keras.optimizers import SGD, Adam\n",
        "from keras.utils import np_utils\n",
        "from keras import backend as K\n",
        "from keras.regularizers import l2\n",
        "from keras.layers import LeakyReLU\n",
        "from keras.callbacks import ReduceLROnPlateau, EarlyStopping\n",
        "from keras.utils import np_utils"
      ],
      "execution_count": 3,
      "outputs": [
        {
          "output_type": "stream",
          "text": [
            "Using TensorFlow backend.\n"
          ],
          "name": "stderr"
        }
      ]
    },
    {
      "metadata": {
        "id": "-_DFMVHhQFUm",
        "colab_type": "code",
        "colab": {}
      },
      "cell_type": "code",
      "source": [
        "root_dir = os.getcwd() + \"/drive/road_extract/data/sample/\"\n",
        "image_dir = root_dir + \"train_sample/\"\n",
        "mask_dir = root_dir + \"mask_sample/\"\n",
        "\n",
        "imgs_list, mask_imgs_list = [], []\n",
        "\n",
        "\n",
        "for i, im in enumerate(os.listdir(image_dir)):\n",
        "  if i < 200:\n",
        "    imPath = image_dir + im\n",
        "    maskPath = mask_dir + im.split('_')[0] + \"_mask.png\"\n",
        "\n",
        "    imgs_list.append(load_image(imPath))\n",
        "    mask_imgs_list.append(load_gray_image(maskPath))\n",
        "\n",
        "\n",
        "imgs = np.asarray(imgs_list)\n",
        "mask_imgs = np.asarray(mask_imgs_list)"
      ],
      "execution_count": 0,
      "outputs": []
    },
    {
      "metadata": {
        "id": "qANPYZmF0qh2",
        "colab_type": "code",
        "colab": {}
      },
      "cell_type": "code",
      "source": [
        "del imgs_list\n",
        "del mask_imgs_list"
      ],
      "execution_count": 0,
      "outputs": []
    },
    {
      "metadata": {
        "id": "lsWzDq0oxvrb",
        "colab_type": "code",
        "colab": {
          "base_uri": "https://localhost:8080/",
          "height": 50
        },
        "outputId": "b4daaf9e-ec3d-4b60-f9e3-0bc3bcb42c83"
      },
      "cell_type": "code",
      "source": [
        "print(imgs.shape)\n",
        "print(mask_imgs.shape)"
      ],
      "execution_count": 6,
      "outputs": [
        {
          "output_type": "stream",
          "text": [
            "(200, 1024, 1024, 3)\n",
            "(200, 1024, 1024)\n"
          ],
          "name": "stdout"
        }
      ]
    },
    {
      "metadata": {
        "id": "6AjiqH8-y5vH",
        "colab_type": "text"
      },
      "cell_type": "markdown",
      "source": [
        "# Create Array of Windows and Labels"
      ]
    },
    {
      "metadata": {
        "id": "Yx0qDPIvy9EG",
        "colab_type": "code",
        "colab": {}
      },
      "cell_type": "code",
      "source": [
        "patch_w, patch_h, patch_stride, patch_pad = 32, 32, 32, 0\n",
        "img_patches = img_crop(imgs[0],patch_w,patch_h,patch_stride,patch_pad)\n",
        "for i in range(1,imgs.shape[0]):\n",
        "  img_patches = np.concatenate((img_patches,img_crop(imgs[i],patch_w,patch_h,patch_stride,patch_pad)))\n",
        "X = img_patches\n",
        "Y = np.asarray([load_mask(mask_imgs[i],patch_w,patch_h,patch_stride,0) for i in range(mask_imgs.shape[0])])\n",
        "Y = np.reshape(Y,-1)"
      ],
      "execution_count": 0,
      "outputs": []
    },
    {
      "metadata": {
        "id": "qZ6tdMd4zUON",
        "colab_type": "code",
        "colab": {
          "base_uri": "https://localhost:8080/",
          "height": 66
        },
        "outputId": "74f46e03-e884-47e0-aea9-dbc95c3d2f35"
      },
      "cell_type": "code",
      "source": [
        "print(X.shape)\n",
        "print(Y.shape)\n",
        "print(sum(Y))"
      ],
      "execution_count": 8,
      "outputs": [
        {
          "output_type": "stream",
          "text": [
            "(192200, 32, 32, 3)\n",
            "(192200,)\n",
            "8835\n"
          ],
          "name": "stdout"
        }
      ]
    },
    {
      "metadata": {
        "id": "qFqoTC7g1Bfv",
        "colab_type": "code",
        "colab": {}
      },
      "cell_type": "code",
      "source": [
        "del img_patches\n",
        "del imgs\n",
        "del mask_imgs"
      ],
      "execution_count": 0,
      "outputs": []
    },
    {
      "metadata": {
        "id": "74gJy09tz3qM",
        "colab_type": "code",
        "colab": {}
      },
      "cell_type": "code",
      "source": [
        "Y_2d = np_utils.to_categorical(Y, num_classes=2)"
      ],
      "execution_count": 0,
      "outputs": []
    },
    {
      "metadata": {
        "id": "-RSTYPXkz7Vl",
        "colab_type": "code",
        "colab": {
          "base_uri": "https://localhost:8080/",
          "height": 82
        },
        "outputId": "68719d7c-d889-4770-c232-036678b79f9b"
      },
      "cell_type": "code",
      "source": [
        "X_road = np.zeros((np.count_nonzero(Y_2d[:,1]),X.shape[1],X.shape[2],X.shape[3]))\n",
        "Y_road_2d = np.zeros((np.count_nonzero(Y_2d[:,1]),Y_2d.shape[1]))\n",
        "X_nonroad = np.zeros(((X.shape[0]-np.count_nonzero(Y_2d[:,1])),X.shape[1],X.shape[2],X.shape[3]))\n",
        "Y_nonroad_2d = np.zeros(((X.shape[0]-np.count_nonzero(Y_2d[:,1])),Y_2d.shape[1]))\n",
        "print(X_road.shape)\n",
        "print(Y_road_2d.shape)\n",
        "print(X_nonroad.shape)\n",
        "print(Y_nonroad_2d.shape)\n",
        "road_ind = 0\n",
        "nonroad_ind = 0\n",
        "for i in range(X.shape[0]):\n",
        "  if Y[i]>0.5:\n",
        "    X_road[road_ind,:,:,:] = X[i,:,:,:]\n",
        "    Y_road_2d[road_ind,:] = Y_2d[i,:]\n",
        "    road_ind = road_ind+1\n",
        "  else:\n",
        "    X_nonroad[nonroad_ind,:,:,:] = X[i,:,:,:]\n",
        "    Y_nonroad_2d[nonroad_ind,:] = Y_2d[i,:]\n",
        "    nonroad_ind = nonroad_ind+1"
      ],
      "execution_count": 11,
      "outputs": [
        {
          "output_type": "stream",
          "text": [
            "(8835, 32, 32, 3)\n",
            "(8835, 2)\n",
            "(183365, 32, 32, 3)\n",
            "(183365, 2)\n"
          ],
          "name": "stdout"
        }
      ]
    },
    {
      "metadata": {
        "id": "OP44QdLh0B2q",
        "colab_type": "code",
        "colab": {}
      },
      "cell_type": "code",
      "source": [
        "X_nonroad_sample = np.zeros(X_road.shape)\n",
        "Y_2d_nonroad_sample = np.zeros(Y_road_2d.shape)\n",
        "rand_ind_nonroad = random.sample(np.ndarray.tolist(np.arange(X_nonroad.shape[0])),np.count_nonzero(Y_2d[:,1]))\n",
        "x_ind = 0\n",
        "y_ind = 0\n",
        "for ind in rand_ind_nonroad:\n",
        "  X_nonroad_sample[x_ind,:,:,:] = X_nonroad[ind,:,:,:]\n",
        "  Y_2d_nonroad_sample[y_ind,:] = Y_nonroad_2d[ind,:]\n",
        "  x_ind = x_ind+1\n",
        "  y_ind = y_ind+1"
      ],
      "execution_count": 0,
      "outputs": []
    },
    {
      "metadata": {
        "id": "gtfdttWI0Eaz",
        "colab_type": "code",
        "colab": {}
      },
      "cell_type": "code",
      "source": [
        "X_even = np.zeros((2*np.count_nonzero(Y_2d[:,1]),X.shape[1],X.shape[2],X.shape[3]))\n",
        "Y_even_2d = np.zeros((2*np.count_nonzero(Y_2d[:,1]),Y_2d.shape[1]))\n",
        "X_even[0:np.count_nonzero(Y_2d[:,1]),:,:,:] = X_road\n",
        "Y_even_2d[0:np.count_nonzero(Y_2d[:,1]),:] = Y_road_2d\n",
        "X_even[np.count_nonzero(Y_2d[:,1]):2*np.count_nonzero(Y_2d[:,1]),:,:,:] = X_nonroad_sample\n",
        "Y_even_2d[np.count_nonzero(Y_2d[:,1]):2*np.count_nonzero(Y_2d[:,1]),:] = Y_2d_nonroad_sample"
      ],
      "execution_count": 0,
      "outputs": []
    },
    {
      "metadata": {
        "id": "6aFhvHRf1PAa",
        "colab_type": "code",
        "colab": {}
      },
      "cell_type": "code",
      "source": [
        "del X, Y, X_road, Y_road_2d, X_nonroad, Y_nonroad_2d"
      ],
      "execution_count": 0,
      "outputs": []
    },
    {
      "metadata": {
        "id": "a80pkmUd2ZmN",
        "colab_type": "code",
        "colab": {
          "base_uri": "https://localhost:8080/",
          "height": 50
        },
        "outputId": "56412bb0-3c12-4d29-9bb7-c73abc5a2db5"
      },
      "cell_type": "code",
      "source": [
        "print(X_even.shape)\n",
        "print(Y_even_2d.shape)"
      ],
      "execution_count": 15,
      "outputs": [
        {
          "output_type": "stream",
          "text": [
            "(17670, 32, 32, 3)\n",
            "(17670, 2)\n"
          ],
          "name": "stdout"
        }
      ]
    },
    {
      "metadata": {
        "id": "iFjLDkEl1QK0",
        "colab_type": "text"
      },
      "cell_type": "markdown",
      "source": [
        "# CNN Model"
      ]
    },
    {
      "metadata": {
        "id": "3KGZFInF1SVE",
        "colab_type": "code",
        "colab": {
          "base_uri": "https://localhost:8080/",
          "height": 196
        },
        "outputId": "607dd746-7843-467d-dea0-c2b0c6657b1c"
      },
      "cell_type": "code",
      "source": [
        "pool_size = (2, 2)\n",
        "reg = 1e-6 # L2 regularization factor (used on weights, but not biases)\n",
        "nb_classes = 2\n",
        "\n",
        "model = Sequential()\n",
        "\n",
        "model.add(Convolution2D(64, 5, 5, # 64 5x5 filters\n",
        "                        border_mode='same',\n",
        "                        input_shape=(patch_w,patch_h, 3)))\n",
        "model.add(LeakyReLU(alpha=0.1))\n",
        "model.add(MaxPooling2D(pool_size=pool_size, border_mode='same'))\n",
        "model.add(Dropout(0.25))\n",
        "\n",
        "model.add(Convolution2D(128, 3, 3, # 128 3x3 filters\n",
        "                        border_mode='same'))\n",
        "model.add(LeakyReLU(alpha=0.1))\n",
        "model.add(MaxPooling2D(pool_size=pool_size, border_mode='same'))\n",
        "model.add(Dropout(0.25))\n",
        "\n",
        "model.add(Convolution2D(256, 3, 3, # 256 3x3 filters\n",
        "                        border_mode='same'))\n",
        "model.add(LeakyReLU(alpha=0.1))\n",
        "model.add(MaxPooling2D(pool_size=pool_size, border_mode='same'))\n",
        "model.add(Dropout(0.25))\n",
        "\n",
        "model.add(Flatten())\n",
        "model.add(Dense(128, W_regularizer=l2(reg))) # Fully connected layer (128 neurons)\n",
        "model.add(LeakyReLU(alpha=0.1))\n",
        "model.add(Dropout(0.5))\n",
        "\n",
        "model.add(Dense(nb_classes, W_regularizer=l2(reg)))\n",
        "model.add(Activation('softmax'))"
      ],
      "execution_count": 16,
      "outputs": [
        {
          "output_type": "stream",
          "text": [
            "/usr/local/lib/python3.6/dist-packages/ipykernel_launcher.py:9: UserWarning: Update your `Conv2D` call to the Keras 2 API: `Conv2D(64, (5, 5), input_shape=(32, 32, 3..., padding=\"same\")`\n",
            "  if __name__ == '__main__':\n",
            "/usr/local/lib/python3.6/dist-packages/ipykernel_launcher.py:11: UserWarning: Update your `MaxPooling2D` call to the Keras 2 API: `MaxPooling2D(pool_size=(2, 2), padding=\"same\")`\n",
            "  # This is added back by InteractiveShellApp.init_path()\n",
            "/usr/local/lib/python3.6/dist-packages/ipykernel_launcher.py:15: UserWarning: Update your `Conv2D` call to the Keras 2 API: `Conv2D(128, (3, 3), padding=\"same\")`\n",
            "  from ipykernel import kernelapp as app\n",
            "/usr/local/lib/python3.6/dist-packages/ipykernel_launcher.py:17: UserWarning: Update your `MaxPooling2D` call to the Keras 2 API: `MaxPooling2D(pool_size=(2, 2), padding=\"same\")`\n",
            "/usr/local/lib/python3.6/dist-packages/ipykernel_launcher.py:21: UserWarning: Update your `Conv2D` call to the Keras 2 API: `Conv2D(256, (3, 3), padding=\"same\")`\n",
            "/usr/local/lib/python3.6/dist-packages/ipykernel_launcher.py:23: UserWarning: Update your `MaxPooling2D` call to the Keras 2 API: `MaxPooling2D(pool_size=(2, 2), padding=\"same\")`\n",
            "/usr/local/lib/python3.6/dist-packages/ipykernel_launcher.py:27: UserWarning: Update your `Dense` call to the Keras 2 API: `Dense(128, kernel_regularizer=<keras.reg...)`\n",
            "/usr/local/lib/python3.6/dist-packages/ipykernel_launcher.py:31: UserWarning: Update your `Dense` call to the Keras 2 API: `Dense(2, kernel_regularizer=<keras.reg...)`\n"
          ],
          "name": "stderr"
        }
      ]
    },
    {
      "metadata": {
        "id": "S1fPJOZu1YD5",
        "colab_type": "code",
        "colab": {
          "base_uri": "https://localhost:8080/",
          "height": 716
        },
        "outputId": "946a5581-5065-4009-f204-43345ae70ab6"
      },
      "cell_type": "code",
      "source": [
        "model.summary()"
      ],
      "execution_count": 17,
      "outputs": [
        {
          "output_type": "stream",
          "text": [
            "_________________________________________________________________\n",
            "Layer (type)                 Output Shape              Param #   \n",
            "=================================================================\n",
            "conv2d_1 (Conv2D)            (None, 32, 32, 64)        4864      \n",
            "_________________________________________________________________\n",
            "leaky_re_lu_1 (LeakyReLU)    (None, 32, 32, 64)        0         \n",
            "_________________________________________________________________\n",
            "max_pooling2d_1 (MaxPooling2 (None, 16, 16, 64)        0         \n",
            "_________________________________________________________________\n",
            "dropout_1 (Dropout)          (None, 16, 16, 64)        0         \n",
            "_________________________________________________________________\n",
            "conv2d_2 (Conv2D)            (None, 16, 16, 128)       73856     \n",
            "_________________________________________________________________\n",
            "leaky_re_lu_2 (LeakyReLU)    (None, 16, 16, 128)       0         \n",
            "_________________________________________________________________\n",
            "max_pooling2d_2 (MaxPooling2 (None, 8, 8, 128)         0         \n",
            "_________________________________________________________________\n",
            "dropout_2 (Dropout)          (None, 8, 8, 128)         0         \n",
            "_________________________________________________________________\n",
            "conv2d_3 (Conv2D)            (None, 8, 8, 256)         295168    \n",
            "_________________________________________________________________\n",
            "leaky_re_lu_3 (LeakyReLU)    (None, 8, 8, 256)         0         \n",
            "_________________________________________________________________\n",
            "max_pooling2d_3 (MaxPooling2 (None, 4, 4, 256)         0         \n",
            "_________________________________________________________________\n",
            "dropout_3 (Dropout)          (None, 4, 4, 256)         0         \n",
            "_________________________________________________________________\n",
            "flatten_1 (Flatten)          (None, 4096)              0         \n",
            "_________________________________________________________________\n",
            "dense_1 (Dense)              (None, 128)               524416    \n",
            "_________________________________________________________________\n",
            "leaky_re_lu_4 (LeakyReLU)    (None, 128)               0         \n",
            "_________________________________________________________________\n",
            "dropout_4 (Dropout)          (None, 128)               0         \n",
            "_________________________________________________________________\n",
            "dense_2 (Dense)              (None, 2)                 258       \n",
            "_________________________________________________________________\n",
            "activation_1 (Activation)    (None, 2)                 0         \n",
            "=================================================================\n",
            "Total params: 898,562\n",
            "Trainable params: 898,562\n",
            "Non-trainable params: 0\n",
            "_________________________________________________________________\n"
          ],
          "name": "stdout"
        }
      ]
    },
    {
      "metadata": {
        "id": "Ig-OZZlV1abh",
        "colab_type": "code",
        "colab": {}
      },
      "cell_type": "code",
      "source": [
        "adam = Adam(lr=0.00001, beta_1=0.9, beta_2=0.999, epsilon=1e-08, decay=0.0)\n",
        "model.compile(optimizer=adam,loss='binary_crossentropy',metrics=['accuracy'])"
      ],
      "execution_count": 0,
      "outputs": []
    },
    {
      "metadata": {
        "id": "91IYl8Ig1hI0",
        "colab_type": "code",
        "colab": {
          "base_uri": "https://localhost:8080/",
          "height": 6533
        },
        "outputId": "e99de44e-4672-486d-dcb6-c2cb9249d76a"
      },
      "cell_type": "code",
      "source": [
        "model.fit(X_even,Y_even_2d, batch_size=128, epochs=200)"
      ],
      "execution_count": 19,
      "outputs": [
        {
          "output_type": "stream",
          "text": [
            "Epoch 1/200\n",
            "17670/17670 [==============================] - 10s 560us/step - loss: 6.8670 - acc: 0.5025\n",
            "Epoch 2/200\n",
            "17670/17670 [==============================] - 6s 352us/step - loss: 6.1798 - acc: 0.5198\n",
            "Epoch 3/200\n",
            "17670/17670 [==============================] - 6s 354us/step - loss: 5.0631 - acc: 0.5244\n",
            "Epoch 4/200\n",
            "17670/17670 [==============================] - 6s 354us/step - loss: 3.0822 - acc: 0.5423\n",
            "Epoch 5/200\n",
            "12160/17670 [===================>..........] - ETA: 1s - loss: 2.1806 - acc: 0.5521"
          ],
          "name": "stdout"
        },
        {
          "output_type": "stream",
          "text": [
            "17670/17670 [==============================] - 6s 350us/step - loss: 2.1215 - acc: 0.5508\n",
            "Epoch 6/200\n",
            "17670/17670 [==============================] - 6s 352us/step - loss: 1.7671 - acc: 0.5476\n",
            "Epoch 7/200\n",
            "17670/17670 [==============================] - 6s 349us/step - loss: 1.5000 - acc: 0.5611\n",
            "Epoch 8/200\n",
            "17670/17670 [==============================] - 6s 348us/step - loss: 1.2980 - acc: 0.5632\n",
            "Epoch 9/200\n",
            "16896/17670 [===========================>..] - ETA: 0s - loss: 1.1491 - acc: 0.5641"
          ],
          "name": "stdout"
        },
        {
          "output_type": "stream",
          "text": [
            "17670/17670 [==============================] - 6s 349us/step - loss: 1.1463 - acc: 0.5641\n",
            "Epoch 10/200\n",
            "17670/17670 [==============================] - 6s 348us/step - loss: 1.0593 - acc: 0.5699\n",
            "Epoch 11/200\n",
            "17670/17670 [==============================] - 6s 349us/step - loss: 0.9931 - acc: 0.5759\n",
            "Epoch 12/200\n",
            "17670/17670 [==============================] - 6s 345us/step - loss: 0.9253 - acc: 0.5835\n",
            "Epoch 13/200\n",
            "17152/17670 [============================>.] - ETA: 0s - loss: 0.8759 - acc: 0.5823"
          ],
          "name": "stdout"
        },
        {
          "output_type": "stream",
          "text": [
            "17670/17670 [==============================] - 6s 351us/step - loss: 0.8760 - acc: 0.5814\n",
            "Epoch 14/200\n",
            "17670/17670 [==============================] - 6s 348us/step - loss: 0.8504 - acc: 0.5879\n",
            "Epoch 15/200\n",
            "17670/17670 [==============================] - 6s 349us/step - loss: 0.8184 - acc: 0.5892\n",
            "Epoch 16/200\n",
            "17670/17670 [==============================] - 6s 352us/step - loss: 0.7954 - acc: 0.5954\n",
            "Epoch 17/200\n",
            "17664/17670 [============================>.] - ETA: 0s - loss: 0.7867 - acc: 0.5957"
          ],
          "name": "stdout"
        },
        {
          "output_type": "stream",
          "text": [
            "17670/17670 [==============================] - 6s 349us/step - loss: 0.7865 - acc: 0.5959\n",
            "Epoch 18/200\n",
            "17670/17670 [==============================] - 6s 354us/step - loss: 0.7553 - acc: 0.6062\n",
            "Epoch 19/200\n",
            "17670/17670 [==============================] - 6s 353us/step - loss: 0.7439 - acc: 0.6115\n",
            "Epoch 20/200\n",
            "17670/17670 [==============================] - 6s 351us/step - loss: 0.7307 - acc: 0.6140\n",
            "Epoch 21/200\n",
            "17670/17670 [==============================] - 6s 348us/step - loss: 0.7249 - acc: 0.6169\n"
          ],
          "name": "stdout"
        },
        {
          "output_type": "stream",
          "text": [
            "Epoch 22/200\n",
            "17670/17670 [==============================] - 6s 355us/step - loss: 0.7220 - acc: 0.6148\n",
            "Epoch 23/200\n",
            "17670/17670 [==============================] - 6s 349us/step - loss: 0.7036 - acc: 0.6218\n",
            "Epoch 24/200\n",
            "17670/17670 [==============================] - 6s 348us/step - loss: 0.6895 - acc: 0.6307\n",
            "Epoch 25/200\n",
            "17670/17670 [==============================] - 6s 348us/step - loss: 0.6920 - acc: 0.6249\n",
            "Epoch 26/200\n",
            "12672/17670 [====================>.........] - ETA: 1s - loss: 0.6743 - acc: 0.6375"
          ],
          "name": "stdout"
        },
        {
          "output_type": "stream",
          "text": [
            "17670/17670 [==============================] - 6s 349us/step - loss: 0.6785 - acc: 0.6379\n",
            "Epoch 27/200\n",
            "17670/17670 [==============================] - 6s 350us/step - loss: 0.6760 - acc: 0.6325\n",
            "Epoch 28/200\n",
            "17670/17670 [==============================] - 6s 355us/step - loss: 0.6671 - acc: 0.6478\n",
            "Epoch 29/200\n",
            "17670/17670 [==============================] - 6s 351us/step - loss: 0.6629 - acc: 0.6449\n",
            "Epoch 30/200\n",
            "16384/17670 [==========================>...] - ETA: 0s - loss: 0.6523 - acc: 0.6492"
          ],
          "name": "stdout"
        },
        {
          "output_type": "stream",
          "text": [
            "17670/17670 [==============================] - 6s 354us/step - loss: 0.6523 - acc: 0.6493\n",
            "Epoch 31/200\n",
            "17670/17670 [==============================] - 6s 352us/step - loss: 0.6543 - acc: 0.6503\n",
            "Epoch 32/200\n",
            "17670/17670 [==============================] - 6s 350us/step - loss: 0.6429 - acc: 0.6614\n",
            "Epoch 33/200\n",
            "17670/17670 [==============================] - 6s 351us/step - loss: 0.6454 - acc: 0.6590\n",
            "Epoch 34/200\n",
            "17024/17670 [===========================>..] - ETA: 0s - loss: 0.6434 - acc: 0.6626"
          ],
          "name": "stdout"
        },
        {
          "output_type": "stream",
          "text": [
            "17670/17670 [==============================] - 6s 351us/step - loss: 0.6429 - acc: 0.6628\n",
            "Epoch 35/200\n",
            "17670/17670 [==============================] - 6s 350us/step - loss: 0.6400 - acc: 0.6640\n",
            "Epoch 36/200\n",
            "17670/17670 [==============================] - 6s 353us/step - loss: 0.6273 - acc: 0.6665\n",
            "Epoch 37/200\n",
            "17670/17670 [==============================] - 6s 351us/step - loss: 0.6292 - acc: 0.6716\n",
            "Epoch 38/200\n",
            "17280/17670 [============================>.] - ETA: 0s - loss: 0.6178 - acc: 0.6771"
          ],
          "name": "stdout"
        },
        {
          "output_type": "stream",
          "text": [
            "17670/17670 [==============================] - 6s 352us/step - loss: 0.6184 - acc: 0.6767\n",
            "Epoch 39/200\n",
            "17670/17670 [==============================] - 6s 351us/step - loss: 0.6144 - acc: 0.6739\n",
            "Epoch 40/200\n",
            "17670/17670 [==============================] - 6s 350us/step - loss: 0.6117 - acc: 0.6823\n",
            "Epoch 41/200\n",
            "17670/17670 [==============================] - 6s 351us/step - loss: 0.6073 - acc: 0.6819\n",
            "Epoch 42/200\n",
            "17670/17670 [==============================] - 6s 345us/step - loss: 0.6038 - acc: 0.6924\n",
            "Epoch 43/200\n"
          ],
          "name": "stdout"
        },
        {
          "output_type": "stream",
          "text": [
            "17670/17670 [==============================] - 6s 347us/step - loss: 0.6012 - acc: 0.6904\n",
            "Epoch 44/200\n",
            "17670/17670 [==============================] - 6s 351us/step - loss: 0.5974 - acc: 0.6945\n",
            "Epoch 45/200\n",
            "17670/17670 [==============================] - 6s 349us/step - loss: 0.5924 - acc: 0.6934\n",
            "Epoch 46/200\n",
            "17670/17670 [==============================] - 6s 349us/step - loss: 0.5905 - acc: 0.6992\n",
            "Epoch 47/200\n",
            "15232/17670 [========================>.....] - ETA: 0s - loss: 0.5908 - acc: 0.7001"
          ],
          "name": "stdout"
        },
        {
          "output_type": "stream",
          "text": [
            "17670/17670 [==============================] - 6s 348us/step - loss: 0.5890 - acc: 0.6999\n",
            "Epoch 48/200\n",
            "17670/17670 [==============================] - 6s 350us/step - loss: 0.5831 - acc: 0.7059\n",
            "Epoch 49/200\n",
            "17670/17670 [==============================] - 6s 349us/step - loss: 0.5813 - acc: 0.7071\n",
            "Epoch 50/200\n",
            "17670/17670 [==============================] - 6s 352us/step - loss: 0.5809 - acc: 0.7025\n",
            "Epoch 51/200\n",
            "17408/17670 [============================>.] - ETA: 0s - loss: 0.5747 - acc: 0.7123"
          ],
          "name": "stdout"
        },
        {
          "output_type": "stream",
          "text": [
            "17670/17670 [==============================] - 6s 351us/step - loss: 0.5756 - acc: 0.7121\n",
            "Epoch 52/200\n",
            "17670/17670 [==============================] - 6s 352us/step - loss: 0.5776 - acc: 0.7092\n",
            "Epoch 53/200\n",
            "17670/17670 [==============================] - 6s 348us/step - loss: 0.5670 - acc: 0.7153\n",
            "Epoch 54/200\n",
            "17670/17670 [==============================] - 6s 352us/step - loss: 0.5673 - acc: 0.7160\n",
            "Epoch 55/200\n",
            "17670/17670 [==============================] - 6s 350us/step - loss: 0.5662 - acc: 0.7173\n"
          ],
          "name": "stdout"
        },
        {
          "output_type": "stream",
          "text": [
            "Epoch 56/200\n",
            "17670/17670 [==============================] - 6s 350us/step - loss: 0.5590 - acc: 0.7218\n",
            "Epoch 57/200\n",
            "17670/17670 [==============================] - 6s 350us/step - loss: 0.5574 - acc: 0.7244\n",
            "Epoch 58/200\n",
            "17670/17670 [==============================] - 6s 352us/step - loss: 0.5594 - acc: 0.7203\n",
            "Epoch 59/200\n",
            "17670/17670 [==============================] - 6s 353us/step - loss: 0.5571 - acc: 0.7246\n",
            "Epoch 60/200\n",
            "11648/17670 [==================>...........] - ETA: 2s - loss: 0.5515 - acc: 0.7252"
          ],
          "name": "stdout"
        },
        {
          "output_type": "stream",
          "text": [
            "17670/17670 [==============================] - 6s 355us/step - loss: 0.5493 - acc: 0.7265\n",
            "Epoch 61/200\n",
            "17670/17670 [==============================] - 6s 352us/step - loss: 0.5539 - acc: 0.7284\n",
            "Epoch 62/200\n",
            "17670/17670 [==============================] - 6s 348us/step - loss: 0.5488 - acc: 0.7282\n",
            "Epoch 63/200\n",
            "17670/17670 [==============================] - 6s 353us/step - loss: 0.5460 - acc: 0.7324\n",
            "Epoch 64/200\n",
            "16640/17670 [===========================>..] - ETA: 0s - loss: 0.5452 - acc: 0.7330"
          ],
          "name": "stdout"
        },
        {
          "output_type": "stream",
          "text": [
            "17670/17670 [==============================] - 6s 351us/step - loss: 0.5445 - acc: 0.7336\n",
            "Epoch 65/200\n",
            "17670/17670 [==============================] - 6s 350us/step - loss: 0.5460 - acc: 0.7324\n",
            "Epoch 66/200\n",
            "17670/17670 [==============================] - 6s 351us/step - loss: 0.5404 - acc: 0.7369\n",
            "Epoch 67/200\n",
            "17670/17670 [==============================] - 6s 352us/step - loss: 0.5384 - acc: 0.7376\n",
            "Epoch 68/200\n",
            "16768/17670 [===========================>..] - ETA: 0s - loss: 0.5373 - acc: 0.7371"
          ],
          "name": "stdout"
        },
        {
          "output_type": "stream",
          "text": [
            "17670/17670 [==============================] - 6s 353us/step - loss: 0.5370 - acc: 0.7372\n",
            "Epoch 69/200\n",
            "17670/17670 [==============================] - 6s 350us/step - loss: 0.5319 - acc: 0.7388\n",
            "Epoch 70/200\n",
            "17670/17670 [==============================] - 6s 352us/step - loss: 0.5330 - acc: 0.7388\n",
            "Epoch 71/200\n",
            "17670/17670 [==============================] - 6s 350us/step - loss: 0.5292 - acc: 0.7434\n",
            "Epoch 72/200\n",
            "17670/17670 [==============================] - 6s 352us/step - loss: 0.5293 - acc: 0.7428\n",
            "Epoch 73/200\n"
          ],
          "name": "stdout"
        },
        {
          "output_type": "stream",
          "text": [
            "17670/17670 [==============================] - 6s 354us/step - loss: 0.5320 - acc: 0.7423\n",
            "Epoch 74/200\n",
            "17670/17670 [==============================] - 6s 353us/step - loss: 0.5256 - acc: 0.7461\n",
            "Epoch 75/200\n",
            "17670/17670 [==============================] - 6s 352us/step - loss: 0.5228 - acc: 0.7465\n",
            "Epoch 76/200\n",
            "17670/17670 [==============================] - 6s 351us/step - loss: 0.5225 - acc: 0.7493\n",
            "Epoch 77/200\n",
            "14080/17670 [======================>.......] - ETA: 1s - loss: 0.5239 - acc: 0.7443"
          ],
          "name": "stdout"
        },
        {
          "output_type": "stream",
          "text": [
            "17670/17670 [==============================] - 6s 352us/step - loss: 0.5219 - acc: 0.7465\n",
            "Epoch 78/200\n",
            "17670/17670 [==============================] - 6s 350us/step - loss: 0.5236 - acc: 0.7479\n",
            "Epoch 79/200\n",
            "17670/17670 [==============================] - 6s 355us/step - loss: 0.5179 - acc: 0.7537\n",
            "Epoch 80/200\n",
            "17670/17670 [==============================] - 6s 352us/step - loss: 0.5146 - acc: 0.7486\n",
            "Epoch 81/200\n",
            "17152/17670 [============================>.] - ETA: 0s - loss: 0.5139 - acc: 0.7508"
          ],
          "name": "stdout"
        },
        {
          "output_type": "stream",
          "text": [
            "17670/17670 [==============================] - 6s 349us/step - loss: 0.5138 - acc: 0.7507\n",
            "Epoch 82/200\n",
            "17670/17670 [==============================] - 6s 351us/step - loss: 0.5143 - acc: 0.7522\n",
            "Epoch 83/200\n",
            "17670/17670 [==============================] - 6s 354us/step - loss: 0.5118 - acc: 0.7526\n",
            "Epoch 84/200\n",
            "17670/17670 [==============================] - 6s 349us/step - loss: 0.5133 - acc: 0.7552\n",
            "Epoch 85/200\n",
            "17536/17670 [============================>.] - ETA: 0s - loss: 0.5100 - acc: 0.7572"
          ],
          "name": "stdout"
        },
        {
          "output_type": "stream",
          "text": [
            "17670/17670 [==============================] - 6s 350us/step - loss: 0.5103 - acc: 0.7569\n",
            "Epoch 86/200\n",
            "17670/17670 [==============================] - 6s 353us/step - loss: 0.5045 - acc: 0.7559\n",
            "Epoch 87/200\n",
            "17670/17670 [==============================] - 6s 351us/step - loss: 0.5090 - acc: 0.7536\n",
            "Epoch 88/200\n",
            "17670/17670 [==============================] - 6s 353us/step - loss: 0.5069 - acc: 0.7582\n",
            "Epoch 89/200\n",
            "17670/17670 [==============================] - 6s 347us/step - loss: 0.5044 - acc: 0.7583\n",
            "Epoch 90/200\n",
            "  128/17670 [..............................] - ETA: 6s - loss: 0.6041 - acc: 0.6953"
          ],
          "name": "stdout"
        },
        {
          "output_type": "stream",
          "text": [
            "17670/17670 [==============================] - 6s 349us/step - loss: 0.5052 - acc: 0.7583\n",
            "Epoch 91/200\n",
            "17670/17670 [==============================] - 6s 352us/step - loss: 0.5026 - acc: 0.7616\n",
            "Epoch 92/200\n",
            "17670/17670 [==============================] - 6s 352us/step - loss: 0.4996 - acc: 0.7590\n",
            "Epoch 93/200\n",
            "17670/17670 [==============================] - 6s 353us/step - loss: 0.4992 - acc: 0.7615\n",
            "Epoch 94/200\n",
            "14592/17670 [=======================>......] - ETA: 1s - loss: 0.4954 - acc: 0.7623"
          ],
          "name": "stdout"
        },
        {
          "output_type": "stream",
          "text": [
            "17670/17670 [==============================] - 6s 350us/step - loss: 0.4976 - acc: 0.7600\n",
            "Epoch 95/200\n",
            "17670/17670 [==============================] - 6s 351us/step - loss: 0.4983 - acc: 0.7686\n",
            "Epoch 96/200\n",
            "17670/17670 [==============================] - 6s 356us/step - loss: 0.4933 - acc: 0.7651\n",
            "Epoch 97/200\n",
            "17670/17670 [==============================] - 6s 352us/step - loss: 0.4933 - acc: 0.7602\n",
            "Epoch 98/200\n",
            "17024/17670 [===========================>..] - ETA: 0s - loss: 0.4930 - acc: 0.7636"
          ],
          "name": "stdout"
        },
        {
          "output_type": "stream",
          "text": [
            "17670/17670 [==============================] - 6s 351us/step - loss: 0.4924 - acc: 0.7644\n",
            "Epoch 99/200\n",
            "17670/17670 [==============================] - 6s 352us/step - loss: 0.4929 - acc: 0.7635\n",
            "Epoch 100/200\n",
            "17670/17670 [==============================] - 6s 355us/step - loss: 0.4893 - acc: 0.7691\n",
            "Epoch 101/200\n",
            "17670/17670 [==============================] - 6s 353us/step - loss: 0.4909 - acc: 0.7659\n",
            "Epoch 102/200\n",
            "17280/17670 [============================>.] - ETA: 0s - loss: 0.4919 - acc: 0.7650"
          ],
          "name": "stdout"
        },
        {
          "output_type": "stream",
          "text": [
            "17670/17670 [==============================] - 6s 351us/step - loss: 0.4914 - acc: 0.7658\n",
            "Epoch 103/200\n",
            "17670/17670 [==============================] - 6s 350us/step - loss: 0.4898 - acc: 0.7647\n",
            "Epoch 104/200\n",
            "17670/17670 [==============================] - 6s 351us/step - loss: 0.4906 - acc: 0.7659\n",
            "Epoch 105/200\n",
            "17670/17670 [==============================] - 6s 349us/step - loss: 0.4884 - acc: 0.7666\n",
            "Epoch 106/200\n",
            "16896/17670 [===========================>..] - ETA: 0s - loss: 0.4875 - acc: 0.7662"
          ],
          "name": "stdout"
        },
        {
          "output_type": "stream",
          "text": [
            "17670/17670 [==============================] - 6s 352us/step - loss: 0.4877 - acc: 0.7666\n",
            "Epoch 107/200\n",
            "17670/17670 [==============================] - 6s 352us/step - loss: 0.4857 - acc: 0.7688\n",
            "Epoch 108/200\n",
            "17670/17670 [==============================] - 6s 352us/step - loss: 0.4884 - acc: 0.7681\n",
            "Epoch 109/200\n",
            "17670/17670 [==============================] - 6s 356us/step - loss: 0.4879 - acc: 0.7675\n",
            "Epoch 110/200\n",
            "16000/17670 [==========================>...] - ETA: 0s - loss: 0.4793 - acc: 0.7753"
          ],
          "name": "stdout"
        },
        {
          "output_type": "stream",
          "text": [
            "17670/17670 [==============================] - 6s 357us/step - loss: 0.4819 - acc: 0.7728\n",
            "Epoch 111/200\n",
            "17670/17670 [==============================] - 6s 353us/step - loss: 0.4837 - acc: 0.7732\n",
            "Epoch 112/200\n",
            "17670/17670 [==============================] - 6s 351us/step - loss: 0.4780 - acc: 0.7749\n",
            "Epoch 113/200\n",
            "17670/17670 [==============================] - 6s 351us/step - loss: 0.4808 - acc: 0.7710\n",
            "Epoch 114/200\n",
            "16000/17670 [==========================>...] - ETA: 0s - loss: 0.4761 - acc: 0.7760"
          ],
          "name": "stdout"
        },
        {
          "output_type": "stream",
          "text": [
            "17670/17670 [==============================] - 6s 353us/step - loss: 0.4769 - acc: 0.7748\n",
            "Epoch 115/200\n",
            "17670/17670 [==============================] - 6s 350us/step - loss: 0.4794 - acc: 0.7728\n",
            "Epoch 116/200\n",
            "17670/17670 [==============================] - 6s 349us/step - loss: 0.4772 - acc: 0.7728\n",
            "Epoch 117/200\n",
            "17670/17670 [==============================] - 6s 350us/step - loss: 0.4804 - acc: 0.7727\n",
            "Epoch 118/200\n",
            "17670/17670 [==============================] - 6s 354us/step - loss: 0.4754 - acc: 0.7762\n"
          ],
          "name": "stdout"
        },
        {
          "output_type": "stream",
          "text": [
            "Epoch 119/200\n",
            "17670/17670 [==============================] - 6s 351us/step - loss: 0.4751 - acc: 0.7756\n",
            "Epoch 120/200\n",
            "17670/17670 [==============================] - 6s 351us/step - loss: 0.4771 - acc: 0.7745\n",
            "Epoch 121/200\n",
            "17670/17670 [==============================] - 6s 353us/step - loss: 0.4747 - acc: 0.7772\n",
            "Epoch 122/200\n",
            "17670/17670 [==============================] - 6s 350us/step - loss: 0.4748 - acc: 0.7743\n",
            "Epoch 123/200\n",
            "12032/17670 [===================>..........] - ETA: 1s - loss: 0.4705 - acc: 0.7839"
          ],
          "name": "stdout"
        },
        {
          "output_type": "stream",
          "text": [
            "17670/17670 [==============================] - 6s 351us/step - loss: 0.4732 - acc: 0.7796\n",
            "Epoch 124/200\n",
            "17670/17670 [==============================] - 6s 349us/step - loss: 0.4699 - acc: 0.7776\n",
            "Epoch 125/200\n",
            "17670/17670 [==============================] - 6s 351us/step - loss: 0.4739 - acc: 0.7766\n",
            "Epoch 126/200\n",
            "17670/17670 [==============================] - 6s 349us/step - loss: 0.4690 - acc: 0.7782\n",
            "Epoch 127/200\n",
            "16384/17670 [==========================>...] - ETA: 0s - loss: 0.4668 - acc: 0.7793"
          ],
          "name": "stdout"
        },
        {
          "output_type": "stream",
          "text": [
            "17670/17670 [==============================] - 6s 354us/step - loss: 0.4667 - acc: 0.7789\n",
            "Epoch 128/200\n",
            "17670/17670 [==============================] - 6s 352us/step - loss: 0.4658 - acc: 0.7803\n",
            "Epoch 129/200\n",
            "17670/17670 [==============================] - 6s 352us/step - loss: 0.4674 - acc: 0.7786\n",
            "Epoch 130/200\n",
            "17670/17670 [==============================] - 6s 350us/step - loss: 0.4657 - acc: 0.7805\n",
            "Epoch 131/200\n",
            "17408/17670 [============================>.] - ETA: 0s - loss: 0.4688 - acc: 0.7771"
          ],
          "name": "stdout"
        },
        {
          "output_type": "stream",
          "text": [
            "17670/17670 [==============================] - 6s 349us/step - loss: 0.4683 - acc: 0.7776\n",
            "Epoch 132/200\n",
            "17670/17670 [==============================] - 6s 352us/step - loss: 0.4636 - acc: 0.7816\n",
            "Epoch 133/200\n",
            "17670/17670 [==============================] - 6s 351us/step - loss: 0.4627 - acc: 0.7809\n",
            "Epoch 134/200\n",
            "17670/17670 [==============================] - 6s 352us/step - loss: 0.4613 - acc: 0.7829\n",
            "Epoch 135/200\n",
            "16768/17670 [===========================>..] - ETA: 0s - loss: 0.4632 - acc: 0.7806"
          ],
          "name": "stdout"
        },
        {
          "output_type": "stream",
          "text": [
            "17670/17670 [==============================] - 6s 353us/step - loss: 0.4625 - acc: 0.7815\n",
            "Epoch 136/200\n",
            "17670/17670 [==============================] - 6s 355us/step - loss: 0.4595 - acc: 0.7823\n",
            "Epoch 137/200\n",
            "17670/17670 [==============================] - 6s 352us/step - loss: 0.4616 - acc: 0.7836\n",
            "Epoch 138/200\n",
            "17670/17670 [==============================] - 6s 353us/step - loss: 0.4601 - acc: 0.7831\n",
            "Epoch 139/200\n",
            "17280/17670 [============================>.] - ETA: 0s - loss: 0.4639 - acc: 0.7817"
          ],
          "name": "stdout"
        },
        {
          "output_type": "stream",
          "text": [
            "17670/17670 [==============================] - 6s 352us/step - loss: 0.4638 - acc: 0.7808\n",
            "Epoch 140/200\n",
            "17670/17670 [==============================] - 6s 354us/step - loss: 0.4605 - acc: 0.7818\n",
            "Epoch 141/200\n",
            "17670/17670 [==============================] - 6s 351us/step - loss: 0.4584 - acc: 0.7836\n",
            "Epoch 142/200\n",
            "17670/17670 [==============================] - 6s 352us/step - loss: 0.4584 - acc: 0.7846\n",
            "Epoch 143/200\n",
            "16768/17670 [===========================>..] - ETA: 0s - loss: 0.4567 - acc: 0.7853"
          ],
          "name": "stdout"
        },
        {
          "output_type": "stream",
          "text": [
            "17670/17670 [==============================] - 6s 352us/step - loss: 0.4557 - acc: 0.7847\n",
            "Epoch 144/200\n",
            "17670/17670 [==============================] - 6s 350us/step - loss: 0.4552 - acc: 0.7870\n",
            "Epoch 145/200\n",
            "17670/17670 [==============================] - 6s 354us/step - loss: 0.4503 - acc: 0.7922\n",
            "Epoch 146/200\n",
            "17670/17670 [==============================] - 6s 353us/step - loss: 0.4547 - acc: 0.7854\n",
            "Epoch 147/200\n",
            "17408/17670 [============================>.] - ETA: 0s - loss: 0.4556 - acc: 0.7857"
          ],
          "name": "stdout"
        },
        {
          "output_type": "stream",
          "text": [
            "17670/17670 [==============================] - 6s 350us/step - loss: 0.4556 - acc: 0.7856\n",
            "Epoch 148/200\n",
            "17670/17670 [==============================] - 6s 351us/step - loss: 0.4525 - acc: 0.7877\n",
            "Epoch 149/200\n",
            "17670/17670 [==============================] - 6s 350us/step - loss: 0.4516 - acc: 0.7877\n",
            "Epoch 150/200\n",
            "17670/17670 [==============================] - 6s 350us/step - loss: 0.4493 - acc: 0.7876\n",
            "Epoch 151/200\n",
            "17024/17670 [===========================>..] - ETA: 0s - loss: 0.4524 - acc: 0.7872"
          ],
          "name": "stdout"
        },
        {
          "output_type": "stream",
          "text": [
            "17670/17670 [==============================] - 6s 350us/step - loss: 0.4531 - acc: 0.7862\n",
            "Epoch 152/200\n",
            "17670/17670 [==============================] - 6s 353us/step - loss: 0.4509 - acc: 0.7904\n",
            "Epoch 153/200\n",
            "17670/17670 [==============================] - 6s 350us/step - loss: 0.4491 - acc: 0.7873\n",
            "Epoch 154/200\n",
            "17670/17670 [==============================] - 6s 349us/step - loss: 0.4489 - acc: 0.7915\n",
            "Epoch 155/200\n",
            "16640/17670 [===========================>..] - ETA: 0s - loss: 0.4407 - acc: 0.7952"
          ],
          "name": "stdout"
        },
        {
          "output_type": "stream",
          "text": [
            "17670/17670 [==============================] - 6s 349us/step - loss: 0.4404 - acc: 0.7955\n",
            "Epoch 156/200\n",
            "17670/17670 [==============================] - 6s 349us/step - loss: 0.4470 - acc: 0.7866\n",
            "Epoch 157/200\n",
            "17670/17670 [==============================] - 6s 350us/step - loss: 0.4429 - acc: 0.7934\n",
            "Epoch 158/200\n",
            "17670/17670 [==============================] - 6s 351us/step - loss: 0.4508 - acc: 0.7915\n",
            "Epoch 159/200\n",
            "17536/17670 [============================>.] - ETA: 0s - loss: 0.4419 - acc: 0.7948"
          ],
          "name": "stdout"
        },
        {
          "output_type": "stream",
          "text": [
            "\b\b\b\b\b\b\b\b\b\b\b\b\b\b\b\b\b\b\b\b\b\b\b\b\b\b\b\b\b\b\b\b\b\b\b\b\b\b\b\b\b\b\b\b\b\b\b\b\b\b\b\b\b\b\b\b\b\b\b\b\b\b\b\b\b\b\b\b\b\b\b\b\b\b\b\b\b\b\b\b\b\b\b\r17670/17670 [==============================] - 6s 350us/step - loss: 0.4418 - acc: 0.7949\n",
            "Epoch 160/200\n",
            "17670/17670 [==============================] - 6s 352us/step - loss: 0.4448 - acc: 0.7948\n",
            "Epoch 161/200\n",
            "17670/17670 [==============================] - 6s 349us/step - loss: 0.4413 - acc: 0.7945\n",
            "Epoch 162/200\n",
            "17670/17670 [==============================] - 6s 353us/step - loss: 0.4404 - acc: 0.7960\n",
            "Epoch 163/200\n",
            " 6400/17670 [=========>....................] - ETA: 3s - loss: 0.4397 - acc: 0.7956"
          ],
          "name": "stdout"
        },
        {
          "output_type": "stream",
          "text": [
            "17670/17670 [==============================] - 6s 351us/step - loss: 0.4420 - acc: 0.7967\n",
            "Epoch 164/200\n",
            "17670/17670 [==============================] - 6s 351us/step - loss: 0.4433 - acc: 0.7947\n",
            "Epoch 165/200\n",
            "17670/17670 [==============================] - 6s 349us/step - loss: 0.4430 - acc: 0.7936\n",
            "Epoch 166/200\n",
            "17670/17670 [==============================] - 6s 351us/step - loss: 0.4392 - acc: 0.7956\n",
            "Epoch 167/200\n",
            "15488/17670 [=========================>....] - ETA: 0s - loss: 0.4407 - acc: 0.7972"
          ],
          "name": "stdout"
        },
        {
          "output_type": "stream",
          "text": [
            "17670/17670 [==============================] - 6s 351us/step - loss: 0.4412 - acc: 0.7959\n",
            "Epoch 168/200\n",
            "17670/17670 [==============================] - 6s 354us/step - loss: 0.4383 - acc: 0.7947\n",
            "Epoch 169/200\n",
            "17670/17670 [==============================] - 6s 346us/step - loss: 0.4347 - acc: 0.7984\n",
            "Epoch 170/200\n",
            "17670/17670 [==============================] - 6s 349us/step - loss: 0.4412 - acc: 0.7947\n",
            "Epoch 171/200\n",
            "17280/17670 [============================>.] - ETA: 0s - loss: 0.4369 - acc: 0.7971"
          ],
          "name": "stdout"
        },
        {
          "output_type": "stream",
          "text": [
            "17670/17670 [==============================] - 6s 349us/step - loss: 0.4374 - acc: 0.7968\n",
            "Epoch 172/200\n",
            "17670/17670 [==============================] - 6s 354us/step - loss: 0.4347 - acc: 0.7967\n",
            "Epoch 173/200\n",
            "17670/17670 [==============================] - 6s 353us/step - loss: 0.4349 - acc: 0.7971\n",
            "Epoch 174/200\n",
            "17670/17670 [==============================] - 6s 352us/step - loss: 0.4307 - acc: 0.7985\n",
            "Epoch 175/200\n",
            "17408/17670 [============================>.] - ETA: 0s - loss: 0.4345 - acc: 0.7998"
          ],
          "name": "stdout"
        },
        {
          "output_type": "stream",
          "text": [
            "17670/17670 [==============================] - 6s 350us/step - loss: 0.4347 - acc: 0.7999\n",
            "Epoch 176/200\n",
            "17670/17670 [==============================] - 6s 350us/step - loss: 0.4327 - acc: 0.8037\n",
            "Epoch 177/200\n",
            "17670/17670 [==============================] - 6s 354us/step - loss: 0.4351 - acc: 0.7994\n",
            "Epoch 178/200\n",
            "17670/17670 [==============================] - 6s 352us/step - loss: 0.4301 - acc: 0.8014\n",
            "Epoch 179/200\n",
            "17152/17670 [============================>.] - ETA: 0s - loss: 0.4344 - acc: 0.7964"
          ],
          "name": "stdout"
        },
        {
          "output_type": "stream",
          "text": [
            "17670/17670 [==============================] - 6s 352us/step - loss: 0.4333 - acc: 0.7968\n",
            "Epoch 180/200\n",
            "17670/17670 [==============================] - 6s 350us/step - loss: 0.4330 - acc: 0.7972\n",
            "Epoch 181/200\n",
            "17670/17670 [==============================] - 6s 350us/step - loss: 0.4342 - acc: 0.7967\n",
            "Epoch 182/200\n",
            "17670/17670 [==============================] - 6s 350us/step - loss: 0.4320 - acc: 0.7988\n",
            "Epoch 183/200\n",
            "17408/17670 [============================>.] - ETA: 0s - loss: 0.4309 - acc: 0.7986"
          ],
          "name": "stdout"
        },
        {
          "output_type": "stream",
          "text": [
            "17670/17670 [==============================] - 6s 352us/step - loss: 0.4308 - acc: 0.7988\n",
            "Epoch 184/200\n",
            "17670/17670 [==============================] - 6s 354us/step - loss: 0.4306 - acc: 0.8010\n",
            "Epoch 185/200\n",
            "17670/17670 [==============================] - 6s 352us/step - loss: 0.4320 - acc: 0.8031\n",
            "Epoch 186/200\n",
            "17670/17670 [==============================] - 6s 351us/step - loss: 0.4278 - acc: 0.8014\n",
            "Epoch 187/200\n",
            "16768/17670 [===========================>..] - ETA: 0s - loss: 0.4264 - acc: 0.8009"
          ],
          "name": "stdout"
        },
        {
          "output_type": "stream",
          "text": [
            "17670/17670 [==============================] - 6s 352us/step - loss: 0.4252 - acc: 0.8007\n",
            "Epoch 188/200\n",
            "17670/17670 [==============================] - 6s 351us/step - loss: 0.4248 - acc: 0.8031\n",
            "Epoch 189/200\n",
            "17670/17670 [==============================] - 6s 351us/step - loss: 0.4263 - acc: 0.8024\n",
            "Epoch 190/200\n",
            "17670/17670 [==============================] - 6s 347us/step - loss: 0.4261 - acc: 0.8034\n",
            "Epoch 191/200\n",
            "17024/17670 [===========================>..] - ETA: 0s - loss: 0.4220 - acc: 0.8052"
          ],
          "name": "stdout"
        },
        {
          "output_type": "stream",
          "text": [
            "17670/17670 [==============================] - 6s 353us/step - loss: 0.4219 - acc: 0.8054\n",
            "Epoch 192/200\n",
            "17670/17670 [==============================] - 6s 351us/step - loss: 0.4221 - acc: 0.8065\n",
            "Epoch 193/200\n",
            "17670/17670 [==============================] - 6s 350us/step - loss: 0.4223 - acc: 0.8049\n",
            "Epoch 194/200\n",
            "17670/17670 [==============================] - 6s 351us/step - loss: 0.4234 - acc: 0.8058\n",
            "Epoch 195/200\n",
            "17670/17670 [==============================] - 6s 351us/step - loss: 0.4193 - acc: 0.8062\n"
          ],
          "name": "stdout"
        },
        {
          "output_type": "stream",
          "text": [
            "Epoch 196/200\n",
            "17670/17670 [==============================] - 6s 354us/step - loss: 0.4245 - acc: 0.8053\n",
            "Epoch 197/200\n",
            "17670/17670 [==============================] - 6s 350us/step - loss: 0.4211 - acc: 0.8072\n",
            "Epoch 198/200\n",
            "17670/17670 [==============================] - 6s 353us/step - loss: 0.4203 - acc: 0.8059\n",
            "Epoch 199/200\n",
            "17670/17670 [==============================] - 6s 352us/step - loss: 0.4213 - acc: 0.8050\n",
            "Epoch 200/200\n",
            "10880/17670 [=================>............] - ETA: 2s - loss: 0.4169 - acc: 0.8106"
          ],
          "name": "stdout"
        },
        {
          "output_type": "stream",
          "text": [
            "17670/17670 [==============================] - 6s 350us/step - loss: 0.4199 - acc: 0.8071\n"
          ],
          "name": "stdout"
        },
        {
          "output_type": "execute_result",
          "data": {
            "text/plain": [
              "<keras.callbacks.History at 0x7fbdc6e0b828>"
            ]
          },
          "metadata": {
            "tags": []
          },
          "execution_count": 19
        }
      ]
    },
    {
      "metadata": {
        "id": "kQurmxKiyvX0",
        "colab_type": "text"
      },
      "cell_type": "markdown",
      "source": [
        "# Helper Functions"
      ]
    },
    {
      "metadata": {
        "id": "QPAdf3DdzCf3",
        "colab_type": "code",
        "colab": {}
      },
      "cell_type": "code",
      "source": [
        "def img_crop(im, w, h, stride, padding):\n",
        "    \"\"\" Crop an image into patches, taking into account mirror boundary conditions. \"\"\"\n",
        "    assert len(im.shape) == 3, 'Expected RGB image.'\n",
        "    num_patches = int((im.shape[0]-w)*(im.shape[1]-h)/(stride*stride))\n",
        "    np_patches = np.ndarray((num_patches,w,h,3))\n",
        "    imgwidth = im.shape[0]\n",
        "    half_w = int(w/2)\n",
        "    half_h = int(h/2)\n",
        "    imgheight = im.shape[1]\n",
        "#     im = np.lib.pad(im, ((padding, padding), (padding, padding), (0,0)), 'reflect')\n",
        "    ind = 0\n",
        "    for i in range(int(padding+(h/2)),int(imgheight+padding-(h/2)),stride):\n",
        "        for j in range(int(padding+(w/2)),int(imgwidth+padding-(w/2)),stride):\n",
        "            im_patch = im[j-half_w-padding:j+half_w+padding, i-half_h-padding:i+half_h+padding, :]\n",
        "            np_patches[ind,:,:,:] = im_patch\n",
        "            ind = ind+1\n",
        "    return np_patches\n",
        "      \n",
        "def create_patches(X, patch_size, stride, padding):\n",
        "    img_patches = np.asarray([img_crop(X[i], patch_size, patch_size, stride, padding) for i in range(X.shape[0])])\n",
        "    # Linearize list\n",
        "    img_patches = img_patches.reshape(-1, img_patches.shape[2], img_patches.shape[3], img_patches.shape[4])\n",
        "    return img_patches\n",
        "  \n",
        "def load_mask(img,w,h,stride,padding):\n",
        "    list_patches = []\n",
        "    imgwidth = img.shape[0]\n",
        "    imgheight = img.shape[1]\n",
        "    for i in range(int(padding+(h/2)),int(imgheight+padding-(h/2)),stride):\n",
        "      for j in range(int(padding+(w/2)),int(imgwidth+padding-(w/2)),stride):\n",
        "        if img[j,i]>0.5:\n",
        "          list_patches.append(1)\n",
        "        else:\n",
        "          list_patches.append(0)\n",
        "    return list_patches"
      ],
      "execution_count": 0,
      "outputs": []
    },
    {
      "metadata": {
        "id": "FusisOg9yxxj",
        "colab_type": "code",
        "colab": {}
      },
      "cell_type": "code",
      "source": [
        "def load_image(fileName):\n",
        "    return mpimg.imread(fileName)\n",
        "  \n",
        "def load_gray_image(infilename):\n",
        "    img = cv2.imread(infilename)\n",
        "    gray = cv2.cvtColor(img, cv2.COLOR_RGB2GRAY)\n",
        "    resized_image = cv2.resize(gray, (72,72)) \n",
        "    return gray\n",
        "  \n",
        "def grey_scale_conversion(img):\n",
        "    new_img = np.zeros((img.shape[0],img.shape[1]))\n",
        "    for i in range(img.shape[0]):\n",
        "        for j in range(img.shape[1]):\n",
        "            if img[i,j,1] == 1.0:\n",
        "                new_img[i,j] = 1\n",
        "    return new_img\n",
        "  \n",
        "def grey_scale_conversion(img):\n",
        "    new_img = np.zeros((img.shape[0],img.shape[1]))\n",
        "    for i in range(img.shape[0]):\n",
        "        for j in range(img.shape[1]):\n",
        "            if img[i,j,1] == 1.0:\n",
        "                new_img[i,j] = 1\n",
        "    return new_img\n",
        "  \n",
        "\n",
        "def pad_image(data, padding):\n",
        "    \"\"\"\n",
        "    Extend the canvas of an image. Mirror boundary conditions are applied.\n",
        "    \"\"\"\n",
        "    if len(data.shape) < 3:\n",
        "        # Greyscale image (ground truth)\n",
        "        data = np.lib.pad(data, ((padding, padding), (padding, padding)), 'reflect')\n",
        "    else:\n",
        "        # RGB image\n",
        "        data = np.lib.pad(data, ((padding, padding), (padding, padding), (0,0)), 'reflect')\n",
        "    return data\n",
        "    \n",
        "def img_crop_gt(im, w, h, stride):\n",
        "    \"\"\" Crop an image into patches (this method is intended for ground truth images). \"\"\"\n",
        "    assert len(im.shape) == 2, 'Expected greyscale image.'\n",
        "    list_patches = []\n",
        "    imgwidth = im.shape[0]\n",
        "    imgheight = im.shape[1]\n",
        "    for i in range(0,imgheight,stride):\n",
        "        for j in range(0,imgwidth,stride):\n",
        "            im_patch = im[j:j+w, i:i+h]\n",
        "            list_patches.append(im_patch)\n",
        "    return list_patches\n",
        "    \n",
        "      \n",
        "    \n",
        "def create_patches_gt(X, patch_size, stride):\n",
        "    img_patches = np.asarray([img_crop_gt(X[i], patch_size, patch_size, stride) for i in range(X.shape[0])])\n",
        "    # Linearize list\n",
        "    img_patches = img_patches.reshape(-1, img_patches.shape[2], img_patches.shape[3])\n",
        "    return img_patches\n",
        "    \n",
        "def group_patches(patches, num_images):\n",
        "    return patches.reshape(num_images, -1)\n",
        "\n",
        "def extract_img_features(filename, stride):\n",
        "    img = load_image(filename)\n",
        "    img_patches = img_crop(img, patch_size, patch_size, stride, padding)\n",
        "    X = np.asarray([img_patches[i] for i in range(len(img_patches))])\n",
        "    return X"
      ],
      "execution_count": 0,
      "outputs": []
    }
  ]
}