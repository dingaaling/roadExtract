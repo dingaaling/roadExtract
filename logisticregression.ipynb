{
 "cells": [
  {
   "cell_type": "code",
   "execution_count": 43,
   "metadata": {
    "collapsed": true
   },
   "outputs": [],
   "source": [
    "import os\n",
    "import numpy as np\n",
    "import matplotlib.image as mpimg\n",
    "import matplotlib.pyplot as plt\n",
    "from PIL import Image\n",
    "from sklearn.preprocessing import PolynomialFeatures\n",
    "from sklearn import linear_model"
   ]
  },
  {
   "cell_type": "code",
   "execution_count": 98,
   "metadata": {
    "collapsed": true
   },
   "outputs": [],
   "source": [
    "def load_image(fileName):\n",
    "    return mpimg.imread(fileName)\n",
    "\n",
    "def grey_scale_conversion(img):\n",
    "    new_img = np.zeros((img.shape[0],img.shape[1]))\n",
    "    for i in range(img.shape[0]):\n",
    "        for j in range(img.shape[1]):\n",
    "            if img[i,j,1] == 1.0:\n",
    "                new_img[i,j] = 1\n",
    "    return new_img\n",
    "\n",
    "def display_image(fileName):\n",
    "    imgPlot = plt.imshow(fileName)\n",
    "    plt.show()\n",
    "\n",
    "def group_patches(patches, num_images):\n",
    "    return patches.reshape(num_images, -1)\n",
    "\n",
    "def feature_extract(imgPatch):\n",
    "\n",
    "    mean = np.mean(imgPatch, axis=(0,1))\n",
    "    std = np.std(imgPatch, axis=(0,1))\n",
    "    features = np.append(mean, std)\n",
    "    return features\n",
    "\n",
    "def poly_fit(X):\n",
    "    \"\"\"\n",
    "    Fit the dataset using a polynomial basis.\n",
    "    \"\"\"\n",
    "    poly = PolynomialFeatures(4, interaction_only=False)\n",
    "    return poly.fit_transform(X)\n",
    "\n",
    "def img_crop(img, w, h, stride, padding):\n",
    "\n",
    "    cropList = []\n",
    "\n",
    "    imgWidth, imgHeight =img.shape[0], img.shape[1]\n",
    "    img = np.lib.pad(img, ((padding, padding), (padding, padding), (0,0)), \"reflect\")\n",
    "\n",
    "    for i in range(padding,imgHeight+padding,stride):\n",
    "        for j in range(padding,imgWidth+padding,stride):\n",
    "            im_patch = img[j-padding:j+w+padding, i-padding:i+h+padding, :]\n",
    "            cropList.append(im_patch)\n",
    "    return cropList\n",
    "\n",
    "def img_crop_gt(im, w, h, stride):\n",
    "    \"\"\" Crop an image into patches (this method is intended for ground truth images). \"\"\"\n",
    "    assert len(im.shape) == 2, 'Expected greyscale image.'\n",
    "    list_patches = []\n",
    "    imgwidth = im.shape[0]\n",
    "    imgheight = im.shape[1]\n",
    "    for i in range(0,imgheight,stride):\n",
    "        for j in range(0,imgwidth,stride):\n",
    "            im_patch = im[j:j+w, i:i+h]\n",
    "            list_patches.append(im_patch)\n",
    "    return list_patches\n",
    "\n",
    "def value_to_class(v):\n",
    "    foreground_threshold = 0.25 # percentage of pixels > 1 required to assign a foreground label to a patch\n",
    "\n",
    "    df = np.sum(v)\n",
    "    if df > foreground_threshold:\n",
    "        return 1\n",
    "    else:\n",
    "        return 0\n",
    "        \n",
    "def train(Y, X):\n",
    "    \"\"\"\n",
    "    Train this model.\n",
    "    \"\"\"\n",
    "\n",
    "    foreground_threshold = 0.25 # percentage of pixels > 1 required to assign a foreground label to a patch\n",
    "\n",
    "    def value_to_class(v):\n",
    "        df = np.sum(v)\n",
    "        if df > foreground_threshold:\n",
    "            return 1\n",
    "        else:\n",
    "            return 0\n",
    "\n",
    "    # Extract patches from input images\n",
    "    img_patches = [img_crop(X[i], 16, 16, 3, 0) for i in range(X.shape[0])]\n",
    "    gt_patches = [img_crop_gt(grey_scale_conversion(Y[i]), 16, 16, 3) for i in range(X.shape[0])]\n",
    "\n",
    "    # Linearize list of patches\n",
    "    img_patches = np.asarray([img_patches[i][j] for i in range(len(img_patches)) for j in range(len(img_patches[i]))])\n",
    "    gt_patches =  np.asarray([gt_patches[i][j] for i in range(len(gt_patches)) for j in range(len(gt_patches[i]))])\n",
    "\n",
    "    X = np.asarray([feature_extract(img_patches[i]) for i in range(len(img_patches))])\n",
    "    Y = np.asarray([value_to_class(np.mean(gt_patches[i])) for i in range(len(gt_patches))])\n",
    "    \n",
    "    X = poly_fit(X)\n",
    "    print('start fitting')\n",
    "    logreg.fit(X, Y)\n",
    "\n",
    "    print('Training completed')\n",
    "\n",
    "\n",
    "def classify(X):\n",
    "    \"\"\"\n",
    "    Classify an unseen set of samples.\n",
    "    This method must be called after \"train\".\n",
    "    Returns a list of predictions.\n",
    "    \"\"\"\n",
    "    img_patches = [img_crop(X[i], 16, 16, 3, 0) for i in range(X.shape[0])]\n",
    "    img_patches = np.asarray([img_patches[i][j] for i in range(len(img_patches)) for j in range(len(img_patches[i]))])\n",
    "    X = np.asarray([feature_extract(img_patches[i]) for i in range(len(img_patches))])\n",
    "    X = poly_fit(X)\n",
    "    print('start predicting')\n",
    "    Z = logreg.predict(X)\n",
    "    # Regroup patches into images\n",
    "    print('prediction completed')\n",
    "    return group_patches(Z, X.shape[0])"
   ]
  },
  {
   "cell_type": "code",
   "execution_count": 90,
   "metadata": {},
   "outputs": [],
   "source": [
    "def create_patches(X, patch_size, stride, padding):\n",
    "    img_patches = np.asarray([img_crop(X[i], patch_size, patch_size, stride, padding) for i in range(X.shape[0])])\n",
    "    # Linearize list\n",
    "    img_patches = img_patches.reshape(-1, img_patches.shape[2], img_patches.shape[3], img_patches.shape[4])\n",
    "    return img_patches\n",
    "    \n",
    "def create_patches_gt(X, patch_size, stride):\n",
    "#     gt_patches = [img_crop_gt(grey_scale_conversion(Y[i]), 16, 16, 3) for i in range(X.shape[0])]\n",
    "#     gt_patches =  np.asarray([gt_patches[i][j] for i in range(len(gt_patches)) for j in range(len(gt_patches[i]))])\n",
    "    img_patches = np.asarray([img_crop_gt(grey_scale_conversion(X[i]), patch_size, patch_size, stride) for i in range(X.shape[0])])\n",
    "    # Linearize list\n",
    "    print(img_patches.shape)\n",
    "    img_patches = img_patches.reshape(-1)\n",
    "    print(img_patches.shape)\n",
    "    return img_patches"
   ]
  },
  {
   "cell_type": "code",
   "execution_count": 58,
   "metadata": {
    "collapsed": true
   },
   "outputs": [],
   "source": [
    "def get_classification_results(y, y_test):\n",
    "    \"\"\"\n",
    "    Get the ratio of correct answers.\n",
    "    \"\"\"\n",
    "    y = y.reshape(-1) # Linearize\n",
    "    y_test = y_test.reshape(-1) # Linearize\n",
    "    diff = y - y_test\n",
    "    correct = np.sum(diff == 0)\n",
    "    return correct / y_test.size\n",
    "\n"
   ]
  },
  {
   "cell_type": "markdown",
   "metadata": {},
   "source": [
    "# Train Logistic Regression Model"
   ]
  },
  {
   "cell_type": "code",
   "execution_count": 52,
   "metadata": {},
   "outputs": [
    {
     "name": "stdout",
     "output_type": "stream",
     "text": [
      "Loading 5 train images\n",
      "Loading 5 mask images\n",
      "start fitting\n",
      "Training completed\n"
     ]
    }
   ],
   "source": [
    "if __name__ == \"__main__\":\n",
    "    \n",
    "    \n",
    "    root_dir = os.getcwd() + \"/sample/\"\n",
    "    \n",
    "    image_dir = root_dir + \"train_sample/\"\n",
    "    files = os.listdir(image_dir)\n",
    "    n = len(files)\n",
    "    print(\"Loading \" + str(n) + \" train images\")\n",
    "    imgs = np.asarray([load_image(image_dir + files[i]) for i in range(n)])\n",
    "\n",
    "    mask_dir = root_dir + \"mask_sample/\"\n",
    "    files = os.listdir(mask_dir)\n",
    "    print(\"Loading \" + str(n) + \" mask images\")\n",
    "    mask_imgs = np.asarray([load_image(mask_dir + files[i]) for i in range(n)])\n",
    "    \n",
    "    logreg = linear_model.LogisticRegression(C=1e5)\n",
    "    train(mask_imgs, imgs)\n",
    "    \n"
   ]
  },
  {
   "cell_type": "markdown",
   "metadata": {},
   "source": [
    "# Test Image Prediction"
   ]
  },
  {
   "cell_type": "code",
   "execution_count": 104,
   "metadata": {},
   "outputs": [
    {
     "name": "stdout",
     "output_type": "stream",
     "text": [
      "start predicting\n",
      "prediction completed\n"
     ]
    }
   ],
   "source": [
    "root_dir = os.getcwd() + \"/data/road-train-2+valid/sample_valid/\"\n",
    "image_dir = root_dir + \"img/\"\n",
    "mask_dir = root_dir + \"mask/\"\n",
    "\n",
    "files = os.listdir(image_dir)\n",
    "test_imgs = np.asarray([load_image(image_dir + files[0])])\n",
    "files = os.listdir(mask_dir)\n",
    "test_mask = np.asarray([load_image(mask_dir + files[0])])\n",
    "Z = classify(test_imgs)\n"
   ]
  },
  {
   "cell_type": "markdown",
   "metadata": {},
   "source": [
    "# Evaluate Accuracy"
   ]
  },
  {
   "cell_type": "code",
   "execution_count": 105,
   "metadata": {},
   "outputs": [
    {
     "name": "stdout",
     "output_type": "stream",
     "text": [
      "0.9723590164495058\n"
     ]
    }
   ],
   "source": [
    "y_te = test_mask\n",
    "# img_patches_gt = create_patches_gt(y_te, 16, 3)\n",
    "# y_real = np.mean(img_patches_gt, axis=(1, 2)) > 0.25\n",
    "gt_patches = [img_crop_gt(grey_scale_conversion(y_te[i]), 16, 16, 3) for i in range(y_te.shape[0])]\n",
    "gt_patches =  np.asarray([gt_patches[i][j] for i in range(len(gt_patches)) for j in range(len(gt_patches[i]))])\n",
    "Y = np.asarray([value_to_class(np.mean(gt_patches[i])) for i in range(len(gt_patches))])\n",
    "result = get_classification_results(Y, Z) \n",
    "print(result)"
   ]
  },
  {
   "cell_type": "markdown",
   "metadata": {
    "collapsed": true
   },
   "source": [
    "# Compare results"
   ]
  },
  {
   "cell_type": "code",
   "execution_count": 40,
   "metadata": {},
   "outputs": [
    {
     "data": {
      "image/png": "[encoded data removed]",
      "text/plain": [
       "<matplotlib.figure.Figure at 0x10e38f160>"
      ]
     },
     "metadata": {},
     "output_type": "display_data"
    },
    {
     "data": {
      "image/png": "[encoded data removed]",
      "text/plain": [
       "<matplotlib.figure.Figure at 0x10e475668>"
      ]
     },
     "metadata": {},
     "output_type": "display_data"
    }
   ],
   "source": [
    "root_dir = os.getcwd() + \"/data/road-train-2+valid/sample/\"\n",
    "image_dir = root_dir + \"mask_sample/104_mask.png\"\n",
    "img = load_image(image_dir)\n",
    "\n",
    "new_img = grey_scale_conversion(img)\n",
    "plt.imshow(new_img)\n",
    "plt.show()\n",
    "plt.imshow(img)\n",
    "plt.show()"
   ]
  },
  {
   "cell_type": "code",
   "execution_count": null,
   "metadata": {
    "collapsed": true
   },
   "outputs": [],
   "source": []
  }
 ],
 "metadata": {
  "kernelspec": {
   "display_name": "Python 3",
   "language": "python",
   "name": "python3"
  },
  "language_info": {
   "codemirror_mode": {
    "name": "ipython",
    "version": 3
   },
   "file_extension": ".py",
   "mimetype": "text/x-python",
   "name": "python",
   "nbconvert_exporter": "python",
   "pygments_lexer": "ipython3",
   "version": "3.6.4"
  }
 },
 "nbformat": 4,
 "nbformat_minor": 2
}
